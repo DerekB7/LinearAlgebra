{
 "cells": [
  {
   "cell_type": "code",
   "execution_count": 2,
   "metadata": {},
   "outputs": [],
   "source": [
    "import sympy as sp"
   ]
  },
  {
   "cell_type": "code",
   "execution_count": 3,
   "metadata": {},
   "outputs": [],
   "source": [
    "a = sp.Symbol('a')\n",
    "b = sp.Symbol('b')\n",
    "c = sp.Symbol('c')\n",
    "d = sp.Symbol('d')\n",
    "\n",
    "x = 1 + 2* sp.I\n",
    "x /= 2\n",
    "x = sp.sqrt(x)  \n",
    "\n",
    "# to make well defined  \n",
    "# select top right quadrant  \n",
    "# https://www.wolframalpha.com/input/?i=sqrt%281%2F2+%2B+i%29\n",
    "# though either root works  \n",
    "\n",
    "y = 1 - 2* sp.I\n",
    "y /= 2\n",
    "y = sp.sqrt(y)  \n",
    "# similar idea with y  \n"
   ]
  },
  {
   "cell_type": "code",
   "execution_count": 4,
   "metadata": {},
   "outputs": [
    {
     "data": {
      "text/latex": [
       "$\\displaystyle \\left[\\begin{matrix}\\sqrt{\\frac{1}{2} + i} & - \\sqrt{\\frac{1}{2} - i}\\\\\\sqrt{\\frac{1}{2} - i} & \\sqrt{\\frac{1}{2} + i}\\end{matrix}\\right]$"
      ],
      "text/plain": [
       "Matrix([\n",
       "[sqrt(1/2 + I), -sqrt(1/2 - I)],\n",
       "[sqrt(1/2 - I),  sqrt(1/2 + I)]])"
      ]
     },
     "execution_count": 4,
     "metadata": {},
     "output_type": "execute_result"
    }
   ],
   "source": [
    "A = sp.Matrix([[x,-y], [y, x]])\n",
    "A"
   ]
  },
  {
   "cell_type": "code",
   "execution_count": 5,
   "metadata": {},
   "outputs": [
    {
     "data": {
      "text/latex": [
       "$\\displaystyle \\left[\\begin{matrix}1 & 0\\\\0 & 1\\end{matrix}\\right]$"
      ],
      "text/plain": [
       "Matrix([\n",
       "[1, 0],\n",
       "[0, 1]])"
      ]
     },
     "execution_count": 5,
     "metadata": {},
     "output_type": "execute_result"
    }
   ],
   "source": [
    "A.T*A"
   ]
  },
  {
   "cell_type": "markdown",
   "metadata": {},
   "source": [
    "ex **8.2.1**  \n",
    "$A:=  \\displaystyle \\left[\\begin{matrix}\\sqrt{\\frac{1}{2} + i} & - \\sqrt{\\frac{1}{2} - i}\\\\\\sqrt{\\frac{1}{2} - i} & \\sqrt{\\frac{1}{2} + i}\\end{matrix}\\right]$  \n",
    "\n",
    "(The choice of root is arbitrary and does not affect the outcome.  For concreteness in each case assume it is the root in the right quadrant.)  \n",
    "\n",
    "$A^T A = I$  \n",
    "$\\det\\big(A\\big) = 1$  and  \n",
    "$\\text{trace}\\big(A^2\\big) = 4i$  \n",
    "and this tells us one eigenvalue, $\\lambda_1$ must have modulus of $1 + \\delta$ for some $\\delta \\gt 0$  \n",
    "and given the determinant we know the other eigenvalue, $\\lambda_2$ has modulus $(1+\\delta)^{-1}\\lt 1$  \n",
    "\n",
    "where for $k$ large enough $\\big \\vert \\lambda_2 \\big \\vert^k  \\lt \\epsilon$ for any $\\epsilon \\in (0,1)$  \n",
    "or  $\\big(\\big \\vert \\lambda_2 \\big \\vert^k\\big)^{-1} = c \\gt \\epsilon^{-1}$  \n",
    "but    \n",
    "$\\lambda_1 \\lambda_2 = 1\\longrightarrow  \\big\\vert\\lambda_1\\big\\vert^k = \\big(\\big \\vert \\lambda_2 \\big \\vert^k\\big)^{-1} = c \\gt \\epsilon^{-1}$  \n",
    "i.e. $\\big\\vert\\lambda_1\\big\\vert^k$  may be made arbitrarily large by selecting large enough $k$  \n",
    "\n",
    "recalling that orthogonal matrices, even with scalars in $\\mathbb C$ *still* form a group, we see  \n",
    "$A^k$ is unbounded-- e.g. check the Frobenius norm or even the trace   \n"
   ]
  },
  {
   "cell_type": "markdown",
   "metadata": {},
   "source": [
    "**ex 8.1.2**  \n",
    "\n",
    "if $A \\in SP_n(\\mathbb R)$ then  \n",
    "$A^T\\left[\\begin{matrix}0 & -1\\\\1 & 0\\end{matrix}\\right]A=\\left[\\begin{matrix}0 & -1\\\\1 & 0\\end{matrix}\\right]$  \n",
    "taking determinants tells us  \n",
    "$\\det\\big(A\\big) \\in \\{-1,+1\\}$  \n",
    "(The starred ex 8.1.13 aims to show us that it in fact must be $+1$)  \n",
    "\n",
    "ex 8.1.11 tells us that in the special case of 2x2 matrices, matrices in $SP_2\\big(\\mathbb R\\big)$ are closed under multiplication by elementary matrices of the first type.  \n",
    "But elementary matrices of the first type generate all of $SL_2\\big(\\mathbb R\\big)$\n",
    "(see e.g. 'Artin_chp2_SLN_subgroup_generators.ipynb'), so we know  \n",
    "\n",
    "$SL_2\\big(\\mathbb R\\big) \\subset SP_2\\big(\\mathbb R\\big)$   \n",
    "\n",
    "Elementary matrices of the 3rd type, and in particular  \n",
    "$D: = \\left[\\begin{matrix}-1 & 0\\\\0 & 1\\end{matrix}\\right]$ \n",
    "generate the coset to $SL_2(\\mathbb R)$  with determinant $-1$ -- i.e. all 2 x 2 matrices with determinant -1.  Now suppose $A \\in SP_2(\\mathbb R)$ has determinant -1, that means  \n",
    "\n",
    "$A^T\\left[\\begin{matrix}0 & -1\\\\1 & 0\\end{matrix}\\right]A=\\left[\\begin{matrix}0 & -1\\\\1 & 0\\end{matrix}\\right]$ \n",
    "\n",
    "and \n",
    "$B: = DA \\in SL_2(\\mathbb R) \\subset SP_2(\\mathbb R)$  \n",
    "but  \n",
    "$B^T\\left[\\begin{matrix}0 & -1\\\\1 & 0\\end{matrix}\\right]B=D\\left[\\begin{matrix}0 & -1\\\\1 & 0\\end{matrix}\\right]D = \\left[\\begin{matrix}0 & 1\\\\-1 & 0\\end{matrix}\\right]\\neq \\left[\\begin{matrix}0 & -1\\\\1 & 0\\end{matrix}\\right]$  \n",
    "\n",
    "which would be a contradiction. So for the 2x2 case we know that it is also the case    \n",
    "$ SP_2\\big(\\mathbb R\\big) \\subset SL_2\\big(\\mathbb R\\big)$   \n",
    "i.e.  $ SP_2\\big(\\mathbb R\\big) = SL_2\\big(\\mathbb R\\big)$   \n",
    "\n",
    "as for the 4x4 case, consider  \n",
    "\n",
    "$A=\\left[\\begin{matrix}1 & 0 & 2 & 0\\\\0 & 1 & 0 & 0\\\\0 & 0 & 1 & 0\\\\0 & 0 & 0 & 1\\end{matrix}\\right]$  \n",
    "and $A\\in SL_4(\\mathbb R) \\not \\in SP_4(\\mathbb R)$  since   \n",
    "$A^TJA = \\left[\\begin{matrix}0 & 0 & 0 & 1\\\\0 & 0 & 1 & 0\\\\0 & -1 & 0 & 2\\\\-1 & 0 & -2 & 0\\end{matrix}\\right]$  \n",
    "\n",
    "**open problem / bug**  \n",
    "is the 4x4 counterexample $A$ not in the form  \n",
    "\n",
    "$A=\\left[\\begin{matrix} I_2 &  B \\\\ \\mathbf 0 &  I_2\\end{matrix}\\right]$  \n",
    "where  \n",
    "$B = \\left[\\begin{matrix}2 & 0 \\\\  0 & 0\\end{matrix}\\right]$  \n",
    "so $B = B^T$ and $A$ is in the form given by ex 8.1.11 so it should be in $SP_4(\\mathbb R)$  \n"
   ]
  },
  {
   "cell_type": "code",
   "execution_count": 69,
   "metadata": {},
   "outputs": [],
   "source": [
    "A = sp.Matrix([[1,0,2,0],[0,1,0,0],[0,0,1,0], [0,0,0,1]])  \n",
    "# A = sp.Matrix([[1,0,0,2],[0,1,0,0],[0,0,1,0], [0,0,0,1]])  \n",
    "J = sp.Matrix([[0,0,0,1],[0,0,1,0],[0,-1,0,0], [-1,0,0,0]])  \n"
   ]
  },
  {
   "cell_type": "code",
   "execution_count": 71,
   "metadata": {},
   "outputs": [
    {
     "data": {
      "text/latex": [
       "$\\displaystyle \\left[\\begin{matrix}0 & 0 & 0 & 1\\\\0 & 0 & 1 & 0\\\\0 & -1 & 0 & 2\\\\-1 & 0 & -2 & 0\\end{matrix}\\right]$"
      ],
      "text/plain": [
       "Matrix([\n",
       "[ 0,  0,  0, 1],\n",
       "[ 0,  0,  1, 0],\n",
       "[ 0, -1,  0, 2],\n",
       "[-1,  0, -2, 0]])"
      ]
     },
     "execution_count": 71,
     "metadata": {},
     "output_type": "execute_result"
    }
   ],
   "source": [
    "A.T @J@ A"
   ]
  },
  {
   "cell_type": "code",
   "execution_count": 72,
   "metadata": {},
   "outputs": [
    {
     "data": {
      "text/latex": [
       "$\\displaystyle \\left[\\begin{matrix}1 & 0 & 2 & 0\\\\0 & 1 & 0 & 0\\\\0 & 0 & 1 & 0\\\\0 & 0 & 0 & 1\\end{matrix}\\right]$"
      ],
      "text/plain": [
       "Matrix([\n",
       "[1, 0, 2, 0],\n",
       "[0, 1, 0, 0],\n",
       "[0, 0, 1, 0],\n",
       "[0, 0, 0, 1]])"
      ]
     },
     "execution_count": 72,
     "metadata": {},
     "output_type": "execute_result"
    }
   ],
   "source": [
    "A"
   ]
  },
  {
   "cell_type": "code",
   "execution_count": 73,
   "metadata": {},
   "outputs": [
    {
     "data": {
      "text/latex": [
       "$\\displaystyle \\left[\\begin{matrix}0 & 0 & 0 & 1\\\\0 & 0 & 1 & 0\\\\0 & -1 & 0 & 0\\\\-1 & 0 & 0 & 0\\end{matrix}\\right]$"
      ],
      "text/plain": [
       "Matrix([\n",
       "[ 0,  0, 0, 1],\n",
       "[ 0,  0, 1, 0],\n",
       "[ 0, -1, 0, 0],\n",
       "[-1,  0, 0, 0]])"
      ]
     },
     "execution_count": 73,
     "metadata": {},
     "output_type": "execute_result"
    }
   ],
   "source": [
    "J"
   ]
  },
  {
   "cell_type": "code",
   "execution_count": null,
   "metadata": {},
   "outputs": [],
   "source": []
  },
  {
   "cell_type": "markdown",
   "metadata": {},
   "source": [
    "**ex 8.1.5**  \n",
    "\n",
    "a matrix $P$ is orthogonal iff its columns form an orthonormal basis, i.e. \n",
    "\n",
    "$\\langle \\mathbf p_i, \\mathbf p_j\\rangle = \\mathbf p_i^T\\left[\\begin{matrix}\\mathbf I_{n-1} & 0\\\\0 & 1\\end{matrix}\\right]\\mathbf p_j= 1$ if $i=j$ and zero otherwise.  \n",
    "\n",
    "Putting all these relationships together, this reads  \n",
    "\n",
    "$P^TP = P^TIP =P^T \\left[\\begin{matrix}\\mathbf I_{n-1} & 0\\\\0 & 1\\end{matrix}\\right] P =  \\left[\\begin{matrix}\\mathbf I_{n-1} & 0\\\\0 & 1\\end{matrix}\\right] = I$  \n",
    "\n",
    "the idea is essentially the same with respect to the Lorentz Form, except we have an 'almost orthonormal' basis and we are no longer using the standard Euclidean (scalar) product but instead the Lorentz bilinear form  \n",
    "\n",
    "$\\langle \\mathbf p_i, \\mathbf p_j\\rangle = \\mathbf p_i^T\\left[\\begin{matrix}\\mathbf I_{n-1} & 0\\\\0 & -1\\end{matrix}\\right]\\mathbf p_j$  \n",
    "$= 1$ if $i=j\\leq n-1$,  \n",
    "$=-1$ if $i =j=n$  \n",
    "and zero otherwise.  \n",
    "\n",
    "Collecting all these relationships, this reads   \n",
    "$P^T  \\left[\\begin{matrix}\\mathbf I_{n-1} & 0\\\\0 & -1\\end{matrix}\\right] P =    \\left[\\begin{matrix}\\mathbf I_{n-1} & 0\\\\0 & -1\\end{matrix}\\right]$  \n",
    "\n",
    "note we can make an analogous claim for 'almost orthonormal' rows in $P$ as the above implies    \n",
    "$\\Big(P^T  \\left[\\begin{matrix}\\mathbf I_{n-1} & 0\\\\0 & -1\\end{matrix}\\right]\\Big)\\Big( P  \\left[\\begin{matrix}\\mathbf I_{n-1} & 0\\\\0 & -1\\end{matrix}\\right]\\Big) = \\mathbf I =  \\Big(P  \\left[\\begin{matrix}\\mathbf I_{n-1} & 0\\\\0 & -1\\end{matrix}\\right]\\Big)  \\Big(P^T\\left[\\begin{matrix}\\mathbf I_{n-1} & 0\\\\0 & -1\\end{matrix}\\right]\\Big)$  \n",
    "\n",
    "which implies  \n",
    "\n",
    "$P \\left[\\begin{matrix}\\mathbf I_{n-1} & 0\\\\0 & -1\\end{matrix}\\right] P^T =    \\left[\\begin{matrix}\\mathbf I_{n-1} & 0\\\\0 & -1\\end{matrix}\\right]$  \n",
    "\n",
    "where we make use of the fact that inverses commute and that  $\\left[\\begin{matrix}\\mathbf I_{n-1} & 0\\\\0 & -1\\end{matrix}\\right]$ is involutive  \n",
    "\n",
    "**remark:**  \n",
    "another way to view this problem is to start with a simple coordinate system for the Lorenz Form, using standard basis vectors    \n",
    "$\\langle \\mathbf e_i, \\mathbf e_j\\rangle = \\mathbf e_i^T\\left[\\begin{matrix}\\mathbf I_{n-1} & 0\\\\0 & -1\\end{matrix}\\right]\\mathbf e_j$   \n",
    "\n",
    "and any $ P$ that satisfies the stabilizer equation obeys   \n",
    "\n",
    "$\\langle P\\mathbf e_i, P\\mathbf e_j\\rangle = \\langle \\mathbf p_i, \\mathbf p_j\\rangle = \\mathbf p_i^T\\left[\\begin{matrix}\\mathbf I_{n-1} & 0\\\\0 & -1\\end{matrix}\\right]\\mathbf p_j = \\mathbf e_i^T\\mathbf P^T\\left[\\begin{matrix}\\mathbf I_{n-1} & 0\\\\0 & -1\\end{matrix}\\right]\\mathbf P\\mathbf e_j = \\mathbf e_i^T\\left[\\begin{matrix}\\mathbf I_{n-1} & 0\\\\0 & -1\\end{matrix}\\right]\\mathbf e_j= \\langle \\mathbf e_i, \\mathbf e_j\\rangle$     \n",
    "i.e.    \n",
    "$\\langle P\\mathbf e_i, P\\mathbf e_j\\rangle  = \\langle \\mathbf e_i, \\mathbf e_j\\rangle$  \n",
    "\n",
    "and the result then hold for arbitrary $\\mathbf v, \\mathbf w \\in V$ by making use of standard basis vectors, then change of basis via $ P$ and and pulling out the summations via bilinearity -- but cross terms are annihilated by orthogonality    \n",
    "\n",
    "This can be seen as a generalization of orthonormal change of basis (e.g. ref p.253, 5.3b in particular)  \n"
   ]
  },
  {
   "cell_type": "code",
   "execution_count": null,
   "metadata": {},
   "outputs": [],
   "source": []
  },
  {
   "cell_type": "markdown",
   "metadata": {},
   "source": [
    "**ex 8.1.6**  \n",
    "prove that $O_4$ and $O_{3,1}$ don't have a continuous isomorphism between the two   \n",
    "\n",
    "$D := \\left[\\begin{matrix}\\mathbf I_{n-1} & 0\\\\0 & -1\\end{matrix}\\right] $  \n",
    "\n",
    "in particular with $n=4$  \n",
    "\n",
    "\n",
    "**note:**  \n",
    "Since Householder matrices generate $O_n$ and are orthogonally similar to  $D$, it seems like there should be a more succinct proof of this result using conjugation  \n",
    "\n",
    "**remark:**  \n",
    "by focusing our line of attack on Householder matrices, which we know generate $O_n$ (see ex 7.3.9 in \"Artin_chp7.ipynb\") we can show a stronger claim: there can be no surjective homomorphism from $O_4$ to $O_{3,1}$ \n",
    "\n",
    "i.e. we don't need injectivity or continuity of the homomorphism that a continuous isomorphism implies-- these are used in optional finishes (2) and (3), but not used in finish (1)     \n",
    "\n",
    "**proof:**  \n",
    "select some Householder matrix $ H\\in O_n$ (again with $n =4$ for our problem) and   \n",
    "*suppose for a contradiction that a valid surjective homomorphism* $\\phi$ exists  \n",
    "\n",
    "$\\phi\\big(H\\big) = M$  \n",
    "where $M$ is involutary because  \n",
    "$M^2 = \\phi\\big(H\\big)^2  = \\phi\\big(H^2\\big) = \\phi\\big(I_n\\big)=I_n$   \n",
    "and   \n",
    "$MDM^T=D  $  \n",
    "Left multiplying by $M$, and right multiplying by $D$ we see      \n",
    "$DM^TD=M  $  \n",
    "\n",
    "this implies for $1\\leq j \\leq n-1$   \n",
    "$-m_{n,j}= m_{j,n}$ \n",
    "\n",
    "in blocked form we have  \n",
    "$M=\\left[\\begin{matrix} M'& \\mathbf m_n\\\\-\\mathbf m_n^T & \\alpha\\end{matrix}\\right]$  \n",
    "\n",
    "then  \n",
    "$ \\left[\\begin{matrix}\\mathbf I_{n-1} & 0\\\\0 & 1\\end{matrix}\\right] = I =M^2 = \\left[\\begin{matrix} (M')^2-\\mathbf m_n\\mathbf m_n^T & M'\\mathbf m_n\\\\-\\mathbf m_n^T M' & -\\mathbf m_n^T\\mathbf m_n + \\alpha^2\\end{matrix}\\right]$  \n",
    "\n",
    "however, since $\\mathbf m_n$ is in the kernel of $M'$ (as a bonus, it is the left nullspace too though only one of these is needed), then  \n",
    "$(M')^2-\\mathbf m_n\\mathbf m_n^T \\succ \\mathbf 0$ *iff*  $\\mathbf m_n = \\mathbf 0$  and $(M')^2-\\mathbf m_n\\mathbf m_n^T=\\mathbf I_{n-1}\\succ \\mathbf 0$ so we know $\\mathbf m_n = 0$  \n",
    "\n",
    "Thus  \n",
    "\n",
    "$\\phi\\big(H\\big) = M=\\left[\\begin{matrix} M'& \\mathbf 0\\\\\\mathbf 0 & \\alpha\\end{matrix}\\right]$    \n",
    "\n",
    "*various ways to finish*  \n",
    "\n",
    "\n",
    "1.) *generating a counter-example*  \n",
    "since the homomorphism is surjective and Householder matrices generate all of $O_n$, this combined with blocked multiplication implies  *all* of the Lorenz Group is in this block diagonal form, yet consider the matrix $B$, below (the matrix below was created by use of the equations from ex *8.1.7*)  \n",
    "$A: = \\left[\\begin{matrix}2 & \\sqrt{3}\\\\\\sqrt{3} & 2\\end{matrix}\\right]$  \n",
    "\n",
    "$B:=  \\left[\\begin{matrix}\\mathbf I_2 &  \\mathbf 0\\\\ \\mathbf 0 &A\\end{matrix}\\right]= \\left[\\begin{matrix}1 &  0&  0& 0\\\\ 0&1 & 0& 0 &\\\\  0 &  0&2 & \\sqrt{3} \\\\ 0 & 0& \\sqrt{3} & 2 \\end{matrix}\\right]$  \n",
    "and $B^TD B = D$  \n",
    "so $B \\in I_{3,1}$  \n",
    "but $B$ does not follow this blocked diagonal form, which is a contradiction  \n",
    "\n",
    "\n",
    "\n",
    "2.) *using injectivity*  \n",
    "$MDM^T = D$  \n",
    "evaluation of the blocked structure tells us that $M'$ is orthogonal, and $\\alpha \\in \\{-1,1\\}$  i.e. $M$ is orthogonal -- and since we are using generators, and orthogonal matrices form a group, we see that *all* matrices in the Lorenz Group are orthogonal in this blocked structure -- i.e. the Lorenz Group must be a subgroup of the Orthogonal Group.  A possible finish would be to use the First Isomorphism Theorem (p. 68 - 69) which implies that more than the Identity Matrix is in the kernel of our homomorphism, which contradicts the assumption that our homomorphism is injective.  \n",
    "\n",
    "\n",
    "3.) *using continuity*  \n",
    "using a hybrid of insights from (1) and (2), we can see that the Lorenz group has 4 connected components ($+1$ and $-1$ for $a$ and determinant of +1 and -1 for $M'$ where we inherit standard results about path connectivity for $\\text{n-1 x n-1}$ orthogonal matrices like $M'$) but $O_n$ has 2 connected components, hence hence our hypothesis that there is a continuous map (continuous homomorphism) from $O_n$ to the Lorenz Group generates a contradiction.  \n"
   ]
  },
  {
   "cell_type": "code",
   "execution_count": null,
   "metadata": {},
   "outputs": [],
   "source": []
  },
  {
   "cell_type": "markdown",
   "metadata": {},
   "source": [
    "**8.1.7**  \n",
    "Describe by equations the group $O_{1,1}$ -- i.e. 2x2 reflection group-- and show that it has 4 connected components  "
   ]
  },
  {
   "cell_type": "code",
   "execution_count": 4,
   "metadata": {},
   "outputs": [],
   "source": [
    "A = sp.Matrix([[a,b],[c,d]])\n",
    "D = sp.Matrix([[1,0],[0,-1]])\n",
    "# A.T*D*A"
   ]
  },
  {
   "cell_type": "markdown",
   "metadata": {},
   "source": [
    "$\\left[\\begin{matrix}1 & 0\\\\0 & -1\\end{matrix}\\right] = \\left[\\begin{matrix}a^{2} - c^{2} & a b - c d\\\\a b - c d & b^{2} - d^{2}\\end{matrix}\\right]$  \n",
    "\n",
    "**solution set:**    \n",
    "\n",
    "$a\\geq 1, a\\leq -1, d\\geq 1, d\\leq -1$  \n",
    "these are the 4 distinct connected components (2 choices for a, 2 choices for b).  \n",
    "sketching in the plane for various choices of $a$ and $d$ as domain choices, and the implied values of $b$ and $c$ is of interest    \n",
    "\n",
    "And in particular focus on a strict inequality case of the above. e.g. $a\\gt 1, d\\lt 1$  \n",
    "This would appear to allow exactly 2 choices for $b$ and 2 choices for $c$ (i.e. the above choices fix the modulus for b and c)   \n",
    "\n",
    "focusing on the off-diagonal, with fixed selections of $a$ and $d$ we see  \n",
    "$ab-cd =0 \\longrightarrow \\frac{ab}{c} =d$   \n",
    "which is to say for any selection of $b$ there is exactly one value of $d$\n",
    "(and we know $c\\neq 0$ since we focus on $\\vert a\\vert \\gt 1$-- the case when $\\vert a\\vert =1$ is immediate)  \n",
    "\n",
    "(there is probably a bit of work remaining to clarify that the determinant value of +1 or -1 is in fact maintained)  \n",
    "\n"
   ]
  },
  {
   "cell_type": "code",
   "execution_count": 56,
   "metadata": {},
   "outputs": [
    {
     "data": {
      "text/latex": [
       "$\\displaystyle \\left[\\begin{matrix}1 & 0\\\\0 & -1\\end{matrix}\\right]$"
      ],
      "text/plain": [
       "Matrix([\n",
       "[1,  0],\n",
       "[0, -1]])"
      ]
     },
     "execution_count": 56,
     "metadata": {},
     "output_type": "execute_result"
    }
   ],
   "source": [
    "# example calculations  \n",
    "B = sp.Matrix([[a,b],[c,d]])\n",
    "\n",
    "a_value = 2\n",
    "d_value = 2\n",
    "# if a and d do not have the same modulus... the result seems to break  \n",
    "\n",
    "B = B.subs(a, a_value)\n",
    "B = B.subs(d, d_value)\n",
    "# B[-1,-1] \n",
    "B\n",
    "# so  \n",
    "# ab - cd = 0 = 3b - 5c -> b= (5/3)c  and  using the negative determinant case  \n",
    "# -1 = ad - bc = 15- (5/3)c^2 -> 5/3 c^2 = 16,\n",
    "c_value_sq =  a_value**2 -1 \n",
    "# c_value = -sp.sqrt(c_value_sq)\n",
    "c_value = sp.sqrt(c_value_sq)\n",
    "\n",
    "b_value = c_value * d_value / a_value\n",
    "\n",
    "\n",
    "B = B.subs(c,c_value)\n",
    "B = B.subs(b, b_value)\n",
    "B * D * B.T\n"
   ]
  },
  {
   "cell_type": "code",
   "execution_count": 57,
   "metadata": {},
   "outputs": [
    {
     "data": {
      "text/latex": [
       "$\\displaystyle \\left[\\begin{matrix}2 & \\sqrt{3}\\\\\\sqrt{3} & 2\\end{matrix}\\right]$"
      ],
      "text/plain": [
       "Matrix([\n",
       "[      2, sqrt(3)],\n",
       "[sqrt(3),       2]])"
      ]
     },
     "execution_count": 57,
     "metadata": {},
     "output_type": "execute_result"
    }
   ],
   "source": [
    "B"
   ]
  },
  {
   "cell_type": "code",
   "execution_count": null,
   "metadata": {},
   "outputs": [],
   "source": []
  },
  {
   "cell_type": "code",
   "execution_count": 3,
   "metadata": {},
   "outputs": [],
   "source": [
    "import sympy as sp"
   ]
  },
  {
   "cell_type": "code",
   "execution_count": 7,
   "metadata": {},
   "outputs": [],
   "source": [
    "n = sp.Symbol('n', integer = True)\n",
    "\n",
    "# sympy has a lot of trouble with the zero matrix  \n",
    "\n",
    "A = sp.MatrixSymbol('A', n, n)\n",
    "M_prime = sp.MatrixSymbol('M_p' , n-1,n-1)\n",
    "m = sp.MatrixSymbol('m', n-1, n)\n",
    "M = sp.BlockMatrix([[ M_prime, m], [-m.T, 0]]) "
   ]
  },
  {
   "cell_type": "code",
   "execution_count": 11,
   "metadata": {},
   "outputs": [
    {
     "data": {
      "text/latex": [
       "$\\displaystyle \\left[\\begin{matrix}M_{p}^{2} - m m^{T} & M_{p} m\\\\- m^{T} M_{p} & - m^{T} m\\end{matrix}\\right]$"
      ],
      "text/plain": [
       "Matrix([\n",
       "[M_p**2 - m*m.T,  M_p*m],\n",
       "[      -m.T*M_p, -m.T*m]])"
      ]
     },
     "execution_count": 11,
     "metadata": {},
     "output_type": "execute_result"
    }
   ],
   "source": [
    "sp.block_collapse(M*M)"
   ]
  },
  {
   "cell_type": "code",
   "execution_count": null,
   "metadata": {},
   "outputs": [],
   "source": []
  },
  {
   "cell_type": "code",
   "execution_count": 5,
   "metadata": {},
   "outputs": [],
   "source": [
    "n = sp.Symbol('n', integer = True)\n",
    "\n",
    "# sympy has a lot of trouble with the zero matrix  \n",
    "\n",
    "A = sp.MatrixSymbol('A', n, n)\n",
    "B = sp.MatrixSymbol('B', n,n)\n",
    "C = sp.MatrixSymbol('C', n, n)\n",
    "D = sp.MatrixSymbol('D', n,n)\n",
    "\n",
    "Z = sp.MatrixSymbol('Z', n,n)\n",
    "# symplectic\n",
    "\n",
    "Zero = sp.ZeroMatrix(n,n)\n",
    "S = sp.BlockMatrix([[ sp.ZeroMatrix(n,n), sp.Identity(n)], [-sp.Identity(n), sp.ZeroMatrix(n,n)]])\n",
    "# S = sp.BlockMatrix([[ Z, sp.Identity(n)], [-sp.Identity(n), Z ]])\n",
    "S_t = sp.BlockMatrix([[ Z, -sp.Identity(n)], [sp.Identity(n), Z]])\n",
    "# sympy throws errors if we use S_t = S.T \n",
    "# some issue with the ZeroMatrix() and transposition "
   ]
  },
  {
   "cell_type": "code",
   "execution_count": 6,
   "metadata": {},
   "outputs": [
    {
     "data": {
      "text/latex": [
       "$\\displaystyle \\left[\\begin{matrix}\\left(\\mathbb{0}\\right)^{T} - \\mathbb{0} & \\mathbb{I} + \\mathbb{0} \\left(\\mathbb{0}\\right)^{T}\\\\- \\mathbb{I} - \\mathbb{0} & \\left(\\mathbb{0}\\right)^{T} - \\mathbb{0}\\end{matrix}\\right]$"
      ],
      "text/plain": [
       "Matrix([\n",
       "[   0.T - 0, I + 0*0.T],\n",
       "[-I - 0*0.T,   0.T - 0]])"
      ]
     },
     "execution_count": 6,
     "metadata": {},
     "output_type": "execute_result"
    }
   ],
   "source": [
    "M = S_t*S*S_t.T\n",
    "M_simplified = sp.block_collapse(M)\n",
    "M_simplified = M_simplified.subs(Z, Zero)\n",
    "sp.simplify(M_simplified)\n",
    "\n",
    "# note the result should be obvious, since they are all the same matrix except for rescaling by minus 1, and \n",
    "#S^2 = -I, so -S^3 = -S (-I) = S"
   ]
  },
  {
   "cell_type": "code",
   "execution_count": 8,
   "metadata": {},
   "outputs": [
    {
     "data": {
      "text/latex": [
       "$\\displaystyle \\left[\\begin{matrix}A \\mathbb{0} - \\mathbb{0} & \\mathbb{I} - \\mathbb{0}\\\\- \\mathbb{I} + \\left(\\mathbb{0}\\right)^{T} \\mathbb{0} & - \\left(A^{T}\\right)^{-1} \\mathbb{0} + \\left(\\mathbb{0}\\right)^{T} A^{-1}\\end{matrix}\\right]$"
      ],
      "text/plain": [
       "Matrix([\n",
       "[A*0 - 0.T*A.T,                  I - 0.T*0],\n",
       "[   -I + 0.T*0, -A.T**(-1)*0 + 0.T*A**(-1)]])"
      ]
     },
     "execution_count": 8,
     "metadata": {},
     "output_type": "execute_result"
    }
   ],
   "source": [
    "X = sp.BlockMatrix([[A.T,Z],\n",
    "                    [Z, A.inv()]])\n",
    "M = X.T*S*X\n",
    "M_simplified = sp.block_collapse(M)\n",
    "M_simplified = M_simplified.subs(Z, Zero)\n",
    "sp.simplify(M_simplified)\n"
   ]
  },
  {
   "cell_type": "code",
   "execution_count": 60,
   "metadata": {},
   "outputs": [
    {
     "data": {
      "text/latex": [
       "$\\displaystyle \\left[\\begin{matrix}- \\left(\\mathbb{0}\\right)^{T} + \\mathbb{0} & \\mathbb{I} - \\mathbb{0}\\\\- \\mathbb{I} + B^{T} \\mathbb{0} & - B + B^{T}\\end{matrix}\\right]$"
      ],
      "text/plain": [
       "Matrix([\n",
       "[  -0.T + 0, I - 0.T*B],\n",
       "[-I + B.T*0,  -B + B.T]])"
      ]
     },
     "execution_count": 60,
     "metadata": {},
     "output_type": "execute_result"
    }
   ],
   "source": [
    "X = sp.BlockMatrix([[sp.Identity(n),B],\n",
    "                    [Z, sp.Identity(n)]])\n",
    "M = X.T*S*X\n",
    "M_simplified = sp.block_collapse(M)\n",
    "M_simplified = M_simplified.subs(Z, Zero)\n",
    "sp.simplify(M_simplified)\n"
   ]
  },
  {
   "cell_type": "markdown",
   "metadata": {},
   "source": [
    "*additional misc calculations are below*  "
   ]
  },
  {
   "cell_type": "code",
   "execution_count": 20,
   "metadata": {},
   "outputs": [
    {
     "data": {
      "text/latex": [
       "$\\displaystyle \\left[\\begin{matrix}\\left(\\mathbb{I} - \\mathbb{0}\\right)^{-1} & - B \\left(\\mathbb{I} - \\mathbb{0}\\right)^{-1}\\\\- \\left(\\mathbb{I} - \\mathbb{0}\\right)^{-1} \\mathbb{0} & \\left(\\mathbb{I} - \\mathbb{0}\\right)^{-1}\\end{matrix}\\right]$"
      ],
      "text/plain": [
       "Matrix([\n",
       "[   (I - B*0)**(-1), -B*(I - 0*B)**(-1)],\n",
       "[-(I - 0*B)**(-1)*0,    (I - 0*B)**(-1)]])"
      ]
     },
     "execution_count": 20,
     "metadata": {},
     "output_type": "execute_result"
    }
   ],
   "source": [
    "M = X.inv()\n",
    "M_simplified = sp.block_collapse(M)\n",
    "\n",
    "M_simplified = M_simplified.subs(Z, Zero)\n",
    "sp.simplify(M_simplified)\n"
   ]
  },
  {
   "cell_type": "code",
   "execution_count": 31,
   "metadata": {},
   "outputs": [
    {
     "name": "stdout",
     "output_type": "stream",
     "text": [
      "\\left[\\begin{matrix}\\left(\\mathbb{0}\\right)^{T} - \\mathbb{0} & \\mathbb{I} + \\mathbb{0} \\left(\\mathbb{0}\\right)^{T}\\\\- \\mathbb{I} - \\mathbb{0} & \\left(\\mathbb{0}\\right)^{T} - \\mathbb{0}\\end{matrix}\\right]\n",
      "\\left[\\begin{matrix}A \\mathbb{0} - \\mathbb{0} & \\mathbb{I} - \\mathbb{0}\\\\- \\mathbb{I} + \\left(\\mathbb{0}\\right)^{T} \\mathbb{0} & - \\left(A^{T}\\right)^{-1} \\mathbb{0} + \\left(\\mathbb{0}\\right)^{T} A^{-1}\\end{matrix}\\right]\n",
      "\\left[\\begin{matrix}- \\left(\\mathbb{0}\\right)^{T} + \\mathbb{0} & \\mathbb{I} - \\mathbb{0}\\\\- \\mathbb{I} + B^{T} \\mathbb{0} & - B + B^{T}\\end{matrix}\\right]\n"
     ]
    }
   ],
   "source": [
    "x_list = [S_t.T, sp.BlockMatrix([[A.T,Z], [Z, A.inv()]]) , sp.BlockMatrix([[sp.Identity(n),B],\n",
    "                    [Z, sp.Identity(n)]])]\n",
    "y_list = x_list[:]\n",
    "\n",
    "result_list = []\n",
    "for X in x_list:                                 \n",
    "    M = X.T*S*X\n",
    "    M_simplified = sp.block_collapse(M)\n",
    "    M_simplified = M_simplified.subs(Z, Zero)\n",
    "    print(sp.latex(sp.simplify(M_simplified)))\n"
   ]
  },
  {
   "cell_type": "markdown",
   "metadata": {},
   "source": [
    "$\\left[\\begin{matrix}\\left(\\mathbb{0}\\right)^{T} - \\mathbb{0} & \\mathbb{I} + \\mathbb{0} \\left(\\mathbb{0}\\right)^{T}\\\\- \\mathbb{I} - \\mathbb{0} & \\left(\\mathbb{0}\\right)^{T} - \\mathbb{0}\\end{matrix}\\right]\n",
    "\\left[\\begin{matrix}A \\mathbb{0} - \\mathbb{0} & \\mathbb{I} - \\mathbb{0}\\\\- \\mathbb{I} + \\left(\\mathbb{0}\\right)^{T} \\mathbb{0} & - \\left(A^{T}\\right)^{-1} \\mathbb{0} + \\left(\\mathbb{0}\\right)^{T} A^{-1}\\end{matrix}\\right]\n",
    "\\left[\\begin{matrix}- \\left(\\mathbb{0}\\right)^{T} + \\mathbb{0} & \\mathbb{I} - \\mathbb{0}\\\\- \\mathbb{I} + B^{T} \\mathbb{0} & - B + B^{T}\\end{matrix}\\right]$"
   ]
  },
  {
   "cell_type": "code",
   "execution_count": 40,
   "metadata": {},
   "outputs": [
    {
     "name": "stdout",
     "output_type": "stream",
     "text": [
      "\\left[\\begin{matrix}A^{T} \\left(\\mathbb{0}\\right)^{T} - \\mathbb{0} & A^{T} + \\mathbb{0} \\left(\\mathbb{0}\\right)^{T}\\\\- A^{-1} + \\mathbb{0} \\left(\\mathbb{0}\\right)^{T} & A^{-1} \\left(\\mathbb{0}\\right)^{T} + \\mathbb{0}\\end{matrix}\\right]\n",
      "\\left[\\begin{matrix}- B + \\left(\\mathbb{0}\\right)^{T} & \\mathbb{I} + B \\left(\\mathbb{0}\\right)^{T}\\\\- \\mathbb{I} + \\mathbb{0} \\left(\\mathbb{0}\\right)^{T} & \\left(\\mathbb{0}\\right)^{T} + \\mathbb{0}\\end{matrix}\\right]\n",
      "\\left[\\begin{matrix}\\left(\\mathbb{0}\\right)^{T} A^{T} + \\mathbb{0} & A^{-1} + \\left(\\mathbb{0}\\right)^{T} \\mathbb{0}\\\\- A^{T} + \\left(\\mathbb{0}\\right)^{T} \\mathbb{0} & \\left(\\mathbb{0}\\right)^{T} A^{-1} - \\mathbb{0}\\end{matrix}\\right]\n",
      "\\left[\\begin{matrix}B \\mathbb{0} + A^{T} & B A^{-1} + \\mathbb{0}\\\\\\mathbb{0} + \\mathbb{0} A^{T} & A^{-1} + \\left(\\mathbb{0}\\right)^{2}\\end{matrix}\\right]\n",
      "\\left[\\begin{matrix}\\left(\\mathbb{0}\\right)^{T} + \\mathbb{0} & \\mathbb{I} + \\left(\\mathbb{0}\\right)^{T} B\\\\- \\mathbb{I} + \\left(\\mathbb{0}\\right)^{T} \\mathbb{0} & - B + \\left(\\mathbb{0}\\right)^{T}\\end{matrix}\\right]\n",
      "\\left[\\begin{matrix}\\left(\\mathbb{0}\\right)^{2} + A^{T} & A^{T} B + \\mathbb{0}\\\\A^{-1} \\mathbb{0} + \\mathbb{0} & A^{-1} + \\mathbb{0} B\\end{matrix}\\right]\n"
     ]
    }
   ],
   "source": [
    "for X in x_list:\n",
    "    for Y in y_list:\n",
    "        if X == Y:\n",
    "            continue\n",
    "        M = Y*X\n",
    "        M_simplified = sp.block_collapse(M)\n",
    "        M_simplified = M_simplified.subs(Z, Zero)\n",
    "        print(sp.latex(sp.simplify(M_simplified)))\n",
    "        \n"
   ]
  },
  {
   "cell_type": "markdown",
   "metadata": {},
   "source": [
    "$\\left[\\begin{matrix}A^{T} \\left(\\mathbb{0}\\right)^{T} - \\mathbb{0} & A^{T} + \\mathbb{0} \\left(\\mathbb{0}\\right)^{T}\\\\- A^{-1} + \\mathbb{0} \\left(\\mathbb{0}\\right)^{T} & A^{-1} \\left(\\mathbb{0}\\right)^{T} + \\mathbb{0}\\end{matrix}\\right]\n",
    "\\left[\\begin{matrix}- B + \\left(\\mathbb{0}\\right)^{T} & \\mathbb{I} + B \\left(\\mathbb{0}\\right)^{T}\\\\- \\mathbb{I} + \\mathbb{0} \\left(\\mathbb{0}\\right)^{T} & \\left(\\mathbb{0}\\right)^{T} + \\mathbb{0}\\end{matrix}\\right]\n",
    "\\left[\\begin{matrix}\\left(\\mathbb{0}\\right)^{T} A^{T} + \\mathbb{0} & A^{-1} + \\left(\\mathbb{0}\\right)^{T} \\mathbb{0}\\\\- A^{T} + \\left(\\mathbb{0}\\right)^{T} \\mathbb{0} & \\left(\\mathbb{0}\\right)^{T} A^{-1} - \\mathbb{0}\\end{matrix}\\right]\n",
    "\\left[\\begin{matrix}B \\mathbb{0} + A^{T} & B A^{-1} + \\mathbb{0}\\\\\\mathbb{0} + \\mathbb{0} A^{T} & A^{-1} + \\left(\\mathbb{0}\\right)^{2}\\end{matrix}\\right]\n",
    "\\left[\\begin{matrix}\\left(\\mathbb{0}\\right)^{T} + \\mathbb{0} & \\mathbb{I} + \\left(\\mathbb{0}\\right)^{T} B\\\\- \\mathbb{I} + \\left(\\mathbb{0}\\right)^{T} \\mathbb{0} & - B + \\left(\\mathbb{0}\\right)^{T}\\end{matrix}\\right]\n",
    "\\left[\\begin{matrix}\\left(\\mathbb{0}\\right)^{2} + A^{T} & A^{T} B + \\mathbb{0}\\\\A^{-1} \\mathbb{0} + \\mathbb{0} & A^{-1} + \\mathbb{0} B\\end{matrix}\\right]\n",
    "$"
   ]
  },
  {
   "cell_type": "code",
   "execution_count": 43,
   "metadata": {},
   "outputs": [
    {
     "data": {
      "text/latex": [
       "$\\displaystyle \\left[\\begin{matrix}- B + Z & \\mathbb{I} - B^{2}\\\\- \\mathbb{I} + Z^{2} & - B + Z\\end{matrix}\\right]$"
      ],
      "text/plain": [
       "Matrix([\n",
       "[   -B + Z, I - B**2],\n",
       "[-I + Z**2,   -B + Z]])"
      ]
     },
     "execution_count": 43,
     "metadata": {},
     "output_type": "execute_result"
    }
   ],
   "source": [
    "sp.block_collapse(x_list[2] * S * x_list[2])"
   ]
  },
  {
   "cell_type": "code",
   "execution_count": null,
   "metadata": {},
   "outputs": [],
   "source": []
  }
 ],
 "metadata": {
  "kernelspec": {
   "display_name": "Python 3",
   "language": "python",
   "name": "python3"
  },
  "language_info": {
   "codemirror_mode": {
    "name": "ipython",
    "version": 3
   },
   "file_extension": ".py",
   "mimetype": "text/x-python",
   "name": "python",
   "nbconvert_exporter": "python",
   "pygments_lexer": "ipython3",
   "version": "3.7.6"
  }
 },
 "nbformat": 4,
 "nbformat_minor": 4
}

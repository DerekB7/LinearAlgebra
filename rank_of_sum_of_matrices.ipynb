{
 "cells": [
  {
   "cell_type": "markdown",
   "metadata": {},
   "source": [
    "A common fact in Linear Algebra is the rank of a sum of matrices is less than or equal to the sum of ranks of matrices. In general it should be sufficient to consider this at the simplest level -- i.e. in the case of summing rank one matrices.  (Note if the scalar field is in $\\mathbb R$ or $\\mathbb C$ then one can immediately reduce the general problem to the rank one update case via Singular Value Decomposition.) "
   ]
  },
  {
   "cell_type": "code",
   "execution_count": null,
   "metadata": {
    "collapsed": true
   },
   "outputs": [],
   "source": []
  },
  {
   "cell_type": "markdown",
   "metadata": {},
   "source": [
    "**claim:** the sum of $n$ rank one matrices has rank of at most $n$ \n",
    "\n",
    "Three different proofs follow: "
   ]
  },
  {
   "cell_type": "code",
   "execution_count": null,
   "metadata": {
    "collapsed": true
   },
   "outputs": [],
   "source": []
  },
  {
   "cell_type": "markdown",
   "metadata": {},
   "source": [
    "**general setup:**\n",
    "\n",
    "Consider this series of $n$ (at most) rank one matrices: \n",
    "\n",
    "$ \\sum_{k=1}^n  \\mathbf a_k \\tilde{ \\mathbf b_k}^T = \\mathbf a_1 \\tilde{ \\mathbf b_1}^T + \\mathbf a_2 \\tilde{ \\mathbf b_2}^T+ ... + \\mathbf a_{n-1} \\tilde{ \\mathbf b}_{n-1}^T + \\mathbf a_n \\tilde{ \\mathbf b_n}^T $\n",
    "\n",
    "Suppose each vector has length $m$ where $m \\gt n$.  (Note if $m\\leq n$ the claim is trivally true as an upper bound because the dimension of the vector space means the max rank is $m \\leq n$.)  \n",
    "\n",
    "we can collect that series in terms of matrix multiplication:  \n",
    "\n",
    "\n",
    "where $\\mathbf A$ is m x n and $\\mathbf B $ is n x m\n",
    "\n",
    "$\\mathbf A = \n",
    "\\bigg[\\begin{array}{c|c|c|c|c}\n",
    "\\mathbf a_1 & \\mathbf a_2 &\\cdots & \\mathbf a_{n-1} & \\mathbf a_{n}\n",
    "\\end{array}\\bigg]\n",
    "$   \n",
    "$\\mathbf B= \n",
    "\\begin{bmatrix}\n",
    "\\tilde{ \\mathbf b_1}^T \\\\\n",
    "\\tilde{ \\mathbf b_2}^T \\\\ \n",
    "\\vdots\\\\ \n",
    "\\tilde{ \\mathbf b}_{n-1}^T \\\\ \n",
    "\\tilde{ \\mathbf b_n}^T\n",
    "\\end{bmatrix}\n",
    "$   \n",
    "\n",
    "\n",
    "$\\mathbf {AB}= \\mathbf a_1 \\tilde{ \\mathbf b_1}^T + \\mathbf a_2 \\tilde{ \\mathbf b_2}^T+ ... + \\mathbf a_{n-1} \\tilde{ \\mathbf b}_{n-1}^T + \\mathbf a_n \\tilde{ \\mathbf b_n}^T $\n",
    "- - - - \n",
    "**the column space proof:**  \n",
    "\n",
    "but if we partition $\\mathbf B$ by columns we see:  \n",
    "\n",
    "$\\mathbf {AB}  = \\mathbf A \\bigg[\\begin{array}{c|c|c|c|c} \n",
    "\\mathbf b_1 & \\mathbf b_2 &\\cdots & \\mathbf b_{n-1} & \\mathbf b_{n} \n",
    "\\end{array}\\bigg]   =  \\bigg[\\begin{array}{c|c|c|c|c} \\mathbf A \\mathbf b_1 & \\mathbf A\\mathbf b_2 &\\cdots & \\mathbf A\\mathbf b_{n-1} & \\mathbf A\\mathbf b_{n} \n",
    "\\end{array}\\bigg]$\n",
    "\n",
    "i.e. each column of the product $\\big(\\mathbf{AB}\\big)$ is a linear combination of the columns of $\\mathbf A$, i.e. each column of the product is **generated** by the columns of $\\mathbf A$ and hence the number of linearly independent column vectors in $\\big(\\mathbf {AB}\\big)$ is at most the number of linear independent column vectors that generated it which is at most $n$ because $\\mathbf A$ has $n$ columns.\n",
    "\n",
    "- - - -\n",
    "**another proof:** \n",
    "\n",
    "again consider $\\big(\\mathbf{AB}\\big)$  \n",
    "\n",
    "$\\mathbf B$ has $n$ rows and $m\\gt n$ columns.  Hence there must be at least $m-n$ linearly dependent column vectors in $\\mathbf B$.  This means we can come up with at least $m-n$ linearly independent $\\mathbf x_k \\neq 0$ such that $\\mathbf B \\mathbf x_k = \\mathbf 0$.  Using associativity of matrix multiplication we have (at least) those same $(m-n)$ \n",
    "\n",
    "$\\mathbf x_k \\neq 0$, \n",
    "\n",
    "where \n",
    "\n",
    "$\\big(\\mathbf{AB}\\big)\\mathbf x_k = \\mathbf{A}\\big(\\mathbf B\\mathbf x_k\\big) = \\mathbf 0$\n",
    "\n",
    "Hence in this $m$ dimensional vector space, \n",
    "\n",
    "$\\text{rank}\\big(\\mathbf{AB}\\big) \\leq m -(m-n) = n$.  "
   ]
  },
  {
   "cell_type": "markdown",
   "metadata": {},
   "source": [
    "** A visual, low-brow finish** \n",
    "\n",
    "pad $\\mathbf A$ and $\\mathbf B$ with extra linearly independent vectors such that they are now both $m$ x $m$ \n",
    "\n",
    "where $\\mathbf A_p$ has been padded to become m x m and $\\mathbf B_p $ has been padded to become m x m\n",
    "\n",
    "$\\mathbf A_p = \n",
    "\\bigg[\\begin{array}{c|c|c|c|c|c|c}\n",
    "\\mathbf a_1 & \\mathbf a_2 &\\cdots & \\mathbf a_{n-1} & \\mathbf a_{n}& \\mathbf a_{n+1} & \\cdots & \\mathbf a_{m} \n",
    "\\end{array}\\bigg]\n",
    "$   \n",
    "\n",
    "$\\mathbf B_p= \n",
    "\\begin{bmatrix}\n",
    "\\tilde{ \\mathbf b_1}^T \\\\\n",
    "\\tilde{ \\mathbf b_2}^T \\\\ \n",
    "\\vdots\\\\ \n",
    "\\tilde{ \\mathbf b}_{n-1}^T \\\\ \n",
    "\\tilde{ \\mathbf b_n}^T \\\\ \n",
    "\\tilde{ \\mathbf b}_{n+1}^T \\\\ \n",
    "\\vdots \\\\\n",
    "\\tilde{ \\mathbf b}_{m}^T \\\\ \n",
    "\\end{bmatrix}\n",
    "$   \n",
    "\n",
    "now consider:\n",
    "\n",
    "$\\mathbf A_p \\mathbf{DB}_p= \\mathbf a_1 \\tilde{ \\mathbf b_1}^T + \\mathbf a_2 \\tilde{ \\mathbf b_2}^T+ ... + \\mathbf a_{n-1} \\tilde{ \\mathbf b}_{n-1}^T + \\mathbf a_n \\tilde{ \\mathbf b_n}^T  + 0\\big(\\mathbf a_{n+1} \\tilde{ \\mathbf b}_{n+1}^T ... + \\mathbf a_{m} \\tilde{ \\mathbf b}_{m}^T\\big) = \\mathbf a_1 \\tilde{ \\mathbf b_1}^T + \\mathbf a_2 \\tilde{ \\mathbf b_2}^T+ ... + \\mathbf a_{n-1} \\tilde{ \\mathbf b}_{n-1}^T + \\mathbf a_n \\tilde{ \\mathbf b_n}^T $\n",
    "\n",
    "where $\\mathbf D$ is a diagonal matrix with $n$ ones, followed by $m-n$ zeros, i.e. \n",
    "\n",
    "$\\mathbf D := \\begin{bmatrix}\n",
    "\\mathbf I_n & \\mathbf 0\\\\ \n",
    "\\mathbf 0 & \\mathbf {00}^T\n",
    "\\end{bmatrix}$  \n",
    "\n",
    "(strictly speaking $\\mathbf D$ is also a projector)\n",
    "- - - - \n",
    "since\n",
    "\n",
    "$\\big(\\mathbf {AB}\\big) = \\sum_{k=1}^n  \\mathbf a_k \\tilde{ \\mathbf b_k}^T  =  \\big(\\mathbf A_p \\mathbf{DB}_p\\big)$\n",
    "\n",
    "then their ranks are equal, i.e.: \n",
    "\n",
    "$ rank\\big(\\mathbf {AB}\\big) = rank\\big(\\mathbf A_p \\mathbf{DB}_p\\big) $ \n",
    "\n",
    "if we think about this in terms of solving systems of equations, the right hand side's rank can only improve -- and never decrease-- if $\\mathbf A_p$ and $\\mathbf B_p$ are both non-singular, and we recall that multiplying a matrix by a non-singular matrix doesn't change the overall rank, giving us the bound \n",
    "\n",
    "$ rank\\big(\\mathbf {AB}\\big) = rank\\big(\\mathbf A_p \\mathbf{DB}_p\\big) \\leq rank\\big(\\mathbf{D}\\big) = n$  \n",
    "\n",
    "where, being diagonal, the number of non-zero entries on the diagonal of $\\mathbf D$ gives its rank -- and there are $n$ of them.\n"
   ]
  },
  {
   "cell_type": "code",
   "execution_count": null,
   "metadata": {
    "collapsed": true
   },
   "outputs": [],
   "source": []
  }
 ],
 "metadata": {
  "kernelspec": {
   "display_name": "Python [py35]",
   "language": "python",
   "name": "Python [py35]"
  },
  "language_info": {
   "codemirror_mode": {
    "name": "ipython",
    "version": 3
   },
   "file_extension": ".py",
   "mimetype": "text/x-python",
   "name": "python",
   "nbconvert_exporter": "python",
   "pygments_lexer": "ipython3",
   "version": "3.5.2"
  }
 },
 "nbformat": 4,
 "nbformat_minor": 0
}

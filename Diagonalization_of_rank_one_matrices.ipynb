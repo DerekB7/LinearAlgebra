{
 "cells": [
  {
   "cell_type": "markdown",
   "metadata": {},
   "source": [
    "This posting covers diagonalizability of n x n rank one matrices.  We use complex numbers here (though the conversion to Reals is quite easy -- just rewrite $^H$ denoting conjugate transpose as $^T$ -- denoting transpose).\n",
    "\n",
    "A rank one matrix $\\mathbf A$ will have a null space of dimension $n-1$.  That is it will have $n - 1$ linearly indepedent (non-zero) vectors in its null space.  Alternatively, we could use Singular Value Decomposition, and note that such a matrix $\\mathbf A = \\mathbf{U\\Sigma V}^H$ or $\\mathbf{AV} = \\mathbf{U\\Sigma}$ has $n-1$ singular values equal to zero, each with an associated singular vector $\\mathbf v_k$ for $k = \\{2, 3, 4, ..., n \\}$  -- put differently those right singular vectors can also be interpretted as the eigenvectors associated with $\\lambda_k = 0$.  \n",
    "\n",
    "Note that the sum of all eigenvalues for $\\mathbf A = trace(\\mathbf A) = \\lambda_1 + \\lambda_2 + ... + \\lambda_n = \\lambda_1 + 0 + 0 + ... +0$.  Thus $\\lambda_1 = trace(\\mathbf A)$.  Therefore, if $trace(\\mathbf A) \\neq 0$, then we know that the final eigenvector associated with $\\lambda_1$ is linearly independent from the other $n-1$ eigenvectors in its nullspace (because $\\lambda_1 \\neq \\lambda_k$ and hence their eigenvectors must be linearly independent).  On the other hand if $trace(\\mathbf A) = 0$, then $\\lambda_1 = 0$ and hence if the matrix is diagonalizable, it must be the zero matrix -- which is a contradiction because we are explicitly discussing rank one (not rank zero) matrices.  Thus if $trace(\\mathbf A) = 0$, then some rank one matrix $\\mathbf A$ is nilpotent, but it is not diagonalizable, aka it is defective.  \n",
    "\n"
   ]
  }
 ],
 "metadata": {
  "kernelspec": {
   "display_name": "Python [py35]",
   "language": "python",
   "name": "Python [py35]"
  },
  "language_info": {
   "codemirror_mode": {
    "name": "ipython",
    "version": 3
   },
   "file_extension": ".py",
   "mimetype": "text/x-python",
   "name": "python",
   "nbconvert_exporter": "python",
   "pygments_lexer": "ipython3",
   "version": "3.5.2"
  }
 },
 "nbformat": 4,
 "nbformat_minor": 0
}

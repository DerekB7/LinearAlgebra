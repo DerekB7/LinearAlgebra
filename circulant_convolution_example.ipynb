{
 "cells": [
  {
   "cell_type": "markdown",
   "metadata": {},
   "source": [
    "\n",
    "# This is a simple example of an explicit use of the circulant matrix for discrete convolutions in probability\n",
    "\n",
    "This exists as supporting code / an example for the Discrete Fourier Transform section contained in \n",
    "\n",
    "https://github.com/DerekB7/LinearAlgebra/blob/master/Vandermonde_Matrices_Permutations_and_Discrete_Fourier_Transform.ipynb\n",
    "\n",
    "\n",
    "Note: there are numerous opportunities to further optimize this\n"
   ]
  },
  {
   "cell_type": "code",
   "execution_count": 1,
   "metadata": {
    "collapsed": false
   },
   "outputs": [
    {
     "name": "stdout",
     "output_type": "stream",
     "text": [
      "x vs y\n",
      "[ 0.28  0.01  0.06  0.39  0.26]  vs  [ 0.06  0.44  0.39  0.04  0.07] \n",
      "\n",
      "[[ 0.06  0.    0.    0.    0.    0.    0.07  0.04  0.39  0.44]\n",
      " [ 0.44  0.06  0.    0.    0.    0.    0.    0.07  0.04  0.39]\n",
      " [ 0.39  0.44  0.06  0.    0.    0.    0.    0.    0.07  0.04]\n",
      " [ 0.04  0.39  0.44  0.06  0.    0.    0.    0.    0.    0.07]\n",
      " [ 0.07  0.04  0.39  0.44  0.06  0.    0.    0.    0.    0.  ]\n",
      " [ 0.    0.07  0.04  0.39  0.44  0.06  0.    0.    0.    0.  ]\n",
      " [ 0.    0.    0.07  0.04  0.39  0.44  0.06  0.    0.    0.  ]\n",
      " [ 0.    0.    0.    0.07  0.04  0.39  0.44  0.06  0.    0.  ]\n",
      " [ 0.    0.    0.    0.    0.07  0.04  0.39  0.44  0.06  0.  ]\n",
      " [ 0.    0.    0.    0.    0.    0.07  0.04  0.39  0.44  0.06]]\n",
      " \n",
      "# | probability    | difference between for loops and use of circulant matrix\n",
      "0 | 0.0157246547069 | 0.0\n",
      "1 | 0.123791541812 | 0.0\n",
      "2 | 0.118182041414 | 0.0\n",
      "3 | 0.0647568882156 | 0.0\n",
      "4 | 0.2294436649 | 0.0\n",
      "5 | 0.27158906305 | 0.0\n",
      "6 | 0.122170109012 | 0.0\n",
      "7 | 0.037217430673 | 0.0\n",
      "8 | 0.0171246062168 | 0.0\n",
      "9 | 0.0 | 0.0\n"
     ]
    }
   ],
   "source": [
    "import numpy as np\n",
    "np.set_printoptions(precision = 2, linewidth=180)\n",
    "\n",
    "# setup\n",
    "\n",
    "# simple (PMF) distributions for some peculiar experiment,\n",
    "# that can return a certain number of \"heads\"\n",
    "# the number of heads = [0, 1, 2, 3, 4], \n",
    "# an associated PMFs for x and y\n",
    "\n",
    "x = np.random.random(5)\n",
    "x = x / x.sum() # normalize\n",
    "\n",
    "y = np.random.random(5)\n",
    "y = y / y.sum() # normalize\n",
    "\n",
    "print(\"x vs y\")\n",
    "print( x, \" vs \", y, \"\\n\")\n",
    "\n",
    "m = x.shape[0] * 2\n",
    "z = np.zeros(m)\n",
    "circulant_mat = np.zeros((m,m))\n",
    "\n",
    "# direct convolution is done below, \n",
    "# and the circulant matrix is populated while doing this\n",
    "for i in range(m):\n",
    "    for idx in range(x.shape[0]):\n",
    "        jdx = i - idx\n",
    "        if jdx >= y.shape[0]  or jdx < 0:\n",
    "            # simple setup with the non-negative distribution, though inefficient\n",
    "            continue\n",
    "        z[i] += x[idx] * y[jdx]\n",
    "        circulant_mat[i,idx] = y[jdx]\n",
    "  \n",
    "padded_x = np.zeros(m)\n",
    "# just some extra zeros in the padding to accomdoate \n",
    "# the higher order polynomial so to speak\n",
    "\n",
    "for i in range(x.shape[0]):\n",
    "    padded_x[i] += x[i]\n",
    "\n",
    "# mathematically, the below has no impact \n",
    "# (as these entries get scaled by the padded zeros on padded_x), \n",
    "# but it finished off the circulant structure associated w/ our convolution\n",
    "# It is important to know this exists\n",
    "\n",
    "for row_idx in range(m):\n",
    "    if np.isclose(circulant_mat[row_idx, 0], 0):\n",
    "        continue\n",
    "    else:\n",
    "        for j in range(x.shape[0],m):\n",
    "            circulant_mat[(row_idx + j) % m , j] = circulant_mat[row_idx, 0]\n",
    "\n",
    "print(circulant_mat)\n",
    "\n",
    "newz = circulant_mat @ padded_x \n",
    "# the alternative, direct, way of calculating z is via the use of this circulant matrix\n",
    "\n",
    "print(\" \")\n",
    "print(\"# | probability    | difference between for loops and use of circulant matrix\")\n",
    "for i in range(m):\n",
    "    print(i, \"|\", z[i], \"|\", z[i] - newz[i])\n",
    "\n",
    "# of course there is lots of room to optimize calculations"
   ]
  },
  {
   "cell_type": "code",
   "execution_count": null,
   "metadata": {
    "collapsed": true
   },
   "outputs": [],
   "source": []
  }
 ],
 "metadata": {
  "kernelspec": {
   "display_name": "Python [py35]",
   "language": "python",
   "name": "Python [py35]"
  },
  "language_info": {
   "codemirror_mode": {
    "name": "ipython",
    "version": 3
   },
   "file_extension": ".py",
   "mimetype": "text/x-python",
   "name": "python",
   "nbconvert_exporter": "python",
   "pygments_lexer": "ipython3",
   "version": "3.5.2"
  }
 },
 "nbformat": 4,
 "nbformat_minor": 0
}

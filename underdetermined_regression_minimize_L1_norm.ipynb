{
 "cells": [
  {
   "cell_type": "markdown",
   "metadata": {},
   "source": [
    "note that julia code can be run for free at:\n",
    "https://juliabox.com/"
   ]
  },
  {
   "cell_type": "code",
   "execution_count": 1,
   "metadata": {
    "collapsed": true
   },
   "outputs": [],
   "source": [
    "using JuMP\n",
    "using Cbc"
   ]
  },
  {
   "cell_type": "code",
   "execution_count": 2,
   "metadata": {
    "collapsed": false
   },
   "outputs": [],
   "source": [
    "m_rows = 6\n",
    "n_cols = 7\n",
    "\n",
    "# both should be integers\n",
    "\n",
    "assert(m_rows < n_cols)\n"
   ]
  },
  {
   "cell_type": "code",
   "execution_count": null,
   "metadata": {
    "collapsed": true
   },
   "outputs": [],
   "source": []
  },
  {
   "cell_type": "code",
   "execution_count": 3,
   "metadata": {
    "collapsed": false
   },
   "outputs": [
    {
     "name": "stdout",
     "output_type": "stream",
     "text": [
      "Variable values: \n",
      "[-1.98388,-0.309694,-0.309281,-1.22742,0.0,-0.825472,0.509495]\n"
     ]
    }
   ],
   "source": [
    "# this was also posted online, and saved in \"diet_problem_recut_somewhat.ipynb\"\n",
    "\n",
    "# idea, for a short wide matrix -- i.e. full row rank but underdetermined sytem of equations -- \n",
    "# perhaps we want to select a solution vector x, in the form Ax = b, but we want (a non-unique) x \n",
    "# that has the minimum L1 norm\n",
    "# note that using primal simplex means our resulting vector should be sparse\n",
    "# note that we have closed form / analytic solutions for the case of underdetermined system of equations, \n",
    "# and we want to minimize the L2 norm of the solution vector x\n",
    "# however for the L1 norm case, it is just a linear programming approach\n",
    "\n",
    "mymodel = Model(solver= CbcSolver())\n",
    "\n",
    "\n",
    "A = randn(m_rows, n_cols) \n",
    "b = randn(m_rows)\n",
    "# iid standard normal r.v.'s populate these matrices\n",
    "# note that (in standard form) there is zero probability of A not having full row rank\n",
    "\n",
    "\n",
    "@variable(mymodel,    x[i = 1:n_cols] ) \n",
    "@variable(mymodel,    y[i = 1:n_cols] >= 0) \n",
    "@constraint(mymodel, -y .<= x)\n",
    "@constraint(mymodel,  y .>= x)\n",
    "# in effect y is the absolute value version of x\n",
    "\n",
    "@constraint(mymodel, *(A,x) .== b)\n",
    "# always need to maintain this equality\n",
    "\n",
    "@objective(mymodel, Min, sum(y))\n",
    "# minimize the L1 norm\n",
    "\n",
    "# Solve the optimization problem\n",
    "solve(mymodel)\n",
    "println(\"Variable values: \\n\", getvalue(x))\n"
   ]
  },
  {
   "cell_type": "markdown",
   "metadata": {},
   "source": [
    "# below is a comparison of the underdetermined minimization case with L1 vs L2 norms"
   ]
  },
  {
   "cell_type": "code",
   "execution_count": null,
   "metadata": {
    "collapsed": true
   },
   "outputs": [],
   "source": []
  },
  {
   "cell_type": "code",
   "execution_count": 4,
   "metadata": {
    "collapsed": false
   },
   "outputs": [
    {
     "data": {
      "text/plain": [
       "(\n",
       "[0.445762 0.487639 … -0.292342 -0.0669869; 0.506457 -0.301959 … 0.589905 -0.350976; … ; 0.199931 -0.547471 … -0.739684 -0.196366; 0.110381 0.576564 … -0.128926 -0.0120897],\n",
       "\n",
       "[3.35666,3.16647,1.54796,1.15415,1.03224,0.481671],\n",
       "[0.0646093 0.325034 … 0.684249 -0.326994; -0.158646 0.324937 … 0.0389622 -0.249159; … ; 0.783792 -0.434592 … 0.257422 0.0780215; 0.00572256 -0.438057 … -0.398205 -0.613171])"
      ]
     },
     "execution_count": 4,
     "metadata": {},
     "output_type": "execute_result"
    }
   ],
   "source": [
    "U, sigma, V = svd(A)"
   ]
  },
  {
   "cell_type": "code",
   "execution_count": 5,
   "metadata": {
    "collapsed": false
   },
   "outputs": [
    {
     "data": {
      "text/plain": [
       "7×7 Array{Float64,2}:\n",
       "  0.954636     -0.071975    -0.0516647    …  -0.000107481  -0.100424   \n",
       " -0.071975      0.885804    -0.0819714       -0.00017053   -0.159333   \n",
       " -0.0516647    -0.0819714    0.94116         -0.000122409  -0.114371   \n",
       "  0.0136366     0.0216359    0.0155305        3.23091e-5    0.0301876  \n",
       "  0.1587        0.251794     0.180742         0.000376008   0.351318   \n",
       " -0.000107481  -0.00017053  -0.000122409  …   1.0          -0.000237933\n",
       " -0.100424     -0.159333    -0.114371        -0.000237933   0.77769    "
      ]
     },
     "execution_count": 5,
     "metadata": {},
     "output_type": "execute_result"
    }
   ],
   "source": [
    "P = V * transpose(V)"
   ]
  },
  {
   "cell_type": "code",
   "execution_count": 6,
   "metadata": {
    "collapsed": false
   },
   "outputs": [
    {
     "data": {
      "text/plain": [
       "7×7 Array{Float64,2}:\n",
       " -2.71187e-17  0.0  0.0  0.0  0.0  0.0  0.0\n",
       "  0.0          1.0  0.0  0.0  0.0  0.0  0.0\n",
       "  0.0          0.0  1.0  0.0  0.0  0.0  0.0\n",
       "  0.0          0.0  0.0  1.0  0.0  0.0  0.0\n",
       "  0.0          0.0  0.0  0.0  1.0  0.0  0.0\n",
       "  0.0          0.0  0.0  0.0  0.0  1.0  0.0\n",
       "  0.0          0.0  0.0  0.0  0.0  0.0  1.0"
      ]
     },
     "execution_count": 6,
     "metadata": {},
     "output_type": "execute_result"
    }
   ],
   "source": [
    "diagm(eigvals(P))"
   ]
  },
  {
   "cell_type": "code",
   "execution_count": 7,
   "metadata": {
    "collapsed": false,
    "scrolled": true
   },
   "outputs": [
    {
     "data": {
      "text/plain": [
       "6-element Array{Float64,1}:\n",
       " -0.206303 \n",
       " -0.0639741\n",
       " -0.143272 \n",
       " -0.564088 \n",
       " -2.21688  \n",
       "  0.548479 "
      ]
     },
     "execution_count": 7,
     "metadata": {},
     "output_type": "execute_result"
    }
   ],
   "source": [
    "loose_x = diagm(1./ sigma)transpose(U)*b\n",
    "\n",
    "\n"
   ]
  },
  {
   "cell_type": "code",
   "execution_count": 8,
   "metadata": {
    "collapsed": false
   },
   "outputs": [
    {
     "ename": "LoadError",
     "evalue": "DimensionMismatch(\"second dimension of A, 7, does not match length of x, 6\")",
     "output_type": "error",
     "traceback": [
      "DimensionMismatch(\"second dimension of A, 7, does not match length of x, 6\")",
      "",
      " in gemv!(::Array{Float64,1}, ::Char, ::Array{Float64,2}, ::Array{Float64,1}) at ./linalg/matmul.jl:219",
      " in *(::Array{Float64,2}, ::Array{Float64,1}) at ./linalg/matmul.jl:80",
      " in include_string(::String, ::String) at ./loading.jl:441"
     ]
    }
   ],
   "source": [
    "A * loose_x"
   ]
  },
  {
   "cell_type": "code",
   "execution_count": null,
   "metadata": {
    "collapsed": true
   },
   "outputs": [],
   "source": []
  },
  {
   "cell_type": "code",
   "execution_count": 9,
   "metadata": {
    "collapsed": false
   },
   "outputs": [
    {
     "data": {
      "text/plain": [
       "7-element Array{Float64,1}:\n",
       " -1.47869 \n",
       " -0.674534\n",
       " -0.363262\n",
       " -1.25303 \n",
       " -0.298017\n",
       " -0.82527 \n",
       "  0.698077"
      ]
     },
     "execution_count": 9,
     "metadata": {},
     "output_type": "execute_result"
    }
   ],
   "source": [
    "x_l2_norm_min = V*diagm(1./ sigma)transpose(U)*b\n"
   ]
  },
  {
   "cell_type": "code",
   "execution_count": 10,
   "metadata": {
    "collapsed": false
   },
   "outputs": [],
   "source": [
    "# x_l2_norm_min_alt = transpose(A)*inv(A*transpose(A))*b"
   ]
  },
  {
   "cell_type": "code",
   "execution_count": 11,
   "metadata": {
    "collapsed": false
   },
   "outputs": [
    {
     "data": {
      "text/plain": [
       "7×7 Array{Float64,2}:\n",
       "  0.954636     -0.071975    -0.0516647    …  -0.000107481  -0.100424   \n",
       " -0.071975      0.885804    -0.0819714       -0.00017053   -0.159333   \n",
       " -0.0516647    -0.0819714    0.94116         -0.000122409  -0.114371   \n",
       "  0.0136366     0.0216359    0.0155305        3.23091e-5    0.0301876  \n",
       "  0.1587        0.251794     0.180742         0.000376008   0.351318   \n",
       " -0.000107481  -0.00017053  -0.000122409  …   1.0          -0.000237933\n",
       " -0.100424     -0.159333    -0.114371        -0.000237933   0.77769    "
      ]
     },
     "execution_count": 11,
     "metadata": {},
     "output_type": "execute_result"
    }
   ],
   "source": [
    "P = V * transpose(V)"
   ]
  },
  {
   "cell_type": "code",
   "execution_count": 12,
   "metadata": {
    "collapsed": false
   },
   "outputs": [],
   "source": [
    "# x_l2_norm_min\n"
   ]
  },
  {
   "cell_type": "code",
   "execution_count": null,
   "metadata": {
    "collapsed": true
   },
   "outputs": [],
   "source": []
  },
  {
   "cell_type": "code",
   "execution_count": 13,
   "metadata": {
    "collapsed": false
   },
   "outputs": [
    {
     "data": {
      "text/plain": [
       "2.3665957835042786"
      ]
     },
     "execution_count": 13,
     "metadata": {},
     "output_type": "execute_result"
    }
   ],
   "source": [
    "norm(x_l2_norm_min)"
   ]
  },
  {
   "cell_type": "code",
   "execution_count": 14,
   "metadata": {
    "collapsed": false
   },
   "outputs": [
    {
     "data": {
      "text/plain": [
       "0.39996341257139534"
      ]
     },
     "execution_count": 14,
     "metadata": {},
     "output_type": "execute_result"
    }
   ],
   "source": [
    "norm(getvalue(x) - x_l2_norm_min)"
   ]
  },
  {
   "cell_type": "code",
   "execution_count": 15,
   "metadata": {
    "collapsed": false
   },
   "outputs": [
    {
     "data": {
      "text/plain": [
       "2.410027994385663e-14"
      ]
     },
     "execution_count": 15,
     "metadata": {},
     "output_type": "execute_result"
    }
   ],
   "source": [
    "norm(P*getvalue(x) - x_l2_norm_min)"
   ]
  },
  {
   "cell_type": "code",
   "execution_count": null,
   "metadata": {
    "collapsed": true
   },
   "outputs": [],
   "source": []
  },
  {
   "cell_type": "code",
   "execution_count": 16,
   "metadata": {
    "collapsed": false
   },
   "outputs": [
    {
     "data": {
      "text/plain": [
       "(\n",
       "[-0.169027 0.216392 … 0.501613 0.393796; -0.380116 -0.383837 … -0.0742746 -0.673681; … ; -0.31731 0.853826 … 0.0238207 -0.384782; 0.244248 0.242186 … -0.740516 0.184695],\n",
       "\n",
       "[-2.4002 -0.483234 … 0.616476 -1.15182; 0.0 2.07049 … 1.3493 -0.756634; … ; 0.0 0.0 … -1.21866 0.525979; 0.0 0.0 … 0.0 1.39879])"
      ]
     },
     "execution_count": 16,
     "metadata": {},
     "output_type": "execute_result"
    }
   ],
   "source": [
    "Q,R = qr(transpose(A))\n"
   ]
  },
  {
   "cell_type": "code",
   "execution_count": 17,
   "metadata": {
    "collapsed": false
   },
   "outputs": [
    {
     "data": {
      "text/plain": [
       "7×6 Array{Float64,2}:\n",
       " -0.169027    0.216392   -0.22129    -0.650831   0.501613    0.393796\n",
       " -0.380116   -0.383837   -0.168739   -0.325805  -0.0742746  -0.673681\n",
       "  0.62357     0.0839992  -0.599209    0.206447   0.277219   -0.258344\n",
       "  0.518929    0.0855573   0.62575    -0.408122   0.189506   -0.353914\n",
       "  0.0920458   0.0615992  -0.412578   -0.405261  -0.28491    -0.130048\n",
       " -0.31731     0.853826    0.0169814   0.146225   0.0238207  -0.384782\n",
       "  0.244248    0.242186   -0.0378726  -0.274715  -0.740516    0.184695"
      ]
     },
     "execution_count": 17,
     "metadata": {},
     "output_type": "execute_result"
    }
   ],
   "source": [
    "Q"
   ]
  },
  {
   "cell_type": "code",
   "execution_count": 18,
   "metadata": {
    "collapsed": false
   },
   "outputs": [
    {
     "data": {
      "text/plain": [
       "6×6 Array{Float64,2}:\n",
       " -2.4002  -0.483234   0.81221   -0.773722   0.616476  -1.15182 \n",
       "  0.0      2.07049   -0.452478   1.48815    1.3493    -0.756634\n",
       "  0.0      0.0       -1.59131    0.88885   -0.07272    0.459871\n",
       "  0.0      0.0        0.0        0.700369   0.676543  -0.234243\n",
       "  0.0      0.0        0.0        0.0       -1.21866    0.525979\n",
       "  0.0      0.0        0.0        0.0        0.0        1.39879 "
      ]
     },
     "execution_count": 18,
     "metadata": {},
     "output_type": "execute_result"
    }
   ],
   "source": [
    "R"
   ]
  },
  {
   "cell_type": "code",
   "execution_count": 19,
   "metadata": {
    "collapsed": false
   },
   "outputs": [
    {
     "data": {
      "text/plain": [
       "7-element Array{Float64,1}:\n",
       " -1.47869 \n",
       " -0.674534\n",
       " -0.363262\n",
       " -1.25303 \n",
       " -0.298017\n",
       " -0.82527 \n",
       "  0.698077"
      ]
     },
     "execution_count": 19,
     "metadata": {},
     "output_type": "execute_result"
    }
   ],
   "source": [
    "Q*(transpose(R) \\ b)"
   ]
  },
  {
   "cell_type": "code",
   "execution_count": null,
   "metadata": {
    "collapsed": true
   },
   "outputs": [],
   "source": []
  },
  {
   "cell_type": "code",
   "execution_count": 20,
   "metadata": {
    "collapsed": false
   },
   "outputs": [
    {
     "data": {
      "text/plain": [
       "7-element Array{Float64,1}:\n",
       " -1.47869 \n",
       " -0.674534\n",
       " -0.363262\n",
       " -1.25303 \n",
       " -0.298017\n",
       " -0.82527 \n",
       "  0.698077"
      ]
     },
     "execution_count": 20,
     "metadata": {},
     "output_type": "execute_result"
    }
   ],
   "source": [
    "Q*inv(transpose(R))*b"
   ]
  },
  {
   "cell_type": "code",
   "execution_count": 21,
   "metadata": {
    "collapsed": false
   },
   "outputs": [
    {
     "data": {
      "text/plain": [
       "7-element Array{Float64,1}:\n",
       " -1.47869 \n",
       " -0.674534\n",
       " -0.363262\n",
       " -1.25303 \n",
       " -0.298017\n",
       " -0.82527 \n",
       "  0.698077"
      ]
     },
     "execution_count": 21,
     "metadata": {},
     "output_type": "execute_result"
    }
   ],
   "source": [
    "x_l2_norm_min"
   ]
  },
  {
   "cell_type": "markdown",
   "metadata": {},
   "source": [
    "# Below is the overdetermined, L1 minimization case"
   ]
  },
  {
   "cell_type": "code",
   "execution_count": 22,
   "metadata": {
    "collapsed": false
   },
   "outputs": [
    {
     "data": {
      "text/plain": [
       "5"
      ]
     },
     "execution_count": 22,
     "metadata": {},
     "output_type": "execute_result"
    }
   ],
   "source": [
    "m_rows = 10\n",
    "n_cols = 5\n",
    "\n",
    "# both should be integers\n"
   ]
  },
  {
   "cell_type": "code",
   "execution_count": 23,
   "metadata": {
    "collapsed": false
   },
   "outputs": [
    {
     "name": "stdout",
     "output_type": "stream",
     "text": [
      "Variable values: \n",
      "[-0.362761,0.378531,0.502986,-0.0362082,-0.0974588]\n"
     ]
    }
   ],
   "source": [
    "# the snow plowing problem, part B\n",
    "# this was also posted online, and saved in \"diet_problem_recut_somewhat.ipynb\"\n",
    "\n",
    "# idea, for a short wide matrix -- i.e. full row rank but underdetermined sytem of equations -- \n",
    "# perhaps we want to select a solution vector x, in the form Ax = b, but we want (a non-unique) x \n",
    "# that has the minimum L1 norm\n",
    "# note that using primal simplex means our resulting vector should be sparse\n",
    "# note that we have closed form / analytic solutions for the case of underdetermined system of equations, \n",
    "# and we want to minimize the L2 norm of the solution vector x\n",
    "# however for the L1 norm case, it is just a linear programming approach\n",
    "\n",
    "using JuMP\n",
    "\n",
    "using Cbc\n",
    "mymodel = Model(solver= CbcSolver())\n",
    "\n",
    "\n",
    "A = randn(m_rows, n_cols) \n",
    "b = randn(m_rows)\n",
    "# iid standard normal r.v.'s populate these matrices\n",
    "# note that (in standard form) there is zero probability of A not having full row rank\n",
    "\n",
    "\n",
    "@variable(mymodel,    x[i = 1:n_cols] ) \n",
    "@variable(mymodel,    y[i = 1:m_rows] >= 0) \n",
    "@constraint(mymodel, -y .<= (*(A,x) - b))\n",
    "@constraint(mymodel,  y .>= (*(A,x) - b))\n",
    "# in effect y is the absolute value version of right hand side\n",
    "\n",
    "# @constraint(mymodel, *(A,x) - b)\n",
    "# always need to maintain this equality\n",
    "\n",
    "@objective(mymodel, Min, sum(y))\n",
    "# minimize the L1 norm\n",
    "\n",
    "# Solve the optimization problem\n",
    "solve(mymodel)\n",
    "println(\"Variable values: \\n\", getvalue(x))\n"
   ]
  },
  {
   "cell_type": "code",
   "execution_count": null,
   "metadata": {
    "collapsed": true
   },
   "outputs": [],
   "source": []
  },
  {
   "cell_type": "code",
   "execution_count": 24,
   "metadata": {
    "collapsed": false
   },
   "outputs": [
    {
     "data": {
      "text/plain": [
       "5-element Array{Float64,1}:\n",
       " -0.636761 \n",
       "  0.378531 \n",
       "  0.502986 \n",
       " -0.0261082\n",
       " -0.0974588"
      ]
     },
     "execution_count": 24,
     "metadata": {},
     "output_type": "execute_result"
    }
   ],
   "source": [
    "getvalue(x)"
   ]
  },
  {
   "cell_type": "code",
   "execution_count": 25,
   "metadata": {
    "collapsed": false
   },
   "outputs": [
    {
     "data": {
      "text/plain": [
       "10-element Array{Float64,1}:\n",
       " 0.655348\n",
       " 0.0     \n",
       " 2.00452 \n",
       " 1.28478 \n",
       " 0.0     \n",
       " 0.0     \n",
       " 1.81891 \n",
       " 0.0     \n",
       " 0.0     \n",
       " 0.307033"
      ]
     },
     "execution_count": 25,
     "metadata": {},
     "output_type": "execute_result"
    }
   ],
   "source": [
    "getvalue(y)"
   ]
  },
  {
   "cell_type": "code",
   "execution_count": 26,
   "metadata": {
    "collapsed": false
   },
   "outputs": [
    {
     "data": {
      "text/plain": [
       "10-element Array{Float64,1}:\n",
       " -1.1102  \n",
       " -0.331686\n",
       "  0.775374\n",
       "  1.30504 \n",
       " -0.128578\n",
       " -0.488185\n",
       " -1.40913 \n",
       " -1.3082  \n",
       " -0.115728\n",
       " -0.109336"
      ]
     },
     "execution_count": 26,
     "metadata": {},
     "output_type": "execute_result"
    }
   ],
   "source": [
    "b"
   ]
  },
  {
   "cell_type": "code",
   "execution_count": 27,
   "metadata": {
    "collapsed": false
   },
   "outputs": [
    {
     "data": {
      "text/plain": [
       "10-element Array{Float64,1}:\n",
       "  0.655348   \n",
       "  5.55112e-17\n",
       " -2.00452    \n",
       " -1.28478    \n",
       " -1.11022e-16\n",
       "  1.11022e-16\n",
       "  1.81891    \n",
       "  2.22045e-16\n",
       "  2.63678e-16\n",
       "  0.307033   "
      ]
     },
     "execution_count": 27,
     "metadata": {},
     "output_type": "execute_result"
    }
   ],
   "source": [
    "*(A,getvalue(x)) - b"
   ]
  },
  {
   "cell_type": "code",
   "execution_count": 28,
   "metadata": {
    "collapsed": false
   },
   "outputs": [
    {
     "data": {
      "text/plain": [
       "6.070590520548784"
      ]
     },
     "execution_count": 28,
     "metadata": {},
     "output_type": "execute_result"
    }
   ],
   "source": [
    "sum(abs(*(A,getvalue(x)) - b))"
   ]
  },
  {
   "cell_type": "markdown",
   "metadata": {
    "collapsed": true
   },
   "source": [
    "# L2 min for underdetermined not full row rank \n",
    "\n",
    "below are some misc things for quadratic program with short fat A, but NOT full row rank... I think I can use svd to minimize this, though some care is needed.  First I'll use a quadratic program. "
   ]
  },
  {
   "cell_type": "code",
   "execution_count": 43,
   "metadata": {
    "collapsed": false
   },
   "outputs": [
    {
     "data": {
      "text/plain": [
       "(15,25)"
      ]
     },
     "execution_count": 43,
     "metadata": {},
     "output_type": "execute_result"
    }
   ],
   "source": [
    "m = 15\n",
    "n = 25\n",
    "assert(m< n)\n",
    "A = rand(m,n)\n",
    "\n",
    "# A[1,:] = 1*A[2,:] + 4*A[3,:]\n",
    "A\n",
    "# hence not full row rank as row 1 is linearly dependent \n",
    "# hence not enough linearly independent columns to form a basis in m dim space (because row rank = col rank)\n",
    "b =rand(m)\n",
    "size(A)"
   ]
  },
  {
   "cell_type": "code",
   "execution_count": 44,
   "metadata": {
    "collapsed": false
   },
   "outputs": [
    {
     "data": {
      "text/plain": [
       "15×25 Array{Float64,2}:\n",
       " 0.495632   0.209378  0.883235   …  0.719306   0.102873   0.0423098  \n",
       " 0.870124   0.358779  0.0733163     0.328484   0.211271   0.427075   \n",
       " 0.233821   0.163064  0.849157      0.513849   0.28942    0.89629    \n",
       " 0.0393918  0.204541  0.0427985     0.0203672  0.0125367  0.000271776\n",
       " 0.5617     0.133024  0.879119      0.688967   0.392684   0.532432   \n",
       " 0.979312   0.784037  0.826692   …  0.822639   0.313866   0.777543   \n",
       " 0.215199   0.765507  0.301955      0.520607   0.891951   0.147879   \n",
       " 0.180398   0.480473  0.0977619     0.864383   0.796425   0.629041   \n",
       " 0.396905   0.502633  0.690414      0.496385   0.171607   0.511884   \n",
       " 0.809465   0.535923  0.326417      0.0621264  0.867563   0.548158   \n",
       " 0.131879   0.321873  0.782405   …  0.283863   0.536261   0.815521   \n",
       " 0.684168   0.889901  0.877514      0.809757   0.223899   0.0658682  \n",
       " 0.981292   0.88661   0.44906       0.234338   0.813761   0.200482   \n",
       " 0.925511   0.743849  0.1558        0.489562   0.964374   0.0969101  \n",
       " 0.708979   0.605505  0.70637       0.391454   0.246297   0.619216   "
      ]
     },
     "execution_count": 44,
     "metadata": {},
     "output_type": "execute_result"
    }
   ],
   "source": [
    "A"
   ]
  },
  {
   "cell_type": "code",
   "execution_count": 45,
   "metadata": {
    "collapsed": false
   },
   "outputs": [
    {
     "data": {
      "text/plain": [
       "Base.LinAlg.SVD{Float64,Float64,Array{Float64,2}}([-0.267009 -0.229746 … -0.0993284 0.0787569; -0.209784 0.401255 … 0.269971 -0.329404; … ; -0.251937 0.38893 … 0.105049 0.252458; -0.258331 -0.0415683 … -0.116362 0.324435],[10.1812,2.2577,2.13138,1.96943,1.83703,1.66019,1.53515,1.35913,1.14945,1.06736,0.926299,0.749373,0.707779,0.524059,0.334708],[-0.215191 -0.196966 … -0.178918 -0.16025; 0.0344002 -0.0375692 … 0.137 0.0145237; … ; 0.367655 -0.0316973 … -0.141169 -0.198811; -0.190725 0.266555 … 0.124263 -0.0222828])"
      ]
     },
     "execution_count": 45,
     "metadata": {},
     "output_type": "execute_result"
    }
   ],
   "source": [
    "F = svdfact(A, thin= false)\n",
    "# svd fact allows you to pass F[:U], F[:S], F[:V] and F[:Vt], which is rather convenient\n",
    "F_thin = svdfact(A, thin= true)\n",
    "\n",
    "# http://web.mit.edu/julia_v0.6.2/julia/share/doc/julia/html/en/stdlib/linalg.html\n",
    "\n"
   ]
  },
  {
   "cell_type": "code",
   "execution_count": 57,
   "metadata": {
    "collapsed": false
   },
   "outputs": [
    {
     "data": {
      "text/plain": [
       "15-element Array{Float64,1}:\n",
       " -0.159532  \n",
       "  0.191238  \n",
       "  0.240676  \n",
       "  0.109905  \n",
       "  0.00884959\n",
       " -0.164614  \n",
       "  0.222767  \n",
       "  0.0117791 \n",
       "  0.162426  \n",
       "  0.255315  \n",
       "  0.432351  \n",
       " -0.47617   \n",
       " -0.429123  \n",
       "  0.149368  \n",
       " -0.296344  "
      ]
     },
     "execution_count": 57,
     "metadata": {},
     "output_type": "execute_result"
    }
   ],
   "source": [
    "c = inv(diagm(F[:S]))* transpose(F[:U])* b"
   ]
  },
  {
   "cell_type": "code",
   "execution_count": 55,
   "metadata": {
    "collapsed": false
   },
   "outputs": [
    {
     "data": {
      "text/plain": [
       "25×25 Array{Float64,2}:\n",
       "  0.665581     0.124314    -0.0175731    …  -0.0430159    -0.0729055 \n",
       "  0.124314     0.517406     0.100675         0.202069     -0.176486  \n",
       " -0.0175731    0.100675     0.729679        -0.000428068   0.0499664 \n",
       "  0.105318     0.0599262   -0.0113483        0.0478096     0.0761988 \n",
       "  0.0790931   -0.130685     0.0303454        0.158058     -0.0667847 \n",
       "  0.0822263    0.124146    -0.169811     …  -0.105391      0.0476215 \n",
       "  0.173981    -0.00940229   0.0369311       -0.0487983     0.0433466 \n",
       "  0.10758     -0.106538     0.0490891        0.0372905     0.0685303 \n",
       " -0.0111416    0.0906556   -0.147484         0.0562985     0.00364628\n",
       " -0.144266     0.0202958    0.0244906       -0.100658     -0.15103   \n",
       " -0.0390231    0.00973952  -0.0170731    …   0.126269     -0.0472705 \n",
       " -0.0622012   -0.039056    -0.138601        -0.126184      0.0658346 \n",
       "  0.0976407    0.167723     0.0748265       -0.136773      0.0583324 \n",
       " -0.200545     0.0126508    0.176592        -0.0763       -0.0968734 \n",
       "  0.0477955   -0.00920782   0.0191749       -0.0023775     0.0309199 \n",
       " -0.0135542   -0.0212376   -0.124188     …   0.113344      0.00694374\n",
       "  0.00121177   0.0951599    0.137453         0.0217472    -0.0296167 \n",
       " -0.00219784   0.0823931   -0.014223         0.0895048    -0.0270109 \n",
       "  0.123164    -0.163455    -0.0640954       -0.0245159    -0.0754545 \n",
       " -0.0886018    0.131026    -0.0453811        0.0519859     0.163955  \n",
       "  0.171384    -0.0126384    0.149519     …  -0.0995592     0.108826  \n",
       " -0.0243566   -0.0304848    0.0611853        0.0539741     0.193839  \n",
       " -0.0465064   -0.0686433    0.0696972       -0.0469783     0.0414527 \n",
       " -0.0430159    0.202069    -0.000428068      0.721446      0.0822403 \n",
       " -0.0729055   -0.176486     0.0499664        0.0822403     0.73805   "
      ]
     },
     "execution_count": 55,
     "metadata": {},
     "output_type": "execute_result"
    }
   ],
   "source": [
    "err_tol = 0.001\n",
    "V_mod = F_thin[:V] *diagm(F_thin[:S].>err_tol)\n",
    "P = V_mod * transpose(V_mod)\n",
    "P"
   ]
  },
  {
   "cell_type": "code",
   "execution_count": null,
   "metadata": {
    "collapsed": true
   },
   "outputs": [],
   "source": []
  },
  {
   "cell_type": "code",
   "execution_count": null,
   "metadata": {
    "collapsed": false
   },
   "outputs": [],
   "source": []
  },
  {
   "cell_type": "code",
   "execution_count": 64,
   "metadata": {
    "collapsed": false
   },
   "outputs": [
    {
     "name": "stdout",
     "output_type": "stream",
     "text": [
      "fully specified optimization for full row rank case\n",
      "\n",
      "--------------------------------------------------\n",
      "Variable x:Values: [0.237065,0.15406,0.0705198,-0.301197,-0.369363,-0.088939,0.059965,-0.12275,0.503728,-0.123466,0.0649557,-0.278245,0.036335,0.0763259,0.0776803,0.186946,0.0376133,0.0131876,0.299168,-0.0851564,0.384999,0.110396,0.0137056,-0.0261452,-0.107083]\n",
      "Objective value: 1.0084749123370131\n",
      "\n"
     ]
    }
   ],
   "source": [
    "# this is the quadratic setup.  \n",
    "# encapsulating this in a function would likely lead to better performance, \n",
    "# though the 'open' setup here allows the user to more easily explore results\n",
    "\n",
    "using JuMP\n",
    "using Ipopt\n",
    "mymodel = Model(solver=IpoptSolver(print_level=0))\n",
    "\n",
    "\n",
    "@variable(mymodel, x[i = 1:n])\n",
    "\n",
    "difference_vec = A*x - b\n",
    "\n",
    "if rank(A) < minimum(size(A))\n",
    "    println(\"ill specified optimization\")\n",
    "    # so if we don't have full row rank, then just minimize total squared errors cost of both the size of x\n",
    "    # and also the difference vec... \n",
    "    # this is worth thinking on some more... \n",
    "    myobjective = @objective(mymodel, Min, (transpose(difference_vec)* difference_vec)[1] + (transpose(x) * x)[1] )\n",
    "else\n",
    "    # if we do have full row rank, make sure that the solution is exact, and minimize the cost of x\n",
    "    println(\"fully specified optimization for full row rank case\")\n",
    "    @constraint(mymodel, (transpose(difference_vec)* difference_vec)[1] == 0)\n",
    "    myobjective = @objective(mymodel, Min,  + (transpose(x) * x)[1] )\n",
    "    \n",
    "end\n",
    "\n",
    "# Solve mymodel\n",
    "solve(mymodel)\n",
    "\n",
    "# print(\"note: ignore floating point nits -- e.g. 0.9999999976 should be thought of as 1.0\")\n",
    "print(\"\\n--------------------------------------------------\\n\")\n",
    "\n",
    "println(\"Variable x:Values: \", getvalue(x))\n",
    "\n",
    "println(\"Objective value: \", getobjectivevalue(mymodel), \"\\n\")"
   ]
  },
  {
   "cell_type": "code",
   "execution_count": 65,
   "metadata": {
    "collapsed": false
   },
   "outputs": [
    {
     "data": {
      "text/plain": [
       "15-element Array{Float64,1}:\n",
       " -0.159532  \n",
       "  0.191238  \n",
       "  0.240676  \n",
       "  0.109905  \n",
       "  0.00884959\n",
       " -0.164614  \n",
       "  0.222767  \n",
       "  0.0117791 \n",
       "  0.162426  \n",
       "  0.255315  \n",
       "  0.432351  \n",
       " -0.47617   \n",
       " -0.429123  \n",
       "  0.149368  \n",
       " -0.296344  "
      ]
     },
     "execution_count": 65,
     "metadata": {},
     "output_type": "execute_result"
    }
   ],
   "source": [
    "c"
   ]
  },
  {
   "cell_type": "code",
   "execution_count": 70,
   "metadata": {
    "collapsed": false
   },
   "outputs": [
    {
     "data": {
      "text/plain": [
       "15-element Array{Float64,1}:\n",
       " -0.159532  \n",
       "  0.191238  \n",
       "  0.240676  \n",
       "  0.109905  \n",
       "  0.00884959\n",
       " -0.164614  \n",
       "  0.222767  \n",
       "  0.0117791 \n",
       "  0.162426  \n",
       "  0.255314  \n",
       "  0.432351  \n",
       " -0.476169  \n",
       " -0.429123  \n",
       "  0.149368  \n",
       " -0.296343  "
      ]
     },
     "execution_count": 70,
     "metadata": {},
     "output_type": "execute_result"
    }
   ],
   "source": [
    "F_thin[:Vt]*getvalue(x)"
   ]
  },
  {
   "cell_type": "code",
   "execution_count": 72,
   "metadata": {
    "collapsed": false
   },
   "outputs": [
    {
     "data": {
      "text/plain": [
       "25-element Array{Float64,1}:\n",
       " -0.159532   \n",
       "  0.191238   \n",
       "  0.240676   \n",
       "  0.109905   \n",
       "  0.00884959 \n",
       " -0.164614   \n",
       "  0.222767   \n",
       "  0.0117791  \n",
       "  0.162426   \n",
       "  0.255314   \n",
       "  0.432351   \n",
       " -0.476169   \n",
       " -0.429123   \n",
       "  0.149368   \n",
       " -0.296343   \n",
       " -7.67776e-10\n",
       "  1.30162e-8 \n",
       " -6.10437e-9 \n",
       "  1.22672e-8 \n",
       " -8.94684e-9 \n",
       " -7.28173e-10\n",
       "  4.40785e-9 \n",
       " -6.35031e-9 \n",
       " -8.72045e-9 \n",
       "  5.58992e-9 "
      ]
     },
     "execution_count": 72,
     "metadata": {},
     "output_type": "execute_result"
    }
   ],
   "source": [
    "F[:Vt]*getvalue(x)"
   ]
  },
  {
   "cell_type": "code",
   "execution_count": null,
   "metadata": {
    "collapsed": true
   },
   "outputs": [],
   "source": []
  },
  {
   "cell_type": "code",
   "execution_count": 61,
   "metadata": {
    "collapsed": false
   },
   "outputs": [
    {
     "data": {
      "text/plain": [
       "25-element Array{Float64,1}:\n",
       " -0.281543   \n",
       "  0.11066    \n",
       "  0.0658214  \n",
       " -0.000865727\n",
       " -0.400783   \n",
       " -0.0421855  \n",
       "  0.057246   \n",
       " -0.120863   \n",
       " -0.140768   \n",
       " -0.158874   \n",
       "  0.0259013  \n",
       "  0.234533   \n",
       "  0.282602   \n",
       " -0.228078   \n",
       " -0.313895   \n",
       "  0.0516091  \n",
       " -0.267173   \n",
       "  0.0647632  \n",
       " -0.0291125  \n",
       " -0.133085   \n",
       "  0.496979   \n",
       "  0.0254383  \n",
       " -0.130732   \n",
       " -0.197182   \n",
       " -0.0280272  "
      ]
     },
     "execution_count": 61,
     "metadata": {},
     "output_type": "execute_result"
    }
   ],
   "source": [
    "F[:V]*getvalue(x)"
   ]
  },
  {
   "cell_type": "code",
   "execution_count": 34,
   "metadata": {
    "collapsed": false
   },
   "outputs": [
    {
     "data": {
      "text/plain": [
       "3.0881886493281345e-8"
      ]
     },
     "execution_count": 34,
     "metadata": {},
     "output_type": "execute_result"
    }
   ],
   "source": [
    "# difference_vec_after_projection = P*getvalue(x) - getvalue(x)\n",
    "difference_vec_after_projection = (P - eye(size(P)[1]))*getvalue(x)\n",
    "norm(difference_vec_after_projection)"
   ]
  },
  {
   "cell_type": "code",
   "execution_count": 35,
   "metadata": {
    "collapsed": false
   },
   "outputs": [
    {
     "data": {
      "text/plain": [
       "25-element Array{Float64,1}:\n",
       " -0.234459   \n",
       " -0.0676163  \n",
       " -0.0312089  \n",
       " -0.168893   \n",
       "  0.0321733  \n",
       " -0.150168   \n",
       " -0.00629015 \n",
       "  0.358185   \n",
       "  0.307708   \n",
       "  0.221686   \n",
       " -0.0984953  \n",
       "  0.74154    \n",
       "  0.475333   \n",
       "  0.103012   \n",
       "  1.07623    \n",
       " -3.37631e-10\n",
       " -7.12851e-10\n",
       "  1.73857e-8 \n",
       "  2.20976e-9 \n",
       "  1.60355e-9 \n",
       " -2.17283e-8 \n",
       "  7.53564e-9 \n",
       "  2.06828e-9 \n",
       "  1.42318e-9 \n",
       " -1.03992e-8 "
      ]
     },
     "execution_count": 35,
     "metadata": {},
     "output_type": "execute_result"
    }
   ],
   "source": [
    "F[:Vt]*getvalue(x)"
   ]
  },
  {
   "cell_type": "code",
   "execution_count": 36,
   "metadata": {
    "collapsed": false
   },
   "outputs": [
    {
     "data": {
      "text/plain": [
       "15-element Array{Float64,1}:\n",
       "  1.59325e-7\n",
       " -2.53344e-7\n",
       " -3.94036e-7\n",
       "  2.20123e-8\n",
       "  6.22103e-8\n",
       "  4.39108e-7\n",
       " -4.61283e-7\n",
       " -9.26487e-8\n",
       " -2.82391e-7\n",
       "  1.4668e-7 \n",
       " -2.35755e-7\n",
       " -3.00236e-7\n",
       "  2.5771e-8 \n",
       "  5.68394e-7\n",
       "  5.46145e-7"
      ]
     },
     "execution_count": 36,
     "metadata": {},
     "output_type": "execute_result"
    }
   ],
   "source": [
    "A*getvalue(x) - b"
   ]
  },
  {
   "cell_type": "code",
   "execution_count": 37,
   "metadata": {
    "collapsed": false
   },
   "outputs": [
    {
     "name": "stdout",
     "output_type": "stream",
     "text": [
      "15"
     ]
    },
    {
     "data": {
      "text/plain": [
       "15"
      ]
     },
     "execution_count": 37,
     "metadata": {},
     "output_type": "execute_result"
    }
   ],
   "source": [
    "print(rank(A))\n",
    "sum(abs(F[:Vt]*getvalue(x)) .> err_tol)"
   ]
  },
  {
   "cell_type": "code",
   "execution_count": 38,
   "metadata": {
    "collapsed": false
   },
   "outputs": [
    {
     "name": "stdout",
     "output_type": "stream",
     "text": [
      "Variable values: \n",
      "[1.80611e12,3.13868e12,1.29458e13,2.07006e13,3.01237e12,1.17654e12,8.81925e12,-3.31566e13,2.12496e13,4.32131e12,-4.98955e12,1.67068e12,-4.4373e12,1.69751e12,4.19848e12,1.63666e13,1.92822e12,-1.10044e13,-1.27716e13,1.43185e13,-4.01737e13,-5.17508e12,-8.03078e12,7.26387e12,5.32892e12]\n"
     ]
    }
   ],
   "source": [
    "# here is a simple L1 norm minimizing attempt to solve the underdetermined system of equations -- i.e. get a qualifying x\n",
    "\n",
    "\n",
    "mymodel = Model(solver= CbcSolver())\n",
    "\n",
    "\n",
    "@variable(mymodel,    x_other[i = 1:n] ) \n",
    "@variable(mymodel,    y[i = 1:m] >= 0) \n",
    "@constraint(mymodel, -y .<= *(A,x_other)- b)\n",
    "@constraint(mymodel,  y .>= *(A,x_other)- b)\n",
    "# in effect y is the absolute value version of x\n",
    "\n",
    "@objective(mymodel, Min, sum(y))\n",
    "# minimize the L1 norm\n",
    "\n",
    "# Solve the optimization problem\n",
    "solve(mymodel)\n",
    "println(\"Variable values: \\n\", getvalue(x_other))\n"
   ]
  },
  {
   "cell_type": "code",
   "execution_count": 39,
   "metadata": {
    "collapsed": false
   },
   "outputs": [
    {
     "data": {
      "text/plain": [
       "0.02564339342117616"
      ]
     },
     "execution_count": 39,
     "metadata": {},
     "output_type": "execute_result"
    }
   ],
   "source": [
    "norm(A*getvalue(x_other) - b)"
   ]
  },
  {
   "cell_type": "code",
   "execution_count": 40,
   "metadata": {
    "collapsed": false
   },
   "outputs": [
    {
     "data": {
      "text/plain": [
       "25-element Array{Float64,1}:\n",
       "  1.80611e12\n",
       "  3.13868e12\n",
       "  1.29458e13\n",
       "  2.07006e13\n",
       "  3.01237e12\n",
       "  1.17654e12\n",
       "  8.81925e12\n",
       " -3.31566e13\n",
       "  2.12496e13\n",
       "  4.32131e12\n",
       " -4.98955e12\n",
       "  1.67068e12\n",
       " -4.4373e12 \n",
       "  1.69751e12\n",
       "  4.19848e12\n",
       "  1.63666e13\n",
       "  1.92822e12\n",
       " -1.10044e13\n",
       " -1.27716e13\n",
       "  1.43185e13\n",
       " -4.01737e13\n",
       " -5.17508e12\n",
       " -8.03078e12\n",
       "  7.26387e12\n",
       "  5.32892e12"
      ]
     },
     "execution_count": 40,
     "metadata": {},
     "output_type": "execute_result"
    }
   ],
   "source": [
    "getvalue(x_other)"
   ]
  },
  {
   "cell_type": "code",
   "execution_count": 41,
   "metadata": {
    "collapsed": false
   },
   "outputs": [
    {
     "data": {
      "text/plain": [
       "25-element Array{Float64,1}:\n",
       "  0.256592 \n",
       " -0.209137 \n",
       " -0.279785 \n",
       "  0.177124 \n",
       " -0.0190125\n",
       " -0.266357 \n",
       "  0.712402 \n",
       " -0.0906067\n",
       "  0.0768661\n",
       " -0.244507 \n",
       " -0.0335693\n",
       " -0.163574 \n",
       " -0.236633 \n",
       "  0.0379562\n",
       "  0.0567627\n",
       "  0.198669 \n",
       " -0.548616 \n",
       "  0.463196 \n",
       "  0.489746 \n",
       "  0.320313 \n",
       " -0.0193481\n",
       "  0.405212 \n",
       "  0.450195 \n",
       " -0.15435  \n",
       " -0.0131836"
      ]
     },
     "execution_count": 41,
     "metadata": {},
     "output_type": "execute_result"
    }
   ],
   "source": [
    "P*getvalue(x_other)"
   ]
  },
  {
   "cell_type": "code",
   "execution_count": 42,
   "metadata": {
    "collapsed": false
   },
   "outputs": [
    {
     "data": {
      "text/plain": [
       "25-element Array{Float64,1}:\n",
       "  0.274713 \n",
       " -0.203582 \n",
       " -0.283221 \n",
       "  0.171458 \n",
       " -0.0223745\n",
       " -0.276543 \n",
       "  0.719975 \n",
       " -0.0971316\n",
       "  0.0766921\n",
       " -0.265628 \n",
       " -0.0500203\n",
       " -0.170985 \n",
       " -0.225619 \n",
       "  0.0393252\n",
       "  0.0583854\n",
       "  0.216452 \n",
       " -0.568365 \n",
       "  0.473077 \n",
       "  0.489513 \n",
       "  0.343962 \n",
       " -0.0105203\n",
       "  0.395922 \n",
       "  0.460224 \n",
       " -0.149768 \n",
       " -0.0337528"
      ]
     },
     "execution_count": 42,
     "metadata": {},
     "output_type": "execute_result"
    }
   ],
   "source": [
    "getvalue(x)"
   ]
  },
  {
   "cell_type": "code",
   "execution_count": null,
   "metadata": {
    "collapsed": true
   },
   "outputs": [],
   "source": []
  }
 ],
 "metadata": {
  "kernelspec": {
   "display_name": "Julia 0.5.2",
   "language": "julia",
   "name": "julia-0.5"
  },
  "language_info": {
   "file_extension": ".jl",
   "mimetype": "application/julia",
   "name": "julia",
   "version": "0.5.2"
  }
 },
 "nbformat": 4,
 "nbformat_minor": 0
}

{
 "cells": [
  {
   "cell_type": "markdown",
   "metadata": {},
   "source": [
    "I stumbled onto this inequality while working on problem 8.7 (SVMs) in 'Learning From Data'\n",
    "\n",
    "(all matrices are finitie dimensional and real valued)\n",
    "\n",
    "$\\mathbf 1 =\\begin{bmatrix}\n",
    "1\\\\ \n",
    "1\\\\ \n",
    "\\vdots \\\\ \n",
    "1\n",
    "\\end{bmatrix}$\n",
    "\n",
    "\n",
    "$\\mathbf X^T = \n",
    "\\bigg[\\begin{array}{c|c|c|c}\n",
    "\\mathbf x_1 & \\mathbf x_2 &\\cdots & \\mathbf x_{N}\n",
    "\\end{array}\\bigg]\n",
    "$   \n",
    "\n",
    "\n",
    "Thus $\\mathbf{X X}^T$ is symmetric, positive semi-definite, $N$x$N$ matrix\n",
    "\n",
    "**claim:**\n",
    "\n",
    "$N * trace\\big(\\mathbf{X X}^T\\big) \\geq \\mathbf 1^T \\mathbf{X X}^T \\mathbf 1 = sum \\big(\\mathbf{X X}^T\\big)$\n",
    "\n",
    "That is, a scalar of $N$ multiplied by the sum of the $N$ diagonal elements that come from $trace\\big(\\mathbf{X X}^T\\big)$ must be at least as big as the sum of the entire $N^2$ elements in $\\mathbf{X X}^T$\n",
    "\n",
    "\n",
    "note that $trace(\\mathbf {X X}^T) =  \\Sigma_{n=1}^{N} \\mathbf x_n^T \\mathbf x_n = \\mathbf x_1^T \\mathbf x_1 + \\mathbf x_2^T \\mathbf x_2 + ... + \\mathbf x_N^T \\mathbf x_N = \\mathbf 1^T\\big(\\mathbf x_1\\circ \\mathbf x_1 + \\mathbf x_2\\circ \\mathbf x_2 + ... + \\mathbf x_N \\circ \\mathbf x_N\\big) = N \\mathbf 1^T E\\big[ \\mathbf{x} \\circ \\mathbf {x}\\big] $\n",
    "\n",
    "Further, notice that $\\big(\\mathbf 1^T \\mathbf{X}\\big) \\big(\\mathbf X^T \\mathbf 1\\big)= \\big(\\mathbf X^T \\mathbf 1\\big)^T \\big(\\mathbf X^T \\mathbf 1\\big) = E\\big[N\\mathbf x\\big]^TE\\big[N\\mathbf x\\big] = N^2 \\mathbf 1^T \\Big( E\\big[\\mathbf x\\big] \\circ E\\big[\\mathbf x\\big]\\Big) $\n",
    "\n",
    "where $\\circ$ denotes the Hadarmard product, and $E\\big[ \\big]$ denotes taking the expected value / arithmetic mean (we can think of the column vectors in $\\mathbf X^T$ as being uniformly distributed, if helpful)\n",
    "\n",
    "**proof:**  \n",
    "$N * trace\\big(\\mathbf{X X}^T\\big) = N^2 \\mathbf 1^T E\\big[ \\mathbf{x} \\circ \\mathbf {x}\\big] \\geq N^2 \\mathbf 1^T \\Big( E\\big[\\mathbf x\\big] \\circ E\\big[\\mathbf x\\big]\\Big)= \\mathbf 1^T \\mathbf{X X}^T \\mathbf 1$\n",
    "\n",
    "because: \n",
    "\n",
    "$ \\mathbf 1^T E\\big[ \\mathbf{x} \\circ \\mathbf {x}\\big] \\geq \\mathbf 1^T \\Big( E\\big[\\mathbf x\\big] \\circ E\\big[\\mathbf x\\big]\\Big)$\n",
    "\n",
    "equivalently:\n",
    "\n",
    "$ \\big(\\mathbf{e_1 + e_2 + ... + e_N} \\big)^T  E\\big[ \\mathbf{x} \\circ \\mathbf {x}\\big] \\geq \\big(\\mathbf{e_1 + e_2 + ... + e_N} \\big)^T \\Big( E\\big[\\mathbf x\\big] \\circ E\\big[\\mathbf x\\big]\\Big)$\n",
    "\n",
    "where $\\mathbf e_k$ denotes the kth unit standard vector (i.e. column slice of the $N$ x $N$ Identity matrix) for $k = \\{1, 2, ... N\\}$\n",
    "\n",
    "The above is true due to Jensen's Inequality.  In fact Jensen's Inequality makes an even stronger statement:\n",
    "\n",
    "$ \\mathbf e_k^T \\Big(E\\big[ \\mathbf{x} \\circ \\mathbf {x}\\big]\\Big) \\geq \\mathbf e_k^T \\Big( E\\big[\\mathbf x\\big] \\circ E\\big[\\mathbf x\\big]\\Big)$\n",
    "\n",
    "which can be re-written as:\n",
    "\n",
    "$  E\\big[ \\mathbf{x} \\circ \\mathbf {x}\\big] .\\geq  \\Big( E\\big[\\mathbf x\\big] \\circ E\\big[\\mathbf x\\big]\\Big)$\n",
    "\n",
    "where $.\\geq$ denotes elevement-wise comparisons between the vectors.\n"
   ]
  },
  {
   "cell_type": "code",
   "execution_count": null,
   "metadata": {
    "collapsed": true
   },
   "outputs": [],
   "source": []
  }
 ],
 "metadata": {
  "kernelspec": {
   "display_name": "Python [py35]",
   "language": "python",
   "name": "Python [py35]"
  },
  "language_info": {
   "codemirror_mode": {
    "name": "ipython",
    "version": 3
   },
   "file_extension": ".py",
   "mimetype": "text/x-python",
   "name": "python",
   "nbconvert_exporter": "python",
   "pygments_lexer": "ipython3",
   "version": "3.5.2"
  }
 },
 "nbformat": 4,
 "nbformat_minor": 0
}

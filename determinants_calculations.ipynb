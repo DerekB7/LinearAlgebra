{
 "cells": [
  {
   "cell_type": "markdown",
   "metadata": {},
   "source": [
    "This is a somewhat straightforward, perhaps even naive calculation of determinants via the recursive approach mentioned here:   \n",
    "http://linear.ups.edu/fcla/section-DM.html\n",
    "\n",
    "The point of this code is for your author (or outside user) to better 'visualize' the definition of a determinant.  This code is a way to put that into practice.  This code, of course, should not be used for n > 15 as it grows O(n!)  \n",
    "\n",
    "One particularly nice thing about this, is if we interpret our $n$ x $n$ matrices as graphs, we can see that this is calculating paths that visit one (weighted) destination, and it chains the weights together and in fact each full 'pass' terminate at the point of creating a full cycle -- the approach is infact awfully close to depth first search.  After going through and 'trying' each and every full cycle, our formula sums all these chains.  The one 'peculiar' thing is line 52 in the code which has \n",
    "\n",
    "    ones_alternating *= -1\n",
    "\n",
    "This is what makes the determinant tractable and in line with geometric intuition / inspiration -- and of course can be used in linear independence tests, developing the characteristic polynomial and so on.  On the other hand, this alternating minus sign is also, strictly speaking, where it departs from a permanent. \n",
    "\n"
   ]
  },
  {
   "cell_type": "code",
   "execution_count": 1,
   "metadata": {
    "collapsed": true
   },
   "outputs": [],
   "source": [
    "import numpy as np\n",
    "import numba\n",
    "np.set_printoptions(precision = 2, linewidth=180)"
   ]
  },
  {
   "cell_type": "code",
   "execution_count": 2,
   "metadata": {
    "collapsed": false
   },
   "outputs": [],
   "source": [
    "@numba.jit(nopython = True)\n",
    "def create_sub_matrix(A, m, n, k):\n",
    "    ### the below routine is used to in effect slice off row zero, \n",
    "    # and then slice off different sub matrices\n",
    "    # i did not see a particularly great way of doing this directly with numpy indexing\n",
    "    row_index = -1\n",
    "    sliced_A = np.zeros((m - 1, n - 1))\n",
    "\n",
    "    for i in range(1,m):\n",
    "        # recall that we always skip row zero\n",
    "        row_index += 1                \n",
    "        col_index = -1\n",
    "        \n",
    "        for j in range(n):                    \n",
    "            if j == k:\n",
    "                continue\n",
    "            col_index += 1\n",
    "            sliced_A[row_index, col_index] += A[i,j]\n",
    "    return sliced_A\n",
    "\n",
    "\n",
    "def compute_determinant_recursively(A, level= 0):\n",
    "    \"\"\"\n",
    "    This is the main function for computing the determinant of a square matrix\n",
    "    in a 'textbook' manner\n",
    "    \"\"\"\n",
    "    m, n = A.shape\n",
    "    #######\n",
    "    # it's a common convention to not go all the way down to a 1 x 1 matrix, \n",
    "    # and instead have the 2 x 2 as your base case\n",
    "    # however, this whole process is here for thought experiment purposes, \n",
    "    # so I tweaked it to go the extra step to the 1 x 1\n",
    "    \n",
    "    # conventional base case, is below\n",
    "    #     if m == 2 and n == 2:\n",
    "    #    return A[0,0] * A[1,1] - A[1,0] * A[0,1]\n",
    "    #######\n",
    "    \n",
    "    if m == 1 and n == 1:\n",
    "        # base case\n",
    "        return A[0,0]\n",
    "    else:\n",
    "        # recursive casse\n",
    "        running_sum = 0\n",
    "        ones_alternating = -1\n",
    "        \n",
    "        for k in range(A.shape[1]):            \n",
    "            sub_matrix = create_sub_matrix(A, m, n, k)\n",
    "#             print(\"level = \", level)\n",
    "#             print(sub_matrix, \"\\n\",)\n",
    "            \n",
    "            ones_alternating *= -1\n",
    "            scalar = ones_alternating * A[0,k]            \n",
    "            increment = compute_determinant_recursively(sub_matrix, level + 1)\n",
    "            running_sum += scalar * increment\n",
    "        return running_sum\n"
   ]
  },
  {
   "cell_type": "code",
   "execution_count": 3,
   "metadata": {
    "collapsed": false
   },
   "outputs": [
    {
     "data": {
      "text/plain": [
       "array([[ 0.18,  0.8 ,  0.54,  0.12],\n",
       "       [ 0.18,  0.88,  0.77,  0.18],\n",
       "       [ 0.5 ,  0.92,  0.06,  0.57],\n",
       "       [ 0.82,  0.75,  0.92,  0.29]])"
      ]
     },
     "execution_count": 3,
     "metadata": {},
     "output_type": "execute_result"
    }
   ],
   "source": [
    "n = 4\n",
    "\n",
    "# A = np.random.randn((n**2))\n",
    "A = np.random.rand(n**2)\n",
    "A\n",
    "A = np.reshape(A,(n,n))\n",
    "A\n",
    "\n",
    "# A = np.array([[ 3,  2, -1],\n",
    "#               [ 4,  1,  6],\n",
    "#               [-3, -1,  2]])"
   ]
  },
  {
   "cell_type": "code",
   "execution_count": 4,
   "metadata": {
    "collapsed": false
   },
   "outputs": [
    {
     "data": {
      "text/plain": [
       "-0.053044159878338576"
      ]
     },
     "execution_count": 4,
     "metadata": {},
     "output_type": "execute_result"
    }
   ],
   "source": [
    "np.linalg.det(A)"
   ]
  },
  {
   "cell_type": "code",
   "execution_count": 5,
   "metadata": {
    "collapsed": false
   },
   "outputs": [
    {
     "data": {
      "text/plain": [
       "array([[0, 0],\n",
       "       [1, 0]])"
      ]
     },
     "execution_count": 5,
     "metadata": {},
     "output_type": "execute_result"
    }
   ],
   "source": [
    "m = 2\n",
    "A = np.random.randint(0, 2, m**2)\n",
    "A = A.reshape(m,m)\n",
    "A"
   ]
  },
  {
   "cell_type": "code",
   "execution_count": 6,
   "metadata": {
    "collapsed": false
   },
   "outputs": [
    {
     "data": {
      "text/plain": [
       "0"
      ]
     },
     "execution_count": 6,
     "metadata": {},
     "output_type": "execute_result"
    }
   ],
   "source": [
    "int(round(2.1%2,0))"
   ]
  },
  {
   "cell_type": "code",
   "execution_count": null,
   "metadata": {
    "collapsed": true
   },
   "outputs": [],
   "source": []
  },
  {
   "cell_type": "markdown",
   "metadata": {},
   "source": [
    "The below has some interesting things about determinants over reals vs gf(2) of random matrices that only have 0 or 1 in them.  \n"
   ]
  },
  {
   "cell_type": "code",
   "execution_count": 7,
   "metadata": {
    "collapsed": false
   },
   "outputs": [
    {
     "name": "stdout",
     "output_type": "stream",
     "text": [
      "the nonsingular percentage over gf2 is: \n",
      "0.28868 \n",
      "\n",
      "the nonsingular percentage over reals is: \n",
      "0.99996\n"
     ]
    }
   ],
   "source": [
    "K_trials = 50000\n",
    "m = 25\n",
    "gf2_hits = 0\n",
    "reals_hits = 0\n",
    "\n",
    "for _ in range(K_trials):    \n",
    "    A = np.random.randint(0, 2, m**2)\n",
    "    A = A.reshape(m,m)\n",
    "    result = int(round(np.linalg.det(A), 0))\n",
    "    if result % 2 !=0:        \n",
    "        # i.e. a 'hit' is when we have a nonsingular matrix\n",
    "        gf2_hits += 1\n",
    "    if result != 0:\n",
    "        reals_hits += 1\n",
    "        \n",
    "print(\"the nonsingular percentage over gf2 is: \")\n",
    "print(gf2_hits / K_trials, \"\\n\")\n",
    "print('the nonsingular percentage over reals is: ')\n",
    "print(reals_hits/ K_trials)\n",
    "\n",
    "    \n",
    "    "
   ]
  },
  {
   "cell_type": "code",
   "execution_count": null,
   "metadata": {
    "collapsed": true
   },
   "outputs": [],
   "source": []
  },
  {
   "cell_type": "markdown",
   "metadata": {},
   "source": [
    "The below is a mostly unrelated routine, geared toward calculating determinants of symbolic functions that return values over Reals (or perhaps complex numbers)\n"
   ]
  },
  {
   "cell_type": "code",
   "execution_count": 8,
   "metadata": {
    "collapsed": true
   },
   "outputs": [],
   "source": [
    "import sympy as sp\n",
    "from sympy import sqrt\n",
    "from sympy import sin\n",
    "from fractions import Fraction"
   ]
  },
  {
   "cell_type": "code",
   "execution_count": 9,
   "metadata": {
    "collapsed": true
   },
   "outputs": [],
   "source": [
    "x = sp.Symbol('x')\n",
    "y = sp.Symbol('y')\n",
    "z = sp.Symbol('z')"
   ]
  },
  {
   "cell_type": "code",
   "execution_count": 10,
   "metadata": {
    "collapsed": true
   },
   "outputs": [],
   "source": [
    "def get_char_pol_sym(A):\n",
    "    \"\"\"\n",
    "    This uses Newton's identities to get the characteristic polynomial,\n",
    "    (valid over fields with characteristic zero)\n",
    "    adjusted for sympy\n",
    "    \"\"\"\n",
    "    assert(A.shape[0] == A.shape[1]) # it must be a square matrix\n",
    "    n = A.shape[0]\n",
    "    \n",
    "    # slightly different syntax for making a vector of zeros in sympy\n",
    "    charpoly_array = sp.zeros(n + 1, 1)\n",
    "    traces_array = sp.zeros(n + 1, 1)\n",
    "    \n",
    "    traces_array[0] = n\n",
    "    working_matrix = A.copy()\n",
    "    \n",
    "    traces_array[1] = sp.trace(working_matrix)\n",
    "    tracer_idx = 1\n",
    "    # note trace (A^1) will be in the position 1...    \n",
    "    # a_0, a_1, a_2, ..., a_n\n",
    "    charpoly_array[n] = 1\n",
    "    \n",
    "    for r in range(1, n):\n",
    "        # through n-1, then separate handling at the end for a_0\n",
    "        a_idx = n - r\n",
    "        running_sum = 0        \n",
    "        \n",
    "        working_matrix = working_matrix * A\n",
    "        tracer_idx += 1\n",
    "        traces_array[tracer_idx] = sp.trace(working_matrix)\n",
    "        for j in range(1, r + 1):\n",
    "            running_sum += charpoly_array[a_idx + j] * traces_array[j]\n",
    "            # this itself can go in a memo I think... simplisitically with np.zeros and such... \n",
    "            # slightly more complicated with a buffer / pivot to which we don't go past\n",
    "#         charpoly_array[a_idx] += - running_sum  * 1/ r\n",
    "        charpoly_array[a_idx] += - sp.simplify(running_sum)  * Fraction(1, r)\n",
    "    \n",
    "    another_running_sum = 0\n",
    "    for i in range(1, n + 1):\n",
    "        another_running_sum += charpoly_array[i] * traces_array[i]\n",
    "#     charpoly_array[0] = -1/n * another_running_sum \n",
    "    charpoly_array[0] = - Fraction(1,n) * sp.simplify(another_running_sum)\n",
    "    determinant = charpoly_array[0]\n",
    "    return charpoly_array.T, determinant"
   ]
  },
  {
   "cell_type": "code",
   "execution_count": null,
   "metadata": {
    "collapsed": true
   },
   "outputs": [],
   "source": []
  },
  {
   "cell_type": "code",
   "execution_count": 11,
   "metadata": {
    "collapsed": false
   },
   "outputs": [
    {
     "data": {
      "text/plain": [
       "Matrix([\n",
       "[              2*x,               2*y,                          2*z],\n",
       "[         4*x*y**2,          4*x**2*y,                            0],\n",
       "[4*x**3 + 4*x*z**2, 4*y**3 + 4*y*z**2, 4*x**2*z + 4*y**2*z + 4*z**3]])"
      ]
     },
     "execution_count": 11,
     "metadata": {},
     "output_type": "execute_result"
    }
   ],
   "source": [
    "# B = sp.Matrix([[x, 2*x,  sin(3*x), 5*x],\n",
    "#                [3*x, 4*x, sqrt(x), 6*x ],\n",
    "#                [sqrt(x), sin(x), 3*sin(x), 7*x],\n",
    "#                [sqrt(2*x), sin(3*x), 3*sin(4*x), 8*x]\n",
    "#               ])\n",
    "# B\n",
    "\n",
    "B = sp.Matrix([[2*x, 2*y,  2*z, ],\n",
    "               [4*x*y**2, 4*x**2*y, 0],\n",
    "               [4*x**3 + 4*x*z**2, 4*y*z**2 + 4*y**3, 4*x**2*z + 4*z**3 +4*y**2*z]])\n",
    "B\n",
    "\n",
    "# an example from page 14 of 16 in MITRES_18_007_supp_notes07.pdf\n"
   ]
  },
  {
   "cell_type": "code",
   "execution_count": 12,
   "metadata": {
    "collapsed": false
   },
   "outputs": [
    {
     "name": "stdout",
     "output_type": "stream",
     "text": [
      "\n",
      "and the determinant is\n",
      "\n"
     ]
    },
    {
     "data": {
      "text/plain": [
       "0"
      ]
     },
     "execution_count": 12,
     "metadata": {},
     "output_type": "execute_result"
    }
   ],
   "source": [
    "charpoly, determinant = get_char_pol_sym(B)\n",
    "# print(charpoly)\n",
    "print(\"\\nand the determinant is\\n\")\n",
    "sp.simplify(determinant)"
   ]
  },
  {
   "cell_type": "code",
   "execution_count": 13,
   "metadata": {
    "collapsed": false
   },
   "outputs": [
    {
     "data": {
      "text/plain": [
       "0"
      ]
     },
     "execution_count": 13,
     "metadata": {},
     "output_type": "execute_result"
    }
   ],
   "source": [
    "B.det()"
   ]
  }
 ],
 "metadata": {
  "kernelspec": {
   "display_name": "Python [py35]",
   "language": "python",
   "name": "Python [py35]"
  },
  "language_info": {
   "codemirror_mode": {
    "name": "ipython",
    "version": 3
   },
   "file_extension": ".py",
   "mimetype": "text/x-python",
   "name": "python",
   "nbconvert_exporter": "python",
   "pygments_lexer": "ipython3",
   "version": "3.5.2"
  }
 },
 "nbformat": 4,
 "nbformat_minor": 0
}

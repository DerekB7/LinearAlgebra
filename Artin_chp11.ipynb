{
 "cells": [
  {
   "cell_type": "code",
   "execution_count": null,
   "metadata": {},
   "outputs": [],
   "source": []
  },
  {
   "cell_type": "markdown",
   "metadata": {},
   "source": [
    "There are some miscellaneous problems in here from chapter 10 as well as from Pinter\n",
    "\n",
    "In particular the chapter 10 related items show up shortly after ex 11.4.17  "
   ]
  },
  {
   "cell_type": "code",
   "execution_count": null,
   "metadata": {},
   "outputs": [],
   "source": []
  },
  {
   "cell_type": "markdown",
   "metadata": {},
   "source": [
    "**ex 11.4.11**  \n",
    "\n",
    "let $A \\neq I$ be an integer valued matrix such that $A^p = I_n$.  Prove that $n\\geq p-1$.  \n",
    "\n",
    "observe that when working over $\\mathbb C$  \n",
    "$A\\mathbf v = \\lambda \\mathbf v \\longrightarrow A^p\\mathbf v = \\lambda^p \\mathbf v = I_n\\mathbf v = \\mathbf v$  \n",
    "thus  $\\big(\\lambda^p-1\\big)\\mathbf v = \\mathbf 0$  \n",
    "i.e. $\\lambda$ must be a $p$th root of unity.   \n",
    "\n",
    "Note: setting $A$ equal to the Companion Matrix for the cyclotomic polynomial $x^{p-1} + x^{p-2}+...+x+1$ implies $n = p-1$ so this is feasible.  The cyclotomic polynomial, per Corollary 4.6 (Eisentstein's Criteria) is irreducible in $\\mathbb Q[x]$. \n",
    "\n",
    "We consider prime $p\\geq 3$ in the below since the $p=2$ case trivially holds.  \n",
    "\n",
    "In general we proceed by toggling the fields of $\\mathbb Q$ and $\\mathbb C$.  \n",
    "- - - -  \n",
    "Over $\\mathbb C$, $A$ is diagonalizable  \n",
    "https://math.stackexchange.com/questions/3792992/a-is-real-matrix-and-for-some-k-geq-2-ak-is-similar-to-an-orthogonal-matr/\n",
    "\n",
    "*the purpose of this in the Harvard exercise appears to be in proving it must have at least 2 distinct eigenvalues*  \n",
    "\n",
    "This can also be done via a minimal polynomial argument, or getting in the weeds of Jordan Forms though we haven't contemplated either of these in Artin just yet.  \n",
    "\n",
    "Alternatively we could show that $A$ cannot have just $1$ as an eigenvalue by contradiction -- suppose it did, then it would be similar to an upper triangular matrix $R$ with just just ones on the diagonal (chp 4).  \n",
    "$SAS^{-1} = R = I +N$, with strictly upper triangular (nilpotent) matrix $N$   \n",
    "\n",
    "$I = SA^p S^{-1} = R^p =\\big(I +N\\big)^p = I + \\sum_{j=1}^p \\binom{p}{j}N^j \\implies \\sum_{j=1}^p \\binom{p}{j}N^j = \\mathbf 0$  \n",
    "since $A\\neq I$ we know $N \\neq \\mathbf 0$  \n",
    "but the above suggests the powers of $N$ are linearly dependent which is a contradiction, i.e.  \n",
    "we know $N^k = \\mathbf 0$ for some positive integer $k\\leq n$ and we select $k$ to be the *first* positive integer for which this occurs.  It cannot be the case that $k=2$ otherwise this implies $\\binom{p}{1}N  =\\mathbf 0$, contradiction, so $k\\geq 3$.  Now multiply each side by $N^{k-2}$ and we get   \n",
    "$\\binom{p}{1}N^{k-1} = \\mathbf 0$  which contradicts the fact that $N^{k-1}\\neq 0$ (and for avoidance of doubt we are in a field/ring of characteristic zero so $\\binom{p}{1} \\neq \\mathbf 0$).  \n",
    "\n",
    "This is in marked contrast to ex 10.3.22 (p. 381) where for a ring of prime characteristic $p$, $(I+N)$ is unipotent, i.e. $(I+N)^r =I$ for some natural number $r$.  \n",
    "\n",
    "remark: we could *also* have argued by contrapositive and directly used *ex 4.Misc.13* here which said (implicitly working over $\\mathbb C$) \"if $A^r = I_n$ and A has only one eigenvalue $\\lambda_i$ then $A=\\lambda_i I_n$\"; see 'Artin_chp4.ipynb' for a direct proof that does not rely on contradiction.  \n",
    "\n",
    "- - - -  \n",
    "\n",
    "over $\\mathbb C$: being diagonalizable but $A\\neq I$ implies $A$ has at least two distinct eigenvalues -- and since $1$ is the only real pth root of unity this means if one is an eigenvalue of $A$ then it has at least two distinct non-real eigenvalues coming in conjugate pairs.  The bulk of what follows ignores the case of $1$ being an eigenvalue and focuses on the (at least) 2 distinct non-real eigenvalues.      \n",
    "\n",
    "and any eigenvalues are necessarily $p$th roots of unity.  \n",
    "\n",
    "The essence of the two arguments below is to assume that some $n\\lt p-1$ exists.  This implies a char poly of degree $\\lt p-1$ which implies an polynomial with coefficients in $\\mathbb Q$ without repeated roots (over $\\mathbb C$) which (after dividing out $(x-1)$ if needed) contradicts the irreducibility of the cyclotomic polynomial over $\\mathbb Q$.  \n",
    "\n",
    "1.)  \n",
    "suppose for a contradiction that $n\\lt p-1$:  \n",
    "then $A$ has a degree $n \\lt p-1$ characteristic polynomial $f(x)$ with integer coefficients --since $A$ has integer coefficients $\\det\\big(x I -A\\big)= f(x)$ results in an expression where every term is an integer -- alternatively recall ex 4.11.b (p. 148) which told us we can recover terms of the characteristic polynomial via sums of principal minors.  \n",
    "\n",
    "Either $f(x)$ is irreducible over $\\mathbb Q$ or it is not.  If it is reducible consider one of its nontrivial irreducible factors where $f(x)=q_1(x)\\cdot q_2(x)\\cdot...\\cdot q_m(x)$ (with multiplicity); since it has more than one distinct eigenvalue and $(x-1)$ factors over $\\mathbb Q$ there is some $i$ where $q_i(1)\\neq 0$  -- WLOG call this $q_1(x)$.  If $f(x)$ is irreducible set $f(x):= q_1(x)$.  Now $q_1(x)$ is irreducible and rational valued.  If $q_1(x)$ has repeated roots when viewed over $\\mathbb C$ but is irreducible when viewed over $\\mathbb Q$ then it contradicts ex $11.1.14$ (proven later after introduction of *resultants*) hence $q_1(x)$ must have no repeated roots over $\\mathbb C$.   Since it has no repeated roots over $\\mathbb C$, then it divides the cyclotomic polynomial over $\\mathbb Q$ which contradicts the irreducibility of the cyclotomic polynomial. \n",
    "\n",
    "*alternative finishes*  \n",
    "i.) the end of the solution in the Harvard course:  consider that the char poly has at least two complex roots-- if one is a root, factor it out. The result is a polynomial with degree of the form $\\text{char poly degree}\\geq \\text{degree polynomial with 1 factored out}$.  We now show $\\text{degree polynomial with 1 factored out}\\geq p-1$.  Since this factored polynomial is in the ideal of polynomials having $\\omega$ as (complex) root where $\\omega$ is some non-real pth root of unity. We may consider this as an ideal of $\\mathbb Q[x]$, which is a principal ideal and this contains the cyclotomic polynomial, which is irreducible, and hence the  cyclotomic polynomial generates the ideal, and thus our polynomial is divisible by cyclotomic polynomial and has degree at least $p-1$.  \n",
    "\n",
    "ii.) Suppose we have factored out out $(x-1)$ from the characteristic polynomial so $f(x)= (x-1)^j\\cdot q(x)$.  Thus $q(1)\\neq 0$ and $\\text{degree}\\big(q\\big) \\leq n \\lt p-1$ but $q$ has coefficients in $\\mathbb Q$.  Then compute the resultant $=\\det\\big(S_{yl}(\\text{cyclotomic}, q,x)\\big)= \\eta$.  Now the Sylvester matrix has rational coefficients but its determinant doesn't change if we change the underlying field to $\\mathbb C$.  Over $\\mathbb C$ $q(x)$ and the cyclotomic polynomial have at least one pth root of unity in common so resultant = $\\eta =0$ which implies that the resultant is zero when the field is $\\mathbb Q$ which implies a common nonconstant factor shared by $q$ and the cyclotomic polynomial over $\\mathbb Q$ which contradicts the irreducibility of the cyclotomic polynomial over rationals.   \n",
    "\n",
    "note: the resultant is developed later on in this notebook  \n",
    "\n",
    "2.)  \n",
    "**Linear Algebra Intensive Proof**  \n",
    "\n",
    "from ex 4.Misc.15 we know the Cayley Hamilton theorem, so working over $\\mathbb Q$   \n",
    "$f\\big(A\\big) = \\mathbf 0$   \n",
    "working over $\\mathbb C$ we have  \n",
    "$g\\big(A\\big)=\\mathbf 0$ where $g$ is the *minimal polynomial* which has no repeated linear factors since $A$ is diagonalizable (introduced in 'Artin_chp4.ipynb' under 'application of Sylvester's Rank Inequality').  The minimal polynomial necessarily has degree $d\\leq n$ and when viewed over $\\mathbb C$ it divides $f$ (as they have the same sets of roots though $f$'s set of roots is the same as its multiset of roots, which may not be the case for $f$).  \n",
    "\n",
    "There is some (we don't argue for uniqueness) minimal degree monic polynomial which annihilates $A$ over $\\mathbb  Q$ because \n",
    "$a_0 I + a_1 A + a_2 A^2 + ...+ a_{n-1}A^{n-1}+ A^n = \\mathbf 0$ is isomorphic to  \n",
    "$a_0 \\text{vec}\\big(I\\big) + a_1 \\text{vec}\\big(A\\big) + a_2 \\text{vec}\\big(A^2\\big) + ...+ a_{n-1}\\text{vec}\\big(A^{n-1}\\big)+ \\text{vec}\\big(A^n\\big) = \\mathbf 0$   \n",
    "hence treating $A^k$ as a vector in $\\mathbb Q^{n^2}$ we may be able to find a proper subset that is linearly dependent (and since we are in a field we can divide out the leading coefficient to be 1).  Or we may not be able to do so. But in fact if we know the minimal polynomial over $\\mathbb C$ has degree $d$ then we know   \n",
    "\n",
    "\n",
    "$\\big\\{\\text{vec}\\big(I\\big), \\text{vec}\\big(A\\big), \\text{vec}\\big(A^2\\big), ..., \\text{vec}\\big(A^d\\big)\\big\\}$ is a linearly dependent set over $\\mathbb C$ but that implies it is linearly dependent over $\\mathbb Q$ because the rank of a set of vectors in $\\mathbb Q$  doesn't change when we extend the field to $\\mathbb C$  \n",
    "https://math.stackexchange.com/questions/3777401/does-real-dimension-equal-rational-dimension/\n",
    "\n",
    "Conversely (obviously?) any polynomial that annihilates $A$ over $\\mathbb Q$ still anihilates $A$ when viewed over $\\mathbb C$.   So the degree of the minimal polynomial is the same over $\\mathbb Q$ or $\\mathbb C$.  And thus they may be chosen to be the same polynomial.  (In fact the conclusion is a touch stronger since the minimal polynomial is unique for a given field -- since we can choose them to be the same implies they *must* be the same, though these concepts will not be flushed out till chapter 12).  \n",
    "\n",
    "\n",
    "Thus after much work, we have \n",
    "$g\\big(A\\big)=\\mathbf 0$  \n",
    "where $g$ is the minimal degree annihilating polynomial.  Since $A$ is diagonalizable we know that $g$ has no repeated roots over $\\mathbb C$, yet its coefficients are in $\\mathbb Q$ hence (after dividing out $(x-1)$ as necessary) it divides the cyclotomic polynomial over $\\mathbb Q$ which contradicts said polynomials' irreducibility.   \n",
    "\n",
    "*remark:*  \n",
    "I think we can show the minimal polynomial divides the characteristic polynomial by simply working through standard polynomial division  \n",
    "$f(x)= g(x)h(x)+r(x)$  \n",
    "and plug in $A$  \n",
    "$f\\big(A\\big)=g\\big(A\\big)h\\big(A\\big)+r\\big(A\\big)$  \n",
    "and $f\\big(A\\big) = \\mathbf 0 = g\\big(A\\big)\\longrightarrow r\\big(A\\big) = \\mathbf 0$ thus  \n",
    "$f\\big(A\\big)=g\\big(A\\big)\\Big(h\\big(A\\big)+r_1\\big(A\\big)\\Big)$   \n",
    "or we may simply write  \n",
    "$f\\big(A\\big)=g\\big(A\\big)h\\big(A\\big)$  \n",
    "for *some* polynomial $h$  \n"
   ]
  },
  {
   "cell_type": "code",
   "execution_count": null,
   "metadata": {},
   "outputs": [],
   "source": []
  },
  {
   "cell_type": "markdown",
   "metadata": {},
   "source": [
    "**11.4.14**    \n",
    "**a)**  \n",
    "let $x_0,x_1...,x_d$ be distinct complex numbers.  Determine a polynomial $p(x)$ of degree $n$ which is zero at $x_1,...,x_d$ and such that $p(x_0)=1$  \n",
    "\n",
    "$p\\big(x\\big):= c\\cdot \\big(x-x_1\\big)...\\big(x-x_d\\big)$   \n",
    "$p\\big(x_0\\big) = 1 = c\\cdot \\big(x_0-x_1\\big)...\\big(x_0-x_d\\big) \\implies c=\\frac{1}{\\big(x_0-x_1\\big)...\\big(x_0-x_d\\big)}$  \n",
    "\n",
    "**b)**  \n",
    "let $x_0,x_1...,x_d$; $y_0,y_1...,y_d$ be complex numbers and suppose that the $x_i$ are all distinct.  There is a unique polynomial $g(x)\\in \\mathbb C[x]$of degree $\\leq d$ such that $g(x_i)=y_i$ for a each $i=0,1,...,d$.  Prove this by determining the polynomial $g$ explicitly in terms of $x_i$, $y_i$.   \n",
    "\n",
    "I assume WLOG that each $y_i \\neq 0$.  \n",
    "= = = =   \n",
    "Suppose e.g. that $y_j=0$ , then we may factor out the associated root and recurse on the strictly smaller subproblem of applying Lagrange Interpolation for $p^{(d-1)}(x)$  where $p(x)= (x-x_j)\\cdot p^{(d-1)}(x)$  \n",
    "= = = =   \n",
    "\n",
    "select the $r_i$ to accompany $x_i,y_i$ pairs    \n",
    "0.)  $(x_{0} -r_{0})= y_{0}$  \n",
    "1.)  $(x_{1} -r_{1})= y_{1}$  \n",
    "2.) $(x_{2} -r_{2})= y_{d-1}$    \n",
    "$\\vdots $  \n",
    "d.) $(x_{d} -r_{d})= y_{d}$  \n",
    "\n",
    "but this does not mean we get the desired results when multiply these out.  Instead we want to linearly combine these, and 'pad' them so they act like indicator functions.  \n",
    "\n",
    "$p_i(x):= (x_{i} -r_{i})\\cdot \\big(\\prod_{k\\neq i}(x - x_k)\\big)\\cdot \\big(\\prod_{k\\neq i}(x_i - x_k)\\big)^{-1}$   \n",
    "i.e. where the product ranges over $k\\in\\big\\{\\{0,1,2,..., d\\}- i\\big\\}$  \n",
    "\n",
    "Thus \n",
    "$p_i(x_i) = (x_{i} -r_{i})\\cdot \\big(\\prod_{k\\neq i}(x_i - x_k)\\big)\\cdot \\big(\\prod_{k\\neq i}(x_i - x_k)\\big)^{-1}= (x_{i} -r_{i}) = y_i$   \n",
    "and for $j\\neq i$  \n",
    "$p_i(x_j) =0$    \n",
    "\n",
    "\n",
    "\n",
    "then  \n",
    "$p(x) = \\sum_{i=0}^d p_i(x)$  \n",
    "\n",
    "This satisfies the criterion of existence of a degree d polynomial the fits these $d+1$ points.  For uniqueness consider the Hypervector    \n",
    "\n",
    "$\\mathbf B =\\bigg[\\begin{array}{c|c|c|c|c} x^d & x^{d-1}&\\cdots & x & 1\\end{array}\\bigg]$  \n",
    "that forms a basis for the space of degree d polynomials.  Then  \n",
    "\n",
    "$\\bigg[\\begin{array}{c|c|c|c|c} p_d & p_{d-1}&\\cdots & p_1 & p_0\\end{array}\\bigg] = \\mathbf BA$  \n",
    "and each $p_i$ is linearly independent (suppose this wasn't true and write $p_i$ as a linear combination of the others, then evaluate $p_i\\big(x_i\\big) = y_i \\neq 0 = RHS $-- a contradiction, hence they are linearly independent. \n",
    "\n",
    "$d+1 = \\text{rank}\\big( \\mathbf BA\\big) \\leq \\text{rank}\\big( \\mathbf B\\big)   = d+1$  \n",
    "i.e. it is met with equality, so using the 'guiding inequality' from the chapter 4 notes, we see that   \n",
    "$\\text{span}\\left( \\bigg[\\begin{array}{c|c|c|c|c} p_d & p_{d-1}&\\cdots & p_1 & p_0\\end{array}\\bigg]\\right)=\\text{span}\\Big(\\mathbf B\\Big)$   \n",
    "\n",
    "i.e. the $p_i$ form a basis for our vector space of polynomials --- thus the interpolated polynomial is unique.  \n",
    "\n",
    "**remark**  \n",
    "The Vandermonde notebook in the Linear Algebra folder gives another exact way of doing this interpolation.  In fact doing the above interpolation with a Vandermonde matrix and applying Cramer's Rule gives the above result for Lagrange Interpolation.  "
   ]
  },
  {
   "cell_type": "markdown",
   "metadata": {},
   "source": [
    "**ex 4.4.15**  \n"
   ]
  },
  {
   "cell_type": "code",
   "execution_count": null,
   "metadata": {},
   "outputs": [],
   "source": []
  },
  {
   "cell_type": "markdown",
   "metadata": {},
   "source": [
    "**11.4.16**  \n",
    "$f(x)=x^n +a_{n-1}x^{n-1}+...+a_1x +a_0$  \n",
    "is monic polynomial with integer coefficients and let $r\\in \\mathbb Q$ be a rational root of $f(x)$. Prove that $r$ is an integer.  \n",
    "\n",
    "suppose for contradiction that    \n",
    "$r=\\frac{b}{c}=\\frac{p_1^{j_1}p_2^{j_2}...p_m^{j_m}}{c}$  \n",
    "where $b$ is some integer and $c$ is a positive integer $\\geq 2$.  The RHS has the prime factorization of $c$ and it is written in reduced form, so that there are no primes in $c$ that 'cancel' elements of the numerator.  \n",
    "\n",
    "Then  \n",
    "$0=f(r)= \\big(p_1^{j_1}p_2^{j_2}...p_m^{j_m}\\big)^nc^{-n} +a_{n-1}\\big(p_1^{j_1}p_2^{j_2}...p_m^{j_m}\\big)^{n-1}c^{-(n-1)}+...+a_1\\big(p_1^{j_1}p_2^{j_2}...p_m^{j_m}\\big)c^{-1} +a_0$   \n",
    "if we look at this modulo $p_k$ we we find that in $\\mathbb F_{p_k}$,  $a_0 = 0$ i.e. $a_0$ is a multiple of $p_k$ for arbitrary k.  \n",
    "\n",
    "$-a_0= \\big(p_1^{j_1}p_2^{j_2}...p_m^{j_m}\\big)\\Big(\\big(p_1^{j_1}p_2^{j_2}...p_m^{j_m}\\big)^{n-1}c^{-n} +a_{n-1}\\big(p_1^{j_1}p_2^{j_2}...p_m^{j_m}\\big)^{n-2}c^{-(n-1)}+...+a_1c^{-1} \\Big)$   \n",
    "\n",
    "rescale each side by $c^n$  \n",
    "$-c^na_0= \\big(p_1^{j_1}p_2^{j_2}...p_m^{j_m}\\big)\\Big(\\big(p_1^{j_1}p_2^{j_2}...p_m^{j_m}\\big)^{n-1} +a_{n-1}\\big(p_1^{j_1}p_2^{j_2}...p_m^{j_m}\\big)^{n-2}c+...+a_1c^{n-1} \\Big)$   \n",
    "\n",
    "but if we compute the above modulo $q$ where $q$ is some prime that divides $c$ we get  \n",
    "$-c^na_0\\%q= 0$  so\n",
    " \n",
    "$0= \\big(p_1^{j_1}p_2^{j_2}...p_m^{j_m}\\big)\\Big(\\big(p_1^{j_1}p_2^{j_2}...p_m^{j_m}\\big)^{n-1} +0+...+0 \\Big)=\\big(p_1^{j_1}p_2^{j_2}...p_m^{j_m}\\big)^{n}$   \n",
    "i.e.  \n",
    "$\\big(p_1^{j_1}p_2^{j_2}...p_m^{j_m}\\big)^{n}=0 \\in \\mathbb F_q$  \n",
    "but  $\\big(p_1^{j_1}p_2^{j_2}...p_m^{j_m}\\big)\\neq 0 \\in\\mathbb F_q$  \n",
    "so it is an invertible element i.e. it is not nilpotent thus we have a contradiction  \n"
   ]
  },
  {
   "cell_type": "markdown",
   "metadata": {},
   "source": [
    "note: (3.4)(a) on page 400, may be used here  "
   ]
  },
  {
   "cell_type": "code",
   "execution_count": null,
   "metadata": {},
   "outputs": [],
   "source": []
  },
  {
   "cell_type": "markdown",
   "metadata": {},
   "source": [
    "**11.4.17**  Prove that the polynomial $x^2+y^2-1$ is irreducible by the *method of underdetermined coefficients*, that is, by studying the equation \n",
    "\n",
    "$f(x,y)=x^2+y^2-1 = \\big(ax+by+c\\big)\\big(a'x+b'y+c'\\big)$  \n",
    "where $a,b,c,a',b',c'$ are unknown (I'd call them free parameters).   \n",
    "\n",
    "*recall:* we are working over $\\mathbb C^2$ here, and this is a complementary approach to showing irreducibility of $f(x,y)=x^2+y^2-1$ which was stated on page 402.  \n",
    "\n",
    "implications  \n",
    "$a'=a^{-1}$  \n",
    "$b'=b^{-1}$  \n",
    "$-1\\cdot c'=c^{-1}$  \n",
    "thus  \n",
    "$f(x,y)=\\big(ax+by+c\\big)\\big(a^{-1}x+b^{-1}y- c^{-1}\\big) = x^2+y^2-1 = \\big(ax+by+c\\big)\\big(a'x+b'y+c'\\big)$  \n",
    "which reduces the number of free parameters from 6 to 3.  \n",
    "\n",
    "$ab'xy+ a'bxy = 0\\longrightarrow  ab^{-1}xy= ab'xy = -a'bxy = -a^{-1}bxy\\longrightarrow ab^{-1}= -a^{-1}b$   \n",
    "\n",
    "multiplying each side by $ab$ we get  \n",
    "$a^2=(ab)ab^{-1}= -(ab) a^{-1}b=-b^2$   \n",
    "which implies $\\big(a=i\\cdot b, a'= -i\\cdot b^{-1}\\big)$ or $\\big(a = -i\\cdot b, a'= i\\cdot b^{-1}\\big)$. Suppose WLOG that the first case is true.  (The argument closes by first 'attacking' the cross term of degree 1 involving $x$ only -- and it is clear for reasons of symmetry that we can make this WLOG assumptions-- and second by 'attacking' the cross term involving $y$ only, and our WLOG choice with respect to $x$ has no impact on this).  \n",
    "plugging this in, we have  \n",
    "$\\big(i\\cdot bx+by+c\\big)\\big(-i\\cdot b^{-1}x+b^{-1}y-c^{-1}\\big) =x^2+y^2-1 =\\big(ax+by+c\\big)\\big(a'x+b'y+c'\\big)$  \n",
    "so we've reduced the number of free parameters from 3 to 2.  Multiplying this out we see  \n",
    "$-i\\cdot b\\cdot c^{-1}x +\\big(-i\\cdot b^{-1}cx\\big)=0$  or  \n",
    "$-i\\cdot b\\cdot c^{-1} = i\\cdot b^{-1}c$, dividing out $i$ and multiplying each side by $bc$ (we see a familiar pattern)    \n",
    "$-b^2 = c^2$  \n",
    "which implies $\\big(c=i\\cdot b, c^{-1}= -i\\cdot b^{-1}\\big)$ or $\\big(c = -i\\cdot b, c^{-1}= i\\cdot b^{-1}\\big)$  \n",
    "i.e. $c=a$ or $c=-a$, which in effect reduces the number of free parameters to 1 (with 2 cases to consider)  \n",
    "\n",
    "$1.)\\big(i\\cdot bx+by+i\\cdot b\\big)\\big(-i\\cdot b^{-1}x+b^{-1}y+i\\cdot b^{-1}\\big) =x^2+y^2-1 =\\big(ax+by+c\\big)\\big(a'x+b'y+c'\\big)$  \n",
    "$2.) \\big(i\\cdot bx+by-i\\cdot b\\big)\\big(-i\\cdot b^{-1}x+b^{-1}y-i\\cdot b^{-1}\\big) =x^2+y^2-1 =\\big(ax+by+c\\big)\\big(a'x+b'y+c'\\big)$  \n",
    "\n",
    "but e.g. examining the first line we have  \n",
    "$by\\big(ib^{-1}\\big) + ib\\big(b^{-1}y\\big) = 0 =yi +iy = 2iy$  \n",
    "which is a contradiction, or examining the second line we have    \n",
    "$by\\big(-i\\cdot b^{-1}\\big) + -i\\cdot b\\big(b^{-1}y\\big) = 0 = -iy + -iy = -2iy$  \n",
    "again a contradiction.  \n"
   ]
  },
  {
   "cell_type": "code",
   "execution_count": null,
   "metadata": {},
   "outputs": [],
   "source": []
  },
  {
   "cell_type": "markdown",
   "metadata": {},
   "source": [
    "notes: \n",
    "ex 1.Misc.3 (p.36) introduced the Vandermonde Matrix  \n",
    "ex 4.7.7 (p.151) introduced the Companion Matrix (and we discussed it again on exercises 7.7.4/7.7.7)  \n",
    "optional:"
   ]
  },
  {
   "cell_type": "code",
   "execution_count": null,
   "metadata": {},
   "outputs": [],
   "source": []
  },
  {
   "cell_type": "markdown",
   "metadata": {},
   "source": [
    "The Sylvester Matrix and its determinant -- the Resultant -- can be interpreted as an exercise in using the method of underdetermined coefficients, and in particular using them in such a way that we can harness tools and power from Linear Algebra.  The Resultant turn out to be very useful in elimination theory (algebraic geometry), is fundamental in the general way of defining a discriminant of a polynomial, is instrumental in many of the proofs of the Nullstellansatz, and much more.     \n",
    "\n"
   ]
  },
  {
   "cell_type": "markdown",
   "metadata": {},
   "source": [
    "The main, and introductory way of viewing the Sylvester Matrix is in context of *single variable polynomial rings* in $\\mathbb F[x]$.  \n",
    "**First approach toward the Resultant**  \n",
    "There are a couple of ways of motivating this matrix.  One simple approach (adapted from Cox, Little, O'Shea):  \n",
    "\n",
    "if $f,g$ are polynomial of degrees $n\\gt 0$ and $m\\gt 0$, then $f$ and $g$ have a common factor *iff* there are polynomials, $h,k\\in \\mathbb F[x]$ such that  \n",
    "1.) h,k are not identically zero  \n",
    "2.) h has degree at most $m-1$ and $k$ has degree at most $n-1$  \n",
    "3.) $Af +Bg = 0$  \n",
    "\n",
    "the first leg of this proposition is immediate -- write $fh =-gk$ and suppose $f$ and $g$ have a nonconstant factor in common and write each in 'prime decomposition' i.e. as product of irreducible factors.  Then let $h$ and $k$ be the product of irreducible factors that are not in common (multiplicity adjusted).  Alternatively if there are no common factors between $f$ and $g$ but we still had (nonzero)  $fh =-Bk$, the degree restrictions on $h,k$ imply (via pigeon hole) that an irreducible factor $p^j$ is on the LHS but the RHS has at most $p^{j-1}$ hence LHS is divisible by $p^j$ but RHS is not -- a contradiction.  \n",
    "\n",
    "This is addressed in a somewhat different manner in Artin though the simple approach above is quite useful.  \n",
    "\n",
    "Suppose we don't know whether two polynomials have the a common factor.  Then we may, in effect apply the method of underdetermined coefficients to see what $h$ and $k$ look like if they exist.  \n",
    "\n",
    "write out  \n",
    "$f(x) = a_nx^n +a_{n-1}x^{n-1}+...+a_1x + a_0$  \n",
    "$g(x) = b_mx^m +b_{m-1}x^{m-1}+...+b_1x + b_0$  \n",
    "\n",
    "and suppose $f(x)h(x)-g(x)k(x) =0$.  For simplicity we may assume WLOG that $h$ and $k$ not only exist, but have maximal degree of $m-1$ and $n-1$ respectively.  (If they existed but were of lower degree, we could instead consider $x^i \\cdot h(x)$ and $x^i \\cdot k(x)$ respectively  which maintains the equality of degrees on each side, and these new polynomials have maximal degrees of $m-1$ and $n-1$ -- Thus it suffices to consider only the maximal degree case for $k,h$.)\n",
    "\n",
    "start off by 'attacking' the maximal degree term.  \n",
    "$\\big(a_n \\cdot y_{m-1} + b_m \\cdot z_{n-1}\\big)x^{n+m-1}=a_nx^n \\cdot y_{m-1}x^{m-1} - b_mx^m \\cdot z_{n-1}x^{n-1}$   \n",
    "then the next highest order term  \n",
    "$\\big(a_{n} \\cdot y_{m-2} + a_{n-1} \\cdot y_{m-1} + b_{m} \\cdot z_{n-2} + b_{m-1}\\cdot z_{n-1}\\big)x^{n+m-2}$  \n",
    "$=a_{n}x^n \\cdot y_{m-2}x^{m-2} + a_{n-1}x^{n-1} \\cdot y_{m-1}x^{m-1} + b_{m}x^{m} \\cdot z_{n-2}x^{n-2} + b_{m-1}x^{m-1}\\cdot z_{n-1}x^{n-1}\\big)$   \n",
    "then the next highest order term  \n",
    "$\\big(a_{n} \\cdot y_{m-3} + a_{n-1} \\cdot y_{m-2} + a_{n-2} \\cdot y_{m-1} + b_{m} \\cdot z_{n-3} + b_{m-1}\\cdot z_{n-2}+b_{m-2}\\cdot z_{n-1}\\big)x^{n+m-3}$\n",
    "and so on  all the way down to the constant term.  This is a set of $m+n-1+1 = m+n$ linear equations and $h$ has $m$ coefficients and $k$ has $n$ coefficients -- so $m+n$ unknowns; it may be modeled with a square matrix known as the Sylvester Matrix $A$.  \n",
    "\n",
    "we show the Sylvester matrix explicitly below in the case where $m = 3$ and $n=5$.  \n",
    "$S_{yl} = \\left[\\begin{matrix}a_3& 0 & 0 & 0 & 0 & b_5 & 0 & 0\n",
    "                        \\\\a_2 & a_3 & 0 & 0 & 0 & b_4 & b_5 & 0\n",
    "                         \\\\a_1 & a_2 & a_3 & 0 & 0 & b_3 & b_4 & b_5\n",
    "                         \\\\a_0 & a_1 & a_2 & a_3 & 0 & b_2 & b_3 & b_4\n",
    "                         \\\\0 & a_0 & a_1 & a_2 & a_3 & b_1 & b_2 & b_3\n",
    "                         \\\\0 & 0 & a_0 & a_1 & a_2 & b_0 & b_1 & b_2\n",
    "                         \\\\0 & 0 & 0 & a_0 & a_1 & 0 & b_0 & b_1\n",
    "                         \\\\0 & 0 & 0 & 0 & a_0 & 0 & 0 & b_0\\end{matrix}\\right]$  \n",
    "\n",
    "\n",
    "Thus we are interested in solving   \n",
    "$\\bigg[\\begin{array}{c|c|c|c|c} x^{m+n-1} & x^{m+n-2}&\\cdots & x & 1\\end{array}\\bigg]S_{yl}\\mathbf c = \\mathbf 0$ \n",
    "where $\\mathbf c$ has the appropriate scalar coefficients $y_i, z_i$ -- e.g. $c_1 = y_{m-1}$ and $c_2 = y_{m-2}$.  \n",
    "\n",
    "Of course we may 'forget' the basis and simply consider  \n",
    "$S_{yl}\\mathbf c = \\mathbf 0$  \n",
    "Thus the two polynomials have no common factor *iff*  $\\det\\big(S_{yl}\\big)\\neq 0$.  Note that $\\det\\big(S_{yl}\\big)$ is called *the resultant*.  \n"
   ]
  },
  {
   "cell_type": "markdown",
   "metadata": {},
   "source": [
    "**additional justification:**  \n",
    "To fully justify the result given in Linear Algebra Gems, we should note that (1) there are no problems in interpreting $x^k$ as a placeholder for an element in the field for a sufficiently large field (certainly for interpolation reasons any field of characteristic zero is not a problem).  For small finite fields this argument could create challenges.  \n",
    "\n",
    "A more satisfying approach is to instead view the coefficients of $A$ and $B$ as not necessarily coming from a field $\\mathbb K$ but from some integral domain $R$ -- and the polynomials living in $R[x]$.  Since $R[x]$ is necessarily an integral domain, from Artin chapter 10, we know we may extend this to the Field of Fractions which *is* a field, $\\mathbb F$. The formal calculation of matrix multiplication and computing a determinant only involves the ring operations of addition, subtraction and multiplication (no multiplicative inverses are needed) and hence the direct computation of $\\det\\big(AB\\big)$ is the same in $\\mathbb R[x]$ as in $\\mathbb F$, *and* in $\\mathbb F$ we know from Artin chapter 1 that $\\det\\big(AB\\big) = \\det\\big(A\\big)\\det\\big(B\\big)$, thus we know $\\det\\big(AB\\big) = \\det\\big(A\\big)\\det\\big(B\\big)$ in $\\mathbb R[x]$ as well.  "
   ]
  },
  {
   "cell_type": "code",
   "execution_count": null,
   "metadata": {},
   "outputs": [],
   "source": []
  },
  {
   "cell_type": "markdown",
   "metadata": {},
   "source": [
    "**Second approach toward the Resultant**  \n",
    "Resultants -- Linear Algebra Gems approach (pages 35-36)   \n",
    "Again specializing to $m=3$ and $n=5$ for concreteness  \n",
    "\n",
    "$S_{yl} = \\left[\\begin{matrix}a_3& 0 & 0 & 0 & 0 & b_5 & 0 & 0\n",
    "                        \\\\a_2 & a_3 & 0 & 0 & 0 & b_4 & b_5 & 0\n",
    "                         \\\\a_1 & a_2 & a_3 & 0 & 0 & b_3 & b_4 & b_5\n",
    "                         \\\\a_0 & a_1 & a_2 & a_3 & 0 & b_2 & b_3 & b_4\n",
    "                         \\\\0 & a_0 & a_1 & a_2 & a_3 & b_1 & b_2 & b_3\n",
    "                         \\\\0 & 0 & a_0 & a_1 & a_2 & b_0 & b_1 & b_2\n",
    "                         \\\\0 & 0 & 0 & a_0 & a_1 & 0 & b_0 & b_1\n",
    "                         \\\\0 & 0 & 0 & 0 & a_0 & 0 & 0 & b_0\\end{matrix}\\right]\\implies S_{yl}^T =  \\left[\\begin{matrix}a_{3} & a_{2} & a_{1} & a_{0} & 0 & 0 & 0 & 0\\\\0 & a_{3} & a_{2} & a_{1} & a_{0} & 0 & 0 & 0\\\\0 & 0 & a_{3} & a_{2} & a_{1} & a_{0} & 0 & 0\\\\0 & 0 & 0 & a_{3} & a_{2} & a_{1} & a_{0} & 0\\\\0 & 0 & 0 & 0 & a_{3} & a_{2} & a_{1} & a_{0}\\\\b_{5} & b_{4} & b_{3} & b_{2} & b_{1} & b_{0} & 0 & 0\\\\0 & b_{5} & b_{4} & b_{3} & b_{2} & b_{1} & b_{0} & 0\\\\0 & 0 & b_{5} & b_{4} & b_{3} & b_{2} & b_{1} & b_{0}\\end{matrix}\\right]$   \n",
    "and consider  \n",
    "$U^T := \\left[\\begin{matrix}x^{(5)+(3)-1}& 0 & 0 & 0 & 0 & 0 & 0 & 0\n",
    "                        \\\\x^{6} & 1 & 0 & 0 & 0 & 0 & 0 & 0\n",
    "                         \\\\x^{5} & 0 & 1 & 0 & 0 & 0 & 0 & 0\n",
    "                         \\\\x^{4} & 0 & 0 & 1 & 0 & 0 & 0 & 0\n",
    "                         \\\\x^{3} & 0 & 0 & 0 & 1 & 0 & 0 & 0\n",
    "                         \\\\x^{2} & 0 & 0 & 0 & 0 & 1 & 0 & 0 \n",
    "                         \\\\x^{1} & 0 & 0 & 0 & 0 & 0 & 1 & 0 \n",
    "                         \\\\1 & 0 & 0 & 0 & 0 & 0 & 0 & 1 \\end{matrix}\\right]$   \n",
    "\n",
    "$S_{yl}^T U^T =  \\left[\\begin{matrix}x^{(5)-1}\\cdot f(x) & a_{0} & 0 & 0 & 0 & 0\\\\\n",
    "x^{3}\\cdot f(x) & a_{3} & a_{2} & a_{1} & a_{0} & 0 & 0 & 0\\\\\n",
    "x^{2}\\cdot f(x) & 0 & a_{3} & a_{2} & a_{1} & a_{0} & 0 & 0\\\\\n",
    "x\\cdot f(x) & 0 & 0 & a_{3} & a_{2} & a_{1} & a_{0} & 0\\\\\n",
    "f(x) & 0 & 0 & 0 & a_{3} & a_{2} & a_{1} & a_{0}\\\\ \n",
    "x^{(3)-1}\\cdot g(x) & b_{4} & b_{3} & b_{2} & b_{1} & b_{0} & 0 & 0\\\\ \n",
    "x\\cdot g(x) & b_{4} & b_{3} & b_{2} & b_{1} & b_{0} & 0\\\\\n",
    "g(x) & 0 & b_{5} & b_{4} & b_{3} & b_{2} & b_{1} & b_{0}\\end{matrix}\\right]$   \n",
    "\n",
    "doing expansion by minors, consider that after deleting the first column any minor takes on a value in $R$, hence  \n",
    "$x^{(5)+(3)-1} \\cdot \\det\\big(S_{yl}\\big)$  \n",
    "$=\\det\\big(U\\big) \\det\\big(S_{yl}\\big)$  \n",
    "$=\\det\\big(U S_{yl}\\big)$  \n",
    "$=\\det\\big(S_{yl}^T U^T\\big)$  \n",
    "$= x^{4}\\cdot f(x)\\cdot r_1 - x^{3}\\cdot f(x)\\cdot r_2 + x^2\\cdot f(x)\\cdot r_3 - x\\cdot f(x) \\cdot r_4+f(x)\\cdot r_5 - x^{(3)-1}\\cdot g(x)\\cdot r_6+x\\cdot g(x)\\cdot r_7-g(x)\\cdot r_8$   \n",
    "$= f(x)\\cdot\\big(r_1 x^{4}-r_2 x^3 +r_3 x^2- r_4x +r_5 +\\big)-g(x)\\big(x^2 \\cdot r_6 -x\\cdot r_7 + r_8\\big)$  \n",
    "$=f(x)h(x) - g(x)k(x)$   \n",
    "\n",
    "where $\\text{degree}\\big(h(x)\\big) \\leq n-1 = 4$ and $\\text{degree}\\big(k(x)\\big) \\leq m-1 = 2$   \n",
    "\n",
    "$\\text{1.) f and g have a common nonconstant factor s}\\implies \\det\\big(S_{yl}\\big)=0$  \n",
    "$x^{(5)+(3)-1} \\cdot \\det\\big(S_{yl}\\big)=x^{(5)+(3)-1} \\cdot r =f(x)h(x) - g(x)k(x) = s(x)q(x)$  \n",
    "if $q(x)=0$ then it is immediate that $\\det\\big(S_{yl}\\big) = 0$.  Suppose $q(x)\\neq 0$, then $s(x) = \\alpha x^k$. (Rationale: if either $s$ or $q$ had a nonzero subdominant term, since we are in an integral domain, we could take minimal degree term from $s$ and minimal degree term from $q$ and the LHS would have a terms with degree strictly less than $7$).  But this means each of $f$ and $g$ have $x$ as a factor hence the bottom row of $S_{yl}$ is zero and $\\det\\big(S_{yl}\\big) =0$.            \n",
    "\n",
    "$\\text{2.) } \\det\\big(S_{yl}\\big)=0 \\implies \\text{ f and g have a common nonconstant factor } $  \n",
    "Then we have  \n",
    "$f(x)h(x)= g(x)k(x)$  \n",
    "\n",
    "After factoring the LHS into irreducible factors, and if $g$ has no irreducible factor in common with $f$ then for reasons of degree limitation on $k(x)$ we'd have a contradiction (the LHS would be in the principal ideal of $p^q$ for some factor $p$ with multiplicity $q$ and the RHS would not, a contradiction).  \n"
   ]
  },
  {
   "cell_type": "markdown",
   "metadata": {},
   "source": [
    "**extension**  \n",
    "The approach of using well chosen $U$ motivates a nice extension.  \n",
    "\n",
    "Now consider (graph isomorphism) using the 'reflection' matrix $J$  \n",
    "$J=\\left[\\begin{matrix}0 & 0 & 0 & 0 & 0 & 0 & 0 & 1\\\\0 & 0 & 0 & 0 & 0 & 0 & 1 & 0\\\\0 & 0 & 0 & 0 & 0 & 1 & 0 & 0\\\\0 & 0 & 0 & 0 & 1 & 0 & 0 & 0\\\\0 & 0 & 0 & 1 & 0 & 0 & 0 & 0\\\\0 & 0 & 1 & 0 & 0 & 0 & 0 & 0\\\\0 & 1 & 0 & 0 & 0 & 0 & 0 & 0\\\\1 & 0 & 0 & 0 & 0 & 0 & 0 & 0\\end{matrix}\\right]$   \n",
    "notice $J=J^T = J^{-1}$   \n",
    "\n",
    "$J^{-1}S_{yl}^TJ =   \\left[\\begin{matrix}b_{0} & b_{1} & b_{2} & b_{3} & b_{4} & b_{5} & 0 & 0\\\\0 & b_{0} & b_{1} & b_{2} & b_{3} & b_{4} & b_{5} & 0\\\\0 & 0 & b_{0} & b_{1} & b_{2} & b_{3} & b_{4} & b_{5}\\\\a_{0} & a_{1} & a_{2} & a_{3} & 0 & 0 & 0 & 0\\\\0 & a_{0} & a_{1} & a_{2} & a_{3} & 0 & 0 & 0\\\\0 & 0 & a_{0} & a_{1} & a_{2} & a_{3} & 0 & 0\\\\0 & 0 & 0 & a_{0} & a_{1} & a_{2} & a_{3} & 0\\\\0 & 0 & 0 & 0 & a_{0} & a_{1} & a_{2} & a_{3}\\end{matrix}\\right]$ and $L:=\\left[\\begin{matrix}1 & 0 & 0 & 0 & 0 & 0 & 0 & 0\\\\x & 1 & 0 & 0 & 0 & 0 & 0 & 0\\\\x^{2} & 0 & 1 & 0 & 0 & 0 & 0 & 0\\\\x^{3} & 0 & 0 & 1 & 0 & 0 & 0 & 0\\\\x^{4} & 0 & 0 & 0 & 1 & 0 & 0 & 0\\\\x^{5} & 0 & 0 & 0 & 0 & 1 & 0 & 0\\\\x^{6} & 0 & 0 & 0 & 0 & 0 & 1 & 0\\\\x^{7} & 0 & 0 & 0 & 0 & 0 & 0 & 1\\end{matrix}\\right]$   \n",
    "\n",
    "\n",
    "$J^{-1}S_{yl}^TJ L  =  \\left[\\begin{matrix}g(x) & b_{1} & b_{2} & b_{3} & b_{4} & b_{5} & 0 & 0\\\\x\\cdot g(x) & b_{0} & b_{1} & b_{2} & b_{3} & b_{4} & b_{5} & 0\\\\x^{2}\\cdot g(x) & 0 & b_{0} & b_{1} & b_{2} & b_{3} & b_{4} & b_{5}\\\\f(x) & a_{1} & a_{2} & a_{3} & 0 & 0 & 0 & 0\\\\x\\cdot f(x) & a_{0} & a_{1} & a_{2} & a_{3} & 0 & 0 & 0\\\\x^{2}\\cdot f(x) & 0 & a_{0} & a_{1} & a_{2} & a_{3} & 0 & 0\\\\x^{3}\\cdot f(x) & 0 & 0 & a_{0} & a_{1} & a_{2} & a_{3} & 0\\\\x^{4}\\cdot f(x) & 0 & 0 & 0 & a_{0} & a_{1} & a_{2} & a_{3}\\end{matrix}\\right]$  \n",
    "\n",
    "thus \n",
    "\n",
    "$\\det\\big(S_{yl}\\big)$   \n",
    "$=\\det\\big(S_{yl}^T\\big)\\cdot 1$  \n",
    "$=\\det\\big(J^{-1}S_{yl}^TJ\\big)\\det\\big( L\\big)$  \n",
    "$=\\det\\big(J^{-1}S_{yl}^TJ L\\big)$  \n",
    "$= f(x)p_1(x) + g(x)p_2(x)$   \n",
    "\n",
    "**remark:**  \n",
    "If $f, g\\in I$ for some ideal $I \\in R[x]$ then the above tells us that $\\det\\big(S_{yl}\\big) \\in I$.  It is also clear that since $s_{yl}^{(i,j)} \\in R$ for all $i,j$, $\\det\\big(S_{yl}\\big) \\in R$.  Thus we have  \n",
    "\n",
    "$\\text{resultant} =\\det\\big(S_{yl}\\big) \\in \\big(I \\cap R\\big)$   \n"
   ]
  },
  {
   "cell_type": "code",
   "execution_count": 45,
   "metadata": {},
   "outputs": [
    {
     "data": {
      "text/latex": [
       "$\\displaystyle \\left[\\begin{matrix}1 & b_{1} & b_{2} & b_{3} & b_{4} & b_{5} & 0 & 0\\\\x & b_{0} & b_{1} & b_{2} & b_{3} & b_{4} & b_{5} & 0\\\\x^{2} & 0 & b_{0} & b_{1} & b_{2} & b_{3} & b_{4} & b_{5}\\\\1 & a_{1} & a_{2} & a_{3} & 0 & 0 & 0 & 0\\\\x & a_{0} & a_{1} & a_{2} & a_{3} & 0 & 0 & 0\\\\x^{2} & 0 & a_{0} & a_{1} & a_{2} & a_{3} & 0 & 0\\\\1 & 0 & 0 & a_{0} & a_{1} & a_{2} & a_{3} & 0\\\\x & 0 & 0 & 0 & a_{0} & a_{1} & a_{2} & a_{3}\\end{matrix}\\right]$"
      ],
      "text/plain": [
       "Matrix([\n",
       "[   1, b_1, b_2, b_3, b_4, b_5,   0,   0],\n",
       "[   x, b_0, b_1, b_2, b_3, b_4, b_5,   0],\n",
       "[x**2,   0, b_0, b_1, b_2, b_3, b_4, b_5],\n",
       "[   1, a_1, a_2, a_3,   0,   0,   0,   0],\n",
       "[   x, a_0, a_1, a_2, a_3,   0,   0,   0],\n",
       "[x**2,   0, a_0, a_1, a_2, a_3,   0,   0],\n",
       "[   1,   0,   0, a_0, a_1, a_2, a_3,   0],\n",
       "[   x,   0,   0,   0, a_0, a_1, a_2, a_3]])"
      ]
     },
     "execution_count": 45,
     "metadata": {},
     "output_type": "execute_result"
    }
   ],
   "source": [
    "M = J@S.T@J@L\n",
    "for idx in range(8): \n",
    "    M[idx,0] = x**(idx%3)\n",
    "M"
   ]
  },
  {
   "cell_type": "code",
   "execution_count": null,
   "metadata": {},
   "outputs": [],
   "source": []
  },
  {
   "cell_type": "code",
   "execution_count": 25,
   "metadata": {},
   "outputs": [],
   "source": [
    "import sympy as sp\n",
    "x = sp.Symbol('x')\n",
    "a_0 = sp.Symbol('a_0')\n",
    "a_1 = sp.Symbol('a_1')\n",
    "a_2 = sp.Symbol('a_2')\n",
    "a_3 = sp.Symbol('a_3')\n",
    "\n",
    "b_0 = sp.Symbol('b_0')\n",
    "b_1 = sp.Symbol('b_1')\n",
    "b_2 = sp.Symbol('b_2')\n",
    "b_3 = sp.Symbol('b_3')\n",
    "b_4 = sp.Symbol('b_4')\n",
    "b_5 = sp.Symbol('b_5')"
   ]
  },
  {
   "cell_type": "code",
   "execution_count": null,
   "metadata": {},
   "outputs": [],
   "source": []
  },
  {
   "cell_type": "code",
   "execution_count": 40,
   "metadata": {},
   "outputs": [
    {
     "data": {
      "text/latex": [
       "$\\displaystyle \\left[\\begin{matrix}1 & 0 & 0 & 0 & 0 & 0 & 0 & 0\\\\x & 1 & 0 & 0 & 0 & 0 & 0 & 0\\\\x^{2} & 0 & 1 & 0 & 0 & 0 & 0 & 0\\\\x^{3} & 0 & 0 & 1 & 0 & 0 & 0 & 0\\\\x^{4} & 0 & 0 & 0 & 1 & 0 & 0 & 0\\\\x^{5} & 0 & 0 & 0 & 0 & 1 & 0 & 0\\\\x^{6} & 0 & 0 & 0 & 0 & 0 & 1 & 0\\\\x^{7} & 0 & 0 & 0 & 0 & 0 & 0 & 1\\end{matrix}\\right]$"
      ],
      "text/plain": [
       "Matrix([\n",
       "[   1, 0, 0, 0, 0, 0, 0, 0],\n",
       "[   x, 1, 0, 0, 0, 0, 0, 0],\n",
       "[x**2, 0, 1, 0, 0, 0, 0, 0],\n",
       "[x**3, 0, 0, 1, 0, 0, 0, 0],\n",
       "[x**4, 0, 0, 0, 1, 0, 0, 0],\n",
       "[x**5, 0, 0, 0, 0, 1, 0, 0],\n",
       "[x**6, 0, 0, 0, 0, 0, 1, 0],\n",
       "[x**7, 0, 0, 0, 0, 0, 0, 1]])"
      ]
     },
     "execution_count": 40,
     "metadata": {},
     "output_type": "execute_result"
    }
   ],
   "source": [
    "\n",
    "S = sp.Matrix([[a_3, 0, 0, 0, 0, b_5,0,0],\n",
    "               [a_2,a_3, 0,0,0, b_4,b_5,0], \n",
    "               [a_1,a_2, a_3,0,0, b_3,b_4,b_5],\n",
    "               [a_0,a_1, a_2, a_3,0, b_2,b_3,b_4],\n",
    "               [0,a_0,a_1, a_2, a_3,b_1, b_2,b_3],  \n",
    "               [0,0, a_0, a_1, a_2, b_0, b_1,b_2],\n",
    "               [0,0,0, a_0, a_1, 0, b_0,b_1],\n",
    "               [0,0,0,0, a_0, 0, 0, b_0],\n",
    "                ])\n",
    "U = sp.eye(8)\n",
    "for idx in range(8):\n",
    "    U[idx,0] = x**(8-idx-1)\n",
    "J = sp.zeros(8)\n",
    "for idx in range(8):\n",
    "    J[idx, 8-1-idx]=1\n",
    "J\n",
    "\n",
    "L = sp.eye(8)\n",
    "n = 5\n",
    "for idx in range(8):\n",
    "#     L[idx, 0] = x**(idx%n)\n",
    "    L[idx, 0] = x**(idx)\n",
    "    \n",
    "    \n",
    "J = sp.zeros(8)\n",
    "for idx in range(8):\n",
    "    J[idx, 8-1-idx]=1\n",
    "L"
   ]
  },
  {
   "cell_type": "code",
   "execution_count": 39,
   "metadata": {},
   "outputs": [
    {
     "data": {
      "text/latex": [
       "$\\displaystyle \\left[\\begin{matrix}b_{0} & b_{1} & b_{2} & b_{3} & b_{4} & b_{5} & 0 & 0\\\\0 & b_{0} & b_{1} & b_{2} & b_{3} & b_{4} & b_{5} & 0\\\\0 & 0 & b_{0} & b_{1} & b_{2} & b_{3} & b_{4} & b_{5}\\\\a_{0} & a_{1} & a_{2} & a_{3} & 0 & 0 & 0 & 0\\\\0 & a_{0} & a_{1} & a_{2} & a_{3} & 0 & 0 & 0\\\\0 & 0 & a_{0} & a_{1} & a_{2} & a_{3} & 0 & 0\\\\0 & 0 & 0 & a_{0} & a_{1} & a_{2} & a_{3} & 0\\\\0 & 0 & 0 & 0 & a_{0} & a_{1} & a_{2} & a_{3}\\end{matrix}\\right]$"
      ],
      "text/plain": [
       "Matrix([\n",
       "[b_0, b_1, b_2, b_3, b_4, b_5,   0,   0],\n",
       "[  0, b_0, b_1, b_2, b_3, b_4, b_5,   0],\n",
       "[  0,   0, b_0, b_1, b_2, b_3, b_4, b_5],\n",
       "[a_0, a_1, a_2, a_3,   0,   0,   0,   0],\n",
       "[  0, a_0, a_1, a_2, a_3,   0,   0,   0],\n",
       "[  0,   0, a_0, a_1, a_2, a_3,   0,   0],\n",
       "[  0,   0,   0, a_0, a_1, a_2, a_3,   0],\n",
       "[  0,   0,   0,   0, a_0, a_1, a_2, a_3]])"
      ]
     },
     "execution_count": 39,
     "metadata": {},
     "output_type": "execute_result"
    }
   ],
   "source": [
    "J@S.T@J"
   ]
  },
  {
   "cell_type": "code",
   "execution_count": 41,
   "metadata": {},
   "outputs": [
    {
     "data": {
      "text/latex": [
       "$\\displaystyle \\left[\\begin{matrix}b_{0} + b_{1} x + b_{2} x^{2} + b_{3} x^{3} + b_{4} x^{4} + b_{5} x^{5} & b_{1} & b_{2} & b_{3} & b_{4} & b_{5} & 0 & 0\\\\b_{0} x + b_{1} x^{2} + b_{2} x^{3} + b_{3} x^{4} + b_{4} x^{5} + b_{5} x^{6} & b_{0} & b_{1} & b_{2} & b_{3} & b_{4} & b_{5} & 0\\\\b_{0} x^{2} + b_{1} x^{3} + b_{2} x^{4} + b_{3} x^{5} + b_{4} x^{6} + b_{5} x^{7} & 0 & b_{0} & b_{1} & b_{2} & b_{3} & b_{4} & b_{5}\\\\a_{0} + a_{1} x + a_{2} x^{2} + a_{3} x^{3} & a_{1} & a_{2} & a_{3} & 0 & 0 & 0 & 0\\\\a_{0} x + a_{1} x^{2} + a_{2} x^{3} + a_{3} x^{4} & a_{0} & a_{1} & a_{2} & a_{3} & 0 & 0 & 0\\\\a_{0} x^{2} + a_{1} x^{3} + a_{2} x^{4} + a_{3} x^{5} & 0 & a_{0} & a_{1} & a_{2} & a_{3} & 0 & 0\\\\a_{0} x^{3} + a_{1} x^{4} + a_{2} x^{5} + a_{3} x^{6} & 0 & 0 & a_{0} & a_{1} & a_{2} & a_{3} & 0\\\\a_{0} x^{4} + a_{1} x^{5} + a_{2} x^{6} + a_{3} x^{7} & 0 & 0 & 0 & a_{0} & a_{1} & a_{2} & a_{3}\\end{matrix}\\right]$"
      ],
      "text/plain": [
       "Matrix([\n",
       "[        b_0 + b_1*x + b_2*x**2 + b_3*x**3 + b_4*x**4 + b_5*x**5, b_1, b_2, b_3, b_4, b_5,   0,   0],\n",
       "[   b_0*x + b_1*x**2 + b_2*x**3 + b_3*x**4 + b_4*x**5 + b_5*x**6, b_0, b_1, b_2, b_3, b_4, b_5,   0],\n",
       "[b_0*x**2 + b_1*x**3 + b_2*x**4 + b_3*x**5 + b_4*x**6 + b_5*x**7,   0, b_0, b_1, b_2, b_3, b_4, b_5],\n",
       "[                              a_0 + a_1*x + a_2*x**2 + a_3*x**3, a_1, a_2, a_3,   0,   0,   0,   0],\n",
       "[                         a_0*x + a_1*x**2 + a_2*x**3 + a_3*x**4, a_0, a_1, a_2, a_3,   0,   0,   0],\n",
       "[                      a_0*x**2 + a_1*x**3 + a_2*x**4 + a_3*x**5,   0, a_0, a_1, a_2, a_3,   0,   0],\n",
       "[                      a_0*x**3 + a_1*x**4 + a_2*x**5 + a_3*x**6,   0,   0, a_0, a_1, a_2, a_3,   0],\n",
       "[                      a_0*x**4 + a_1*x**5 + a_2*x**6 + a_3*x**7,   0,   0,   0, a_0, a_1, a_2, a_3]])"
      ]
     },
     "execution_count": 41,
     "metadata": {},
     "output_type": "execute_result"
    }
   ],
   "source": [
    "J@S.T@J@L"
   ]
  },
  {
   "cell_type": "code",
   "execution_count": null,
   "metadata": {},
   "outputs": [],
   "source": []
  },
  {
   "cell_type": "code",
   "execution_count": null,
   "metadata": {},
   "outputs": [],
   "source": []
  },
  {
   "cell_type": "code",
   "execution_count": null,
   "metadata": {},
   "outputs": [],
   "source": []
  },
  {
   "cell_type": "markdown",
   "metadata": {},
   "source": [
    "**remark on partial fraction decomposition**  \n",
    "# And compare against ex 11.1.13  \n",
    "# specialize to the case where roots are distinct  "
   ]
  },
  {
   "cell_type": "code",
   "execution_count": 4,
   "metadata": {},
   "outputs": [],
   "source": [
    "import sympy  \n",
    "from sympy.polys import subresultants_qq_zz\n",
    "# http://docs.sympy.org/latest/modules/polys/internals.html?highlight=sylvester  \n",
    "\n",
    "# in sage : a.sylvester_matrix(b,x).det() "
   ]
  },
  {
   "cell_type": "markdown",
   "metadata": {},
   "source": []
  },
  {
   "cell_type": "code",
   "execution_count": null,
   "metadata": {},
   "outputs": [],
   "source": []
  },
  {
   "cell_type": "code",
   "execution_count": null,
   "metadata": {},
   "outputs": [],
   "source": []
  },
  {
   "cell_type": "code",
   "execution_count": null,
   "metadata": {},
   "outputs": [],
   "source": []
  },
  {
   "cell_type": "markdown",
   "metadata": {},
   "source": [
    "**10.Misc.2**  \n",
    "(this is a miscellaneous problem from chapter 10)  \n",
    "**(a)**  We can define the derivative of an arbitrary polynomial $f(x)$ with coefficients in a ring $R$ by the calculus formula $(a_nx^n + ... + a_1 x + a_0)' = n a_{n}x^{n-1} + ... + a_1$.  The integer coefficients are interpreted in $R$ using homomorphism 3.9 (the one mapping from $Z \\longrightarrow R$  (page 355).  Prove  \n",
    "\n",
    "i.)  the product rule $\\big(fg\\big)' =f'g+g'f$ and  \n",
    "The stated definition implies that formal derivative operator to be linear.  Thus using linearity it is enough to consider the case where $f(x) = a_kx^k$ and in turn using linearity once more, we may merely consider $g(x)= b_r x^r$.     \n",
    "$\\big(f(x)g(x)\\big)' $  \n",
    "$= a_kb_r\\big( x^{k+r}\\big)'$  \n",
    "$= a_kb_r(k+r) \\big( x^{k+r-1}\\big) $  \n",
    "$= a_k b_r(k\\big( x^{k+r-1}\\big) + a_k b_r(k\\big( x^{k+r-1}\\big) $  \n",
    "$=   (\\big(k a_k x^{k-1}\\big)' \\big(b_rx^r\\big) +\\big( a_k x^r\\big) \\big(r b_r  x^{r-1}\\big) $  \n",
    "$=f'(x)g(x)+g(x)'f(x)$  \n",
    "\n",
    "\n",
    "ii.) the chain rule $\\big(f(g)\\big)' = f'(g)\\cdot g'$    \n",
    "*omitted*  \n",
    "\n",
    "**(b)** let $f(x)$ be a polynomial with coefficients in a field $\\mathbb F$ and let $\\alpha\\in\\mathbb F$.  Prove that $\\alpha$ is a multiple root of $f$ if and only if it is a common root of $f$ and its derivative $f'$.  \n",
    "\n",
    "*leg one:*  \n",
    "$\\text{f has a root } \\alpha \\text{ with multiplicity of 1} \\implies \\text{f and f' do not have }\\alpha\\text{ as a common root}$   \n",
    "$f\\big(x\\big) = \\big(x-\\alpha\\big)\\cdot p\\big(x\\big)$  where $p\\big(\\alpha\\big) \\neq 0$   \n",
    "applying the derivative operator and the product rule  \n",
    "$f'\\big(x\\big)= \\big(x-\\alpha\\big)'\\cdot p\\big(x\\big) + \\big(x-\\alpha\\big) \\cdot p'\\big(x\\big) =1\\cdot p\\big(x\\big) + \\big(x-\\alpha\\big) \\cdot p'\\big(x\\big)$  \n",
    "$f'\\big(\\alpha \\big) = p\\big(\\alpha\\big) + 0 \\neq 0$  \n",
    "\n",
    "*leg two:*  \n",
    "$ \\text{f has a root } \\alpha \\text{ with multiplicity at least 2} \\implies\\text{f and f' have }\\alpha\\text{ as a common root} $  \n",
    "$f\\big(x\\big) = \\big(x-\\alpha\\big)^2\\cdot p\\big(x\\big)= \\big(x^2 - 2\\alpha x +\\alpha^2\\big)\\cdot p\\big(x\\big)$  \n",
    "applying the derivatives operator, and in particular the product rule  \n",
    "$f'\\big(x\\big) $  \n",
    "$= \\big(x^2 - 2\\alpha x +\\alpha^2\\big)'\\cdot p\\big(x\\big) + \\big(x-\\alpha\\big)^2 \\cdot p'\\big(x\\big)$  \n",
    "$= \\big(2x - 2\\alpha \\big)\\cdot p\\big(x\\big) + \\big(x-\\alpha\\big)^2 \\cdot p'\\big(x\\big)$  \n",
    "$= \\big(x-\\alpha\\big)\\Big(2\\cdot p\\big(x\\big) - \\big(x-\\alpha\\big) \\cdot p'\\big(x\\big)\\Big)$  \n",
    "thus  $f'\\big(\\alpha\\big)=0 $  \n",
    "\n",
    "(There is in some sense a leg zero to address-- it could be the case that $f'(\\alpha)=0\\neq f(\\alpha)$ but then by definition $\\alpha$ isn't a root of $f$).  "
   ]
  },
  {
   "cell_type": "markdown",
   "metadata": {},
   "source": [
    "**11.1.14**  \n",
    "Let $\\mathbb F$ be a subfield of $\\mathbb C$ and let $f\\in \\mathbb F[x]$ be an irreducible polynomial.  Prove that $f$ has no multiple root in $\\mathbb C$.  \n",
    "\n",
    "$f$ has degree $d$ and being irreducible in $\\mathbb F$ means that $f$ cannot have a nonconstant factor in common with any strictly lower degree polynomial $g$.   \n",
    "\n",
    "Assign $g:= f'$, which has degree $d-1$.  \n",
    "\n",
    "With scalars in $\\mathbb F$ we can model this with a Sylvester matrix $S_{yl}(f,g,x)$ and we see that the *resultant* $=\\det\\big(S_{yl}(f,g,x)\\big)= s \\neq 0$ because $f$ is irreducible in $\\mathbb F$ and $g$ has strictly less degree.   \n",
    "\n",
    "Now change the field for our matrix to $\\mathbb C$.  We still have $\\det\\big(S_{yl}(f,g,x)\\big)= s \\neq 0$, thus $f$ and $g$ have no common factors (i.e. no common roots since we are in $\\mathbb C$).  Per ex *10.Misc.2*, $f$ has no multiple root in $\\mathbb C$.      \n",
    "\n"
   ]
  },
  {
   "cell_type": "markdown",
   "metadata": {},
   "source": [
    "**resultants with bivariate polynomials**  \n",
    "If we have a polynomial $\\mathbb F[x,y]$ we may treat this as e.g. the isomorphic case of $\\big(\\mathbb F[y]\\big)[x]$ or $\\big(\\mathbb F[x]\\big)[y]$ depending on our interests.  \n",
    "\n",
    "- - - - - \n",
    "more generally for $\\mathbb F\\big[x_1, x_2,..., x_{n-1},x_n\\big]\\cong \\mathbb F\\big[x_1, x_2,..., x_{n-1}\\big]\\big[x_n\\big] = R\\big[x_n\\big]$  \n",
    "where $R=\\mathbb F\\big[x_1, x_2,..., x_{n-1}\\big]$ is a ring that is an integral domain  \n",
    "- - - - - \n",
    "\n",
    "and treating it as a polynomial in $x$ we construct the relevant Sylvester matrix with 'scalar' in $\\mathbb F[y]$.  The determinant only requires basic ring operations of addition, and multiplication of elements in our ring.  Now suppose we compute $\\text{Res}(f,g,x)=\\gamma\\neq 0$.  If we were to extend $\\mathbb F[y]$ to *the field of fractions* the resultant would still be $\\gamma\\neq 0$ and using our earlier argument we could say that $f$ and $g$ do not have a non-constant factor in common.  Since this holds in the 'nicer'(/relaxation) setting of *the field of fraction* then it holds in the subset given by the ring $\\mathbb F[y]$. Thus a non-zero determinant means what we think it does.  \n",
    "\n",
    "On the other hand a zero determinant, as you author understands it, *also* means what we think it does -- that there is a common constant factor, however it takes some more work to show this. \n",
    "\n",
    "We can also use resultants to give quick proof of **11.4.17**\n",
    "(Resultants move nearly effortlessly from 1 to 2 variable polynomials.  Things become somewhat more complicated with 3 or more variables.)  \n",
    "\n",
    "when we did  \n",
    "$x^2+y^2-1 = \\big(ax+by+c\\big)\\big(a'x+b'y+c'\\big)$  \n",
    "we could turn the problem on its head and ask, is there some $\\big(ax+by+c\\big)$ which shares a non-constant factor with  $x^2+y^2-1$, where we treat this as a single variable in $x$ with coefficients in y, this reads  \n",
    "\n",
    "$x^2 +(y^2-1)$ and  $ax+(by+c)$   "
   ]
  },
  {
   "cell_type": "code",
   "execution_count": 4,
   "metadata": {},
   "outputs": [
    {
     "data": {
      "text/latex": [
       "$\\displaystyle \\left[\\begin{matrix}1 & 0 & 0 & 0\\\\0 & 1 & a & 0\\\\- y^{2} & 0 & b y + c & a\\\\0 & - y^{2} & 0 & b y + c\\end{matrix}\\right]$"
      ],
      "text/plain": [
       "Matrix([\n",
       "[    1,     0,       0,       0],\n",
       "[    0,     1,       a,       0],\n",
       "[-y**2,     0, b*y + c,       a],\n",
       "[    0, -y**2,       0, b*y + c]])"
      ]
     },
     "execution_count": 4,
     "metadata": {},
     "output_type": "execute_result"
    }
   ],
   "source": [
    "import sympy as sp\n",
    "y = sp.Symbol('y')\n",
    "a = sp.Symbol('a')\n",
    "b = sp.Symbol('b')\n",
    "c = sp.Symbol('c')\n",
    "\n",
    "Main_Case = False\n",
    "\n",
    "if Main_Case: \n",
    "    # the problem above, which is an irreducible polynomial  \n",
    "    S = sp.Matrix([[1,0,0,0],\n",
    "                   [0,1,a,0],\n",
    "                   [y**2-1, 0,b*y+c,a],\n",
    "                   [0,y**2-1,0,b*y+c]])\n",
    "\n",
    "else:\n",
    "    # an example of a reducible polynomial: x^2-y^2 = (x-y)(x+y)\n",
    "    S = sp.Matrix([[1,0,0,0],\n",
    "                   [0,1,a,0],\n",
    "                   [-y**2, 0,b*y+c,a],\n",
    "                   [0,-y**2,0,b*y+c]])\n",
    "S\n",
    "\n",
    "\n"
   ]
  },
  {
   "cell_type": "code",
   "execution_count": 8,
   "metadata": {},
   "outputs": [
    {
     "data": {
      "text/latex": [
       "$\\displaystyle \\left[\\begin{matrix}1 & 0\\\\0 & 1\\end{matrix}\\right]$"
      ],
      "text/plain": [
       "Matrix([\n",
       "[1, 0],\n",
       "[0, 1]])"
      ]
     },
     "execution_count": 8,
     "metadata": {},
     "output_type": "execute_result"
    }
   ],
   "source": [
    "A = sp.Matrix([[0,-1],[1,0]])\n",
    "A /= sp.sqrt(2)\n",
    "A@A.T +A.T@A"
   ]
  },
  {
   "cell_type": "code",
   "execution_count": 4,
   "metadata": {},
   "outputs": [
    {
     "data": {
      "text/latex": [
       "$\\displaystyle - a^{2} y^{2} + b^{2} y^{2} + 2 b c y + c^{2}$"
      ],
      "text/plain": [
       "-a**2*y**2 + b**2*y**2 + 2*b*c*y + c**2"
      ]
     },
     "execution_count": 4,
     "metadata": {},
     "output_type": "execute_result"
    }
   ],
   "source": [
    "S.det()\n"
   ]
  },
  {
   "cell_type": "markdown",
   "metadata": {},
   "source": [
    "**i.)** *for the Main Case*  \n",
    "$\\text{Res}(f,g,x)=(a^{2}+ b^{2}) y^{2} + 2 b c y - (a^{2}-   c^{2}):=0$   \n",
    "\n",
    "recalling that $\\{y^2, y, 1\\}$ is a linearly independent set, this implies   \n",
    "$a^2 =-b^2$   \n",
    "$a^2 =c^2$   \n",
    "(as we saw in method of underdetermined coefficients) and   \n",
    "$2bc = 0$  \n",
    "$\\mathbb C$ is a field and hence integral domain thus we know either $b=0$ or $c=0$ but that implies $a=0$ which implies $b=0$.   \n",
    "\n",
    "hence $x^2+y^2-1$ is irreducible in $\\mathbb C[x,y]$   \n",
    "For avoidance of doubt, the *useful Pinter equality* tells us that if $x^2+y^2-1$ has a nontrivial (/nonconstant) factorization then each term must have degree $\\lt \\text{deg}\\big( x^2+y^2-1\\big)=2$ i.e. they each must have degree 1.  And the above resultant tells us we cannot find a degree one polynomial that shares a nonconstant factor with $x^2+y^2-1$ -- i.e. we cannot find a degree one polynomial that *is* a factor of $x^2+y^2-1$.   \n",
    "\n",
    "**ii.)** Now consider the *example of a reducible* polynomial   \n",
    "$x^2-y^2 = (x+y)(x-y)$  \n",
    "\n",
    "In this case we have  \n",
    "$\\text{Res}(f,g,x)= (b^2-a^2)y +2bcy +c^2$  \n",
    "and by inspection, we set $c=0$ and $b=a$ and see this becomes zero, thus the polynomial is *reducible*.  \n"
   ]
  },
  {
   "cell_type": "code",
   "execution_count": null,
   "metadata": {},
   "outputs": [],
   "source": []
  },
  {
   "cell_type": "markdown",
   "metadata": {},
   "source": [
    "*note:this problem is out of chronological order as it naturally follows a discussion of resultants*  \n",
    "**outline of a proof of ex 11.1.14** \n",
    "\n",
    "Ex $11.1.14$ can be proven by formally differentiating the polynomial over $\\mathbb F$.  \n",
    "In particular ref ex 10.Misc.2 part (1) then part (2). Suppose $p$ which is irreducible over $\\mathbb F$, when viewed over $\\mathbb C$ has a double root -- this would tell us that resultant involving $p$ and $p'$ has zero determinant, but if we change to the subfield $\\mathbb F$ then the determinant of the Sylvester matrix (i.e. the resultant) does not change so $p$ has a common factor with $p'$ in $\\mathbb F$ which contradicts the irreducibility of $p$ in $\\mathbb F$.   \n",
    "\n",
    "This will be firmed up in the next few weeks when I unpack the resultant and present a proof of Hilberts Nullstellansatz using it.  \n",
    "\n"
   ]
  },
  {
   "cell_type": "code",
   "execution_count": null,
   "metadata": {},
   "outputs": [],
   "source": []
  },
  {
   "cell_type": "markdown",
   "metadata": {},
   "source": [
    "**Section 6 notes:**  \n",
    "\n",
    "for quadratic number fields, $a,b \\in \\mathbb Q$ and $d$ a square free integer (i.e. -1 or else a number that decomposes into a selection of prime integers without repeats, possibly rescaled by negative one)  \n",
    "\n",
    "\n",
    "$M=\\displaystyle \\left[\\begin{matrix}a & db & \\\\ b & a\\end{matrix}\\right]= aI_2 + b\\displaystyle \\left[\\begin{matrix}0 & d & \\\\ 1 & 0\\end{matrix}\\right]$  \n",
    "\n",
    "so if  \n",
    "$M'=\\displaystyle \\left[\\begin{matrix}a' & db' & \\\\ b' & a'\\end{matrix}\\right]= aI_2 + b'\\displaystyle \\left[\\begin{matrix}0 & d & \\\\ 1 & 0\\end{matrix}\\right]$  \n",
    "the RHS representation makes it obvious that $MM' = M'M$  \n",
    "\n",
    "\n",
    "\n",
    "$\\det\\big(M\\big) = a^2 -db^2= 0$ *iff* $a=b=0$\n",
    "i.e. it is obviously nonzero if only one of $a,b$ $= 0$  so suppose they are both non-zero  \n",
    "then  $a^2 \\neq db^2$  \n",
    "the LHS is alway positive, so if $d\\lt 0$ the result it immediate  \n",
    "now if $d\\gt 0$ the LHS has a prime decomposition where every prime has even multiplicity (in the exponent) but the RHS has at least one prime with odd multiplicity (since $b$ has even multiplicity and $d$ has odd) thus it is non-zero  \n",
    "\n",
    "Now the char poly of M is  \n",
    "$p(x) = x^2 -\\text{trace}\\big(M\\big)x + \\det\\big(M\\big)1 =  x^2 -2a\\cdot x + (a^2-db^2)\\cdot 1  $   \n",
    "\n",
    "Suppose $M \\neq \\mathbf 0$, then application of Cayley-Hamilton and multiplying by $M^{-1}$ tells us  \n",
    "$M -\\text{trace}\\big(M\\big) I_2 + \\det\\big(M\\big)M^{-1} = \\mathbf 0\\implies M^{-1}= \\frac{1}{\\det\\big(M\\big)}\\Big(- M +\\text{trace}\\big(M\\big) I_2\\Big) $   \n",
    "\n",
    "so $M^{-1}$ is in the same form of $\\alpha I_2 +  \\beta \\displaystyle \\left[\\begin{matrix}0 & d & \\\\ 1 & 0\\end{matrix}\\right]$ \n",
    "The in totality the above shows that, with this matrix representation, we have a field.   \n",
    "\n",
    "\n",
    "The characteristic polynomial *also* gives a nice interpretation of corollary (6.13) on page 412 -- i.e. using the second half of prop (6.7) for $\\lambda$ to be an algebraic integer it must be a root of of a monic irreducible polynomial for $\\lambda$ in $\\mathbb Q[x]$ with integer coefficients. Recall that  Artin states that $\\sqrt{d}$ is understood to mean the positive square root if $d\\gt 0$ and the imaginary square root if $d\\lt 0$ so we can simply write this as $+/- \\sqrt{d}$.  \n",
    "\n",
    "$M$ has eigenvalues of $a+/0 b\\sqrt{d}$ as can be seen by checking that they match with the terms of the characteristic polynomial.  \n",
    "\n",
    "**remark**  \n",
    "A particular case of this came up, and was worked through by your author, in chapter 3, on page 82.  That's when the idea for a matrix representation originally occurred.  "
   ]
  },
  {
   "cell_type": "markdown",
   "metadata": {},
   "source": [
    "426"
   ]
  }
 ],
 "metadata": {
  "kernelspec": {
   "display_name": "Python 3",
   "language": "python",
   "name": "python3"
  },
  "language_info": {
   "codemirror_mode": {
    "name": "ipython",
    "version": 3
   },
   "file_extension": ".py",
   "mimetype": "text/x-python",
   "name": "python",
   "nbconvert_exporter": "python",
   "pygments_lexer": "ipython3",
   "version": "3.7.6"
  }
 },
 "nbformat": 4,
 "nbformat_minor": 4
}

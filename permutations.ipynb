{
 "cells": [
  {
   "cell_type": "markdown",
   "metadata": {},
   "source": [
    "a quick note on permutations:"
   ]
  },
  {
   "cell_type": "markdown",
   "metadata": {},
   "source": [
    "A standard result in abstract algebra is that if we have an $n$ element (ordered) set and apply a permutation map a large enough number of times, we recover the identity permutation.  Linear Algebra offers a very nice way of proving this.  \n"
   ]
  },
  {
   "cell_type": "markdown",
   "metadata": {},
   "source": [
    "assume we are operating in $\\mathbb R^n$ and WLOG we are dealing with $\\{1,2,...,n\\}$ which can be encapsulated in a vectors that has each of these distinct value in one and only one component.  If we are dealing with the identity permutation itself, then there is nothing to prove.  So assume that the permutation (matrix) is not the identity (matrix).  \n",
    "\n",
    "**claim:**  \n",
    "$\\mathbf P^k = \\mathbf I$  \n",
    "for some natural number $k$.  \n",
    "\n",
    "*lemma:*  \n",
    "i.) a permutation matrix $\\mathbf P$ is orthogonal since each column has 2 norm of 1 (in particular all zeros with a single one) and each row only has a single one as well, which implies the dot product amongst different columns is zero, hence  \n",
    "$\\mathbf P^T \\mathbf P = \\mathbf I$  \n",
    "\n",
    "ii.) a permutation matrix multiplied by another permutation matrix gives another permutation matrix.  \n",
    "\n",
    "i.e. \n",
    "$ \\mathbf P^{(3)}   = \\mathbf P^{(1)}\\mathbf P^{(2)}$  \n",
    "\n",
    "note, it is immediate that  \n",
    "$\\big(\\mathbf P^{(3)}\\big)^T\\mathbf P^{(3)} = \\big(\\mathbf P^{(2)}\\big)^T\\big(\\mathbf P^{(1)}\\big)^T\\mathbf P^{(1)}\\mathbf P^{(2)}= \\mathbf I$    \n",
    "\n",
    "and  \n",
    "$ \\mathbf P^{(3)}   = \\mathbf P^{(1)}\\bigg[\\begin{array}{c|c|c|c|c}\n",
    "\\mathbf p_1^{(2)} & \\mathbf p_2^{(2)} &\\cdots & \\mathbf p_{n-1}^{(2)} & \\mathbf p_{n}^{(2)}\n",
    "\\end{array}\\bigg]= \\bigg[\\begin{array}{c|c|c|c|c}\n",
    "\\mathbf P^{(1)}\\mathbf p_1^{(2)} & \\mathbf P^{(1)}\\mathbf p_2^{(2)} &\\cdots & \\mathbf P^{(1)}\\mathbf p_{n-1}^{(2)} & \\mathbf P^{(1)}\\mathbf p_{n}^{(2)}\n",
    "\\end{array}\\bigg]$  \n",
    "\n",
    "where each column has a sinlge one and all else zero.  The fact that \n",
    "$\\mathbf P^{(3)}\\big)^T\\mathbf P^{(3)} = \\mathbf I$  \n",
    "proves that each column (and row) is still mutually orthornormal, which implies that the ith row has a single one on it for each row.  \n",
    "\n",
    "**proof:**  \n",
    "there are only $n!$ permutations, so if we look at the map  \n",
    "$\\mathbf P^{n!+1}$  \n",
    "we must have repeated a permutation, i.e.  \n",
    "$\\mathbf P^{n!+1} = \\mathbf P^r$  for some $1 \\leq r \\leq (n+1)!$  \n",
    "\n",
    "from here we may work backwards toward 1 and select the first instance of a repeated map.  \n",
    "$\\mathbf P^{q} = \\mathbf P^r$  for some $1 \\leq q \\lt r \\leq n!$  \n",
    "\n",
    "permutation matrices are invertible (since orthogonal) and the inverse is unique, hence  \n",
    "$\\mathbf P^{q} = \\big(\\mathbf P^{r-q}\\big)\\mathbf P^q $   \n",
    "$\\mathbf I =\\mathbf P^{q}\\big(\\mathbf P^{q}\\big)^T = \\big(\\mathbf P^{r-q}\\big)\\mathbf P^q\\big(\\mathbf P^{q}\\big)^T= \\big(\\mathbf P^{r-q}\\big) $   \n"
   ]
  },
  {
   "cell_type": "code",
   "execution_count": null,
   "metadata": {
    "collapsed": true
   },
   "outputs": [],
   "source": []
  }
 ],
 "metadata": {
  "kernelspec": {
   "display_name": "Python 2",
   "language": "python",
   "name": "python2"
  },
  "language_info": {
   "codemirror_mode": {
    "name": "ipython",
    "version": 2
   },
   "file_extension": ".py",
   "mimetype": "text/x-python",
   "name": "python",
   "nbconvert_exporter": "python",
   "pygments_lexer": "ipython2",
   "version": "2.7.13"
  }
 },
 "nbformat": 4,
 "nbformat_minor": 0
}

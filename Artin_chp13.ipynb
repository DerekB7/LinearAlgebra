{
 "cells": [
  {
   "cell_type": "code",
   "execution_count": null,
   "metadata": {},
   "outputs": [],
   "source": []
  },
  {
   "cell_type": "markdown",
   "metadata": {},
   "source": [
    "**ex 13.1.3**   \n",
    "let $R$ be ring which is an integral domain that contains $\\mathbb F$ as a sub-ring and may be represented as an $n$ dimensional vector space over $\\mathbb F$.  (Note: this is an actual vector space over a field not an arbitrary module.)  Prove that $R$ is a field.  \n",
    "\n",
    "*remark*  \n",
    "This should remind us of ex 10.6.2 which was to prove that an integral domain with finitely many elements is a field.  Here we have an integral domain that may have infinitely many elements, but it is still finite in some 'nice' sense -- in particular it can be interpreted as a finite dimensional vector space.  \n",
    "\n",
    "*proof:*   \n",
    "The idea is to prove that every $r\\in R-\\big\\{0\\big\\}$ has an inverse  \n",
    "\n",
    "fix $r\\in R-\\big\\{0\\big\\}$ and selecting an arbitrary element in $v\\in R$, we have  \n",
    "\n",
    "$r\\cdot v = v'$   \n",
    "$r\\cdot\\big( v + v'\\big) = r\\cdot v + r\\cdot v'$  and  \n",
    "$r\\cdot\\big( \\alpha v\\big) =\\alpha \\cdot \\big(r\\cdot v\\big)$   \n",
    "\n",
    "so $r$ is a linear operator on this vector space $V$.  Since the domain is integral, we have  \n",
    "\n",
    "$\\dim\\ker\\big(r\\big) = 0$  \n",
    "and by rank nullity,  \n",
    "$\\dim\\text{im}\\big(r\\big) = n$  \n",
    "\n",
    "hence $r$ is both injective and surjective and thus invertible  \n",
    "\n",
    "*alternatively*  \n",
    "for a more granular approach, define a basis for this finite dim vector space    \n",
    "$\\mathbf B:=\\bigg[\\begin{array}{c|c|c|c} v_1 & v_2 &\\cdots & v_{d} \\end{array}\\bigg]$  \n",
    "we then model this forward and run it backward to solve for the inverse of arbitrary $r\\in R-\\big\\{0\\big\\}$  \n",
    "\n",
    "first:  \n",
    "For arbitrary $v\\in \\mathbb R$ which is a vector space $V$ over $\\mathbb F$  we have   \n",
    "$v = \\mathbf {Bx}$   and  \n",
    "$\\mathbf B\\mathbf y = v' = r\\cdot v = r\\cdot \\big(\\mathbf B\\mathbf x\\big)= \\big(r\\cdot \\mathbf B\\big) \\mathbf x = \\big(\\mathbf B A\\big) \\mathbf x =\\mathbf B  \\big(A \\mathbf x\\big)$   \n",
    "since the basis uniquely characterizes all elements in the vector space, the problem reduces to the familiar  \n",
    "$A\\mathbf x = \\mathbf y$   \n",
    "\n",
    "second:  \n",
    "running this backwards,  \n",
    "we specialize to have $v':=1 \\in R$  (though any unit in R will do) thus  \n",
    "$1 = \\mathbf B\\mathbf y$ -- so $\\mathbf y$ is the coordinate representation of this unit with respect to our basis.  The question becomes can we solve  \n",
    "$A\\mathbf x = \\mathbf y$   \n",
    "and of course the answer is yes, because $A$ has a trivial kernel (by integrality of our ring and uniqueness of basis representation, we know $r\\cdot v = 0$ *iff* $v=0$ which is equivalent to $A\\mathbf x = \\mathbf 0$ *iff* $\\mathbf x =0$ ) \n",
    "\n",
    "so $A$ has non-zero determinant (which takes on a value in $\\mathbb F$ and hence is a unit)  and   \n",
    "$\\mathbf x = A^{-1}\\mathbf y$   \n",
    "which is unique.   \n",
    "\n",
    "Working backwards, we have   \n",
    "$r \\cdot v = r\\cdot \\mathbf B\\mathbf x = \\big(r\\cdot \\mathbf B\\big)\\big(A^{-1}\\mathbf y\\big)= \\big(\\mathbf BA\\big)A^{-1}\\mathbf y =\\mathbf B\\mathbf y = 1$   \n",
    "hence we have found the multiplicative inverse of $r$ and $r$ is invertible.  But the choice of $r\\in R-\\big\\{0\\big\\}$ was arbitrary so all non-zero elements in $R$ are invertible and $R$ is a field.   \n",
    "\n",
    "\n",
    "\n",
    "\n",
    "\n"
   ]
  },
  {
   "cell_type": "code",
   "execution_count": null,
   "metadata": {},
   "outputs": [],
   "source": []
  },
  {
   "cell_type": "markdown",
   "metadata": {},
   "source": [
    "**ex 13.2.4**  \n",
    "\n",
    "consider irreducible polynomial (over $\\mathbb Q$)   \n",
    "$x^3-3x +4$   \n",
    "with complex root $\\alpha$, which means $\\alpha^3=3\\alpha -4$  \n",
    " \n",
    "$\\mathbf B := \n",
    "\\bigg[\\begin{array}{c|c|c|c|c} \n",
    "\\mathbf 1  & \\alpha & \\alpha^2 \n",
    "\\end{array}\\bigg]$   \n",
    "$r:= (\\alpha^2+\\alpha+1)$   \n",
    "thus   \n",
    "$r\\cdot \\mathbf B = \\mathbf BA = \\mathbf B \\displaystyle \\left[\\begin{matrix}1 & -4 & -4\\\\1 & 4 & -1\\\\1 & 1 & 4\\end{matrix}\\right]$   \n",
    "\n",
    "$r^{-1}\\mathbf B = \\mathbf B A^{-1}=\\mathbf B\\displaystyle \\left[\\begin{matrix}\\frac{17}{49} & \\frac{12}{49} & \\frac{20}{49}\\\\- \\frac{5}{49} & \\frac{8}{49} & - \\frac{3}{49}\\\\- \\frac{3}{49} & - \\frac{5}{49} & \\frac{8}{49}\\end{matrix}\\right] $   \n",
    "\n",
    "see comments in code below.  We can read off $r^{-1}$ by looking at the first column of $A^{-1}$  \n",
    "**note**  \n",
    "$(\\alpha^2+\\alpha+1)\\cdot \\alpha^2 = \\alpha^4+\\alpha^3 +\\alpha^2$ but this needs reduced to terms with degree $\\leq 2$.  We can do this by hand.  However, we may also consider modeling the irreducible polynomial with a Companion Matrix $C$ and with suitable modelling, multiply by $C^{-1}$ twice, i.e. multiplying by $C^{-2}$.  Also note that up to a sign, the determinant of the Companion matrix is given by the constant term of our irreducible polynomial, which is non-zero since the polynomial is irreducible (and 0 exists in any ring so we cannot factor it out).  Thus $C^{-1}$ must exist.     "
   ]
  },
  {
   "cell_type": "code",
   "execution_count": null,
   "metadata": {},
   "outputs": [],
   "source": []
  },
  {
   "cell_type": "code",
   "execution_count": 45,
   "metadata": {},
   "outputs": [
    {
     "data": {
      "text/latex": [
       "$\\displaystyle \\left[\\begin{matrix}\\frac{17}{49} & \\frac{12}{49} & \\frac{20}{49}\\\\- \\frac{5}{49} & \\frac{8}{49} & - \\frac{3}{49}\\\\- \\frac{3}{49} & - \\frac{5}{49} & \\frac{8}{49}\\end{matrix}\\right]$"
      ],
      "text/plain": [
       "Matrix([\n",
       "[17/49, 12/49, 20/49],\n",
       "[-5/49,  8/49, -3/49],\n",
       "[-3/49, -5/49,  8/49]])"
      ]
     },
     "execution_count": 45,
     "metadata": {},
     "output_type": "execute_result"
    }
   ],
   "source": [
    "import sympy as sp  \n",
    "a = sp.Symbol('a')\n",
    "A = sp.Matrix([[1,-4,-4],[1,4,-1],[1,1,4]])\n",
    "B = sp.Matrix([[1,a, a**2]])\n",
    "A.inv()"
   ]
  },
  {
   "cell_type": "code",
   "execution_count": 44,
   "metadata": {},
   "outputs": [
    {
     "data": {
      "text/latex": [
       "$\\displaystyle \\left[\\begin{matrix}1 & -4 & -4\\\\1 & 4 & -1\\\\1 & 1 & 4\\end{matrix}\\right]$"
      ],
      "text/plain": [
       "Matrix([\n",
       "[1, -4, -4],\n",
       "[1,  4, -1],\n",
       "[1,  1,  4]])"
      ]
     },
     "execution_count": 44,
     "metadata": {},
     "output_type": "execute_result"
    }
   ],
   "source": [
    "A"
   ]
  },
  {
   "cell_type": "code",
   "execution_count": 47,
   "metadata": {},
   "outputs": [
    {
     "data": {
      "text/latex": [
       "$\\displaystyle \\left[\\begin{matrix}a^{2} + a + 1 & a^{2} + 4 a - 4 & 4 a^{2} - a - 4\\end{matrix}\\right]$"
      ],
      "text/plain": [
       "Matrix([[a**2 + a + 1, a**2 + 4*a - 4, 4*a**2 - a - 4]])"
      ]
     },
     "execution_count": 47,
     "metadata": {},
     "output_type": "execute_result"
    }
   ],
   "source": [
    "B @ A\n",
    "# to recover linear operator r, read off the first column--where we see the 'one vector' under the image of tau"
   ]
  },
  {
   "cell_type": "code",
   "execution_count": 46,
   "metadata": {},
   "outputs": [
    {
     "data": {
      "text/latex": [
       "$\\displaystyle \\left[\\begin{matrix}- \\frac{3 a^{2}}{49} - \\frac{5 a}{49} + \\frac{17}{49} & - \\frac{5 a^{2}}{49} + \\frac{8 a}{49} + \\frac{12}{49} & \\frac{8 a^{2}}{49} - \\frac{3 a}{49} + \\frac{20}{49}\\end{matrix}\\right]$"
      ],
      "text/plain": [
       "Matrix([[-3*a**2/49 - 5*a/49 + 17/49, -5*a**2/49 + 8*a/49 + 12/49, 8*a**2/49 - 3*a/49 + 20/49]])"
      ]
     },
     "execution_count": 46,
     "metadata": {},
     "output_type": "execute_result"
    }
   ],
   "source": [
    "# so for avoidance of doubt,  \n",
    "B @ A.inv()  \n",
    "# or just read off the first column of A^{-1} which is shown 2 cells above  "
   ]
  },
  {
   "cell_type": "code",
   "execution_count": null,
   "metadata": {},
   "outputs": [],
   "source": []
  },
  {
   "cell_type": "markdown",
   "metadata": {},
   "source": [
    "**ex 13.2.5**   \n",
    "as noted in Harvard solution, we are following a standard approach of attacking the minimal or maximal degree element -- in this case we attack the minimal degree element -- the constant term.  And as noted above the constant term is non-zero.  So write constant in terms of other terms-- which we can do because $\\alpha $ is a root. But RHS has an extra $\\alpha$ so divide each side by $\\alpha$ and by constant term, and we recover the inverse.  \n",
    "\n",
    "a longer approach that uses the same linear algebra techniques from the prior problem is as follows  \n",
    "\n",
    "$\\mathbf B := \n",
    "\\bigg[\\begin{array}{c|c|c|c|c} \n",
    "\\mathbf 1  & \\alpha & \\alpha^2&\\cdots &\\ \\alpha^{n-1} \n",
    "\\end{array}\\bigg]$   \n",
    "$r:= \\alpha$   \n",
    "thus   \n",
    "$r\\cdot \\mathbf B = \\mathbf BA = \\mathbf B \\displaystyle \\left[\\begin{matrix}I_{n-1} & -\\mathbf c \\\\ 0 & -c_{n-1}\\end{matrix}\\right]$   \n",
    "\n",
    "**TBC DETAILS HERE**  \n",
    "where $\\mathbf c$ has the other terms of the polynomial up to degree n-2.  \n",
    "Note that $A$ is \"*almost*\" a Companion matrix, including the absence of the degree n term, and the negatives.  The problem is that the $I_{n-1}$ has the ones running along the diagonal, not the sub-diagonal, which is required for a proper Companion Matrix.  \n",
    "\n",
    "The formula is best derived in this case by computing $A^{-1}$ with test cases involving $3\\times 3$ and $4\\times 4$ matrices and then proving the result by either (i) using the rank one update inverse formula (see notebook with that name in the Linear Algebra Folder) on $\\Big(\\displaystyle \\left[\\begin{matrix}I_{n-1} & \\mathbf 0 \\\\ 0 & -c_{n-1}\\end{matrix}\\right] + \\displaystyle \\left[\\begin{matrix}-\\mathbf c\\\\0\\end{matrix}\\right] \\mathbf e_n^T\\Big)$ and then reading off the first column, as before.  \n",
    "\n",
    "\n"
   ]
  },
  {
   "cell_type": "code",
   "execution_count": null,
   "metadata": {},
   "outputs": [],
   "source": []
  }
 ],
 "metadata": {
  "kernelspec": {
   "display_name": "Python 3",
   "language": "python",
   "name": "python3"
  },
  "language_info": {
   "codemirror_mode": {
    "name": "ipython",
    "version": 3
   },
   "file_extension": ".py",
   "mimetype": "text/x-python",
   "name": "python",
   "nbconvert_exporter": "python",
   "pygments_lexer": "ipython3",
   "version": "3.7.6"
  }
 },
 "nbformat": 4,
 "nbformat_minor": 4
}

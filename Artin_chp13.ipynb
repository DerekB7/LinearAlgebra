{
 "cells": [
  {
   "cell_type": "code",
   "execution_count": null,
   "metadata": {},
   "outputs": [],
   "source": []
  },
  {
   "cell_type": "markdown",
   "metadata": {},
   "source": [
    "**ex 13.1.3**   \n",
    "let $R$ be ring which is an integral domain that contains $\\mathbb F$ as a sub-ring and may be represented as an $n$ dimensional vector space over $\\mathbb F$.  (Note: this is an actual vector space over a field not an arbitrary module.)  Prove that $R$ is a field.  \n",
    "\n",
    "*remark*  \n",
    "This should remind us of ex 10.6.2 which was to prove that an integral domain with finitely many elements is a field.  Here we have an integral domain that may have infinitely many elements, but it is still finite in some 'nice' sense -- in particular it can be interpreted as a finite dimensional vector space.  \n",
    "\n",
    "*proof:*   \n",
    "The idea is to prove that every $r\\in R-\\big\\{0\\big\\}$ has an inverse  \n",
    "\n",
    "fix $r\\in R-\\big\\{0\\big\\}$ and selecting an arbitrary element in $v\\in R$, we have  \n",
    "\n",
    "$r\\cdot v = v'$   \n",
    "$r\\cdot\\big( v + v'\\big) = r\\cdot v + r\\cdot v'$  and  \n",
    "$r\\cdot\\big( \\alpha v\\big) =\\alpha \\cdot \\big(r\\cdot v\\big)$   \n",
    "\n",
    "so $r$ is a linear operator on this vector space $V$.  Since the domain is integral, we have  \n",
    "\n",
    "$\\dim\\ker\\big(r\\big) = 0$  \n",
    "and by rank nullity,  \n",
    "$\\dim\\text{im}\\big(r\\big) = n$  \n",
    "\n",
    "hence $r$ is both injective and surjective and thus invertible  \n",
    "\n",
    "*alternatively*  \n",
    "for a more granular approach, define a basis for this finite dim vector space    \n",
    "$\\mathbf B:=\\bigg[\\begin{array}{c|c|c|c} v_1 & v_2 &\\cdots & v_{d} \\end{array}\\bigg]$  \n",
    "we then model this forward and run it backward to solve for the inverse of arbitrary $r\\in R-\\big\\{0\\big\\}$  \n",
    "\n",
    "first:  \n",
    "For arbitrary $v\\in \\mathbb R$ which is a vector space $V$ over $\\mathbb F$  we have   \n",
    "$v = \\mathbf {Bx}$   and  \n",
    "$\\mathbf B\\mathbf y = v' = r\\cdot v = r\\cdot \\big(\\mathbf B\\mathbf x\\big)= \\big(r\\cdot \\mathbf B\\big) \\mathbf x = \\big(\\mathbf B A\\big) \\mathbf x =\\mathbf B  \\big(A \\mathbf x\\big)$   \n",
    "since the basis uniquely characterizes all elements in the vector space, the problem reduces to the familiar  \n",
    "$A\\mathbf x = \\mathbf y$   \n",
    "\n",
    "second:  \n",
    "running this backwards,  \n",
    "we specialize to have $v':=1 \\in R$  (though any unit in R will do) thus  \n",
    "$1 = \\mathbf B\\mathbf y$ -- so $\\mathbf y$ is the coordinate representation of this unit with respect to our basis.  The question becomes can we solve  \n",
    "$A\\mathbf x = \\mathbf y$   \n",
    "and of course the answer is yes, because $A$ has a trivial kernel (by integrality of our ring and uniqueness of basis representation, we know $r\\cdot v = 0$ *iff* $v=0$ which is equivalent to $A\\mathbf x = \\mathbf 0$ *iff* $\\mathbf x =0$ ) \n",
    "\n",
    "so $A$ has non-zero determinant (which takes on a value in $\\mathbb F$ and hence is a unit)  and   \n",
    "$\\mathbf x = A^{-1}\\mathbf y$   \n",
    "which is unique.   \n",
    "\n",
    "Working backwards, we have   \n",
    "$r \\cdot v = r\\cdot \\mathbf B\\mathbf x = \\big(r\\cdot \\mathbf B\\big)\\big(A^{-1}\\mathbf y\\big)= \\big(\\mathbf BA\\big)A^{-1}\\mathbf y =\\mathbf B\\mathbf y = 1$   \n",
    "hence we have found the multiplicative inverse of $r$ and $r$ is invertible.  But the choice of $r\\in R-\\big\\{0\\big\\}$ was arbitrary so all non-zero elements in $R$ are invertible and $R$ is a field.   \n",
    "\n",
    "\n",
    "\n",
    "\n",
    "\n"
   ]
  },
  {
   "cell_type": "code",
   "execution_count": null,
   "metadata": {},
   "outputs": [],
   "source": []
  },
  {
   "cell_type": "markdown",
   "metadata": {},
   "source": [
    "**ex 13.2.2**  \n",
    "where $\\mathbb F[\\alpha]$ is the result of applying the substitution homomorphism $\\phi$ given by $x\\mapsto \\alpha$ to $F[x]$ where $\\alpha\\notin \\mathbb F$ (but exists in some field extension of $\\mathbb F$) and $\\alpha$ is a root of a degree $d$ monic polynomial $g\\in F[x]$  but $\\alpha$ is not a root of a lower degree polynomial in $\\mathbb F[x]$. \n",
    "\n",
    "prove:  \n",
    "$\\mathbf B := \n",
    "\\bigg[\\begin{array}{c|c|c|c|c} \n",
    "1  & \\alpha & \\alpha^2&\\cdots &\\ \\alpha^{d-1} \n",
    "\\end{array}\\bigg]$  \n",
    "is a basis for $\\mathbb F[\\alpha]$  \n",
    "\n",
    "*proof:*  \n",
    "*i.)*  linear independence with coefficients in $\\mathbb F$     \n",
    "$\\mathbf B\\mathbf v=\\mathbf 0\\implies \\mathbf v = \\mathbf 0$   \n",
    "writing this out:  \n",
    "$v_0\\cdot 1  + v_1\\cdot \\alpha + v_2\\cdot \\alpha^2 +...+ v_{d-1}\\cdot \\alpha^{d-1}  = 0$   \n",
    "which is a polyonomial of degree $\\leq d-1$ in $\\mathbb F[x]$ under the image of $\\phi$.   \n",
    "$\\implies 0=v_0=v_1=...=v_{d-1}$ because there is no (non zero) polynomial with degree $\\leq d$ in $\\mathbb F[x]$ that has $\\alpha$ as a root.  \n",
    "\n",
    "*ii.)* span  \n",
    "for reasons of linearity it is enough to prove this for a monomial $\\beta \\cdot \\alpha^k$.  If $k\\leq d-1$ the result immediately follows.  If $k=d$ then the fact that $f(\\alpha)=0$ gives us an explicit recurrence, to write $\\alpha^d$ as a linear combination of strictly lower order terms (just examine  both sides of  $\\alpha^d -f(\\alpha)=0+-\\alpha^d$) and each term is a scalar multiple of some vector in $\\mathbf B$.  If $k\\gt d$ then by applying the above recurrence, $\\alpha^k$ may be written as a linear combination of strictly lower order terms and by strong inductive hypothesis each of them is a linear combination of vectors in $\\mathbf B$.  Thus $\\beta\\cdot \\alpha^k \\in \\text{span}\\big(\\mathbf B\\big)$ for arbitrary $k$.  \n",
    "\n",
    "Thus $\\mathbf B$ forms a basis.  \n",
    "\n"
   ]
  },
  {
   "cell_type": "markdown",
   "metadata": {},
   "source": [
    "**corollary**  \n",
    "\n",
    "*lemma:*  \n",
    "consider $\\mathbb F\\subset \\mathbb K$ and the polynomial ring $\\mathbb F[x]$.  If $\\alpha \\in \\mathbb K$ but $\\alpha \\notin \\mathbb F$ is not a root of any polynomial $g$ of degree $\\leq d-1$ in $\\mathbb F[x]$, then for $p_1,p_2 \\in \\mathbb F[x]$, each with degree $\\leq d-1$, then  \n",
    "$\\phi\\big(p_1p_2\\big)\\neq 0$  \n",
    "where $\\phi$ is the substitution homomorphism $x\\mapsto \\alpha$  \n",
    "\n",
    "*proof:*  \n",
    "$\\phi\\big(p_1p_2\\big)=\\phi\\big(p_1\\big)\\phi\\big(p_2\\big)= \\beta_1\\cdot \\beta_2 \\neq 0$  \n",
    "where the first equality follows because this is a homomorphism and we know $\\beta_1, \\beta_2 \\in \\mathbb K-\\{0\\}$    because $\\beta_1, \\beta_2 \\in \\mathbb K$  by construction and $\\phi\\big(p_1\\big)\\neq 0$, $\\phi\\big(p_2\\big) \\neq 0$ since $\\alpha$ is not a root of either $p_1$ or $p_2$  \n",
    "\n",
    "*main argument:*   \n",
    "$\\mathbb F[\\alpha]$ is a field.   \n",
    "(This is is proven by very different means in prop 2.6a in the text\\.)   \n",
    "combining *ex 13.1.3* and *ex 13.2.2* tells us that $\\mathbb F[\\alpha]$ is a field so long as we confirm that the ring $R:=\\mathbb F[\\alpha]$ is an integral domain. To confirm integrality it suffices to prove that $\\mathbb F[\\alpha]$ has no zero divisors.  \n",
    "\n",
    "While not strictly needed, we can streamline the proof with an argument by contradiction.  \n",
    "i.e. suppose $r_1, r_2 \\in \\mathbb F[\\alpha]-\\{0\\}$ and $r_1\\cdot r_2=0$.  \n",
    "\n",
    "Then by the span argument in ex 13.2.2, each of $r_1$ and $r_2$ may be written as a linear combination of $\\alpha^k$ for $k\\in\\{0,1,2,...,d-1\\}$ which implies each or $r_1,r_2$ have degree $\\leq d-1$. Each of $r_1=\\phi\\big(p_1\\big)$ and $r_2=\\phi\\big(p_2\\big)$ for some degree at most $d-1$ polynomials $p_1,p_2\\in \\mathbb F[x]$ (just match the coefficients in $\\mathbb F$ to find them).  But this contradicts the lemma.  Hence $\\mathbb F[\\alpha]$ is an integral domain and thus a field.  \n",
    "\n",
    "*extension*  \n",
    "By the fundamental homomorphism theorem, $\\mathbb F[x]/(g) \\cong \\mathbb F[\\alpha]$ and since the RHS is a field, so is the LHS. By applying 10.7.3a (page 371) $\\mathbb F[x]/(g) \\text{ is a field }\\implies (g)\\text{ is a maximal ideal }$.  With some care, this should imply that every ideal in $\\mathbb F[x]$ is principal which is a chapter 11 (and perhaps chapter 10) result proven via rather different means.  \n"
   ]
  },
  {
   "cell_type": "code",
   "execution_count": null,
   "metadata": {},
   "outputs": [],
   "source": []
  },
  {
   "cell_type": "markdown",
   "metadata": {},
   "source": [
    "**ex 13.2.4**  \n",
    "\n",
    "consider irreducible polynomial (over $\\mathbb Q$)   \n",
    "$x^3-3x +4$   \n",
    "with complex root $\\alpha$, which means $\\alpha^3=3\\alpha -4$  \n",
    " \n",
    "$\\mathbf B := \n",
    "\\bigg[\\begin{array}{c|c|c|c|c} \n",
    "\\mathbf 1  & \\alpha & \\alpha^2 \n",
    "\\end{array}\\bigg]$   \n",
    "$r:= (\\alpha^2+\\alpha+1)$   \n",
    "thus   \n",
    "$r\\cdot \\mathbf B = \\mathbf BA = \\mathbf B \\displaystyle \\left[\\begin{matrix}1 & -4 & -4\\\\1 & 4 & -1\\\\1 & 1 & 4\\end{matrix}\\right]$   \n",
    "\n",
    "$r^{-1}\\mathbf B = \\mathbf B A^{-1}=\\mathbf B\\displaystyle \\left[\\begin{matrix}\\frac{17}{49} & \\frac{12}{49} & \\frac{20}{49}\\\\- \\frac{5}{49} & \\frac{8}{49} & - \\frac{3}{49}\\\\- \\frac{3}{49} & - \\frac{5}{49} & \\frac{8}{49}\\end{matrix}\\right] $   \n",
    "\n",
    "see comments in code below.  We can read off $r^{-1}$ by looking at the first column of $A^{-1}$  \n",
    "**note**  \n",
    "$(\\alpha^2+\\alpha+1)\\cdot \\alpha^2 = \\alpha^4+\\alpha^3 +\\alpha^2$ but this needs reduced to terms with degree $\\leq 2$.  We can do this by hand.  However, we may also consider modeling the irreducible polynomial with a Companion Matrix $C$ and with suitable modelling, multiply by $C^{-1}$ twice, i.e. multiplying by $C^{-2}$.  Also note that up to a sign, the determinant of the Companion matrix is given by the constant term of our irreducible polynomial, which is non-zero since the polynomial is irreducible (and 0 exists in any ring so we cannot factor it out).  Thus $C^{-1}$ must exist.     "
   ]
  },
  {
   "cell_type": "code",
   "execution_count": null,
   "metadata": {},
   "outputs": [],
   "source": []
  },
  {
   "cell_type": "code",
   "execution_count": 1,
   "metadata": {},
   "outputs": [
    {
     "data": {
      "text/latex": [
       "$\\displaystyle \\left[\\begin{matrix}\\frac{17}{49} & \\frac{12}{49} & \\frac{20}{49}\\\\- \\frac{5}{49} & \\frac{8}{49} & - \\frac{3}{49}\\\\- \\frac{3}{49} & - \\frac{5}{49} & \\frac{8}{49}\\end{matrix}\\right]$"
      ],
      "text/plain": [
       "Matrix([\n",
       "[17/49, 12/49, 20/49],\n",
       "[-5/49,  8/49, -3/49],\n",
       "[-3/49, -5/49,  8/49]])"
      ]
     },
     "execution_count": 1,
     "metadata": {},
     "output_type": "execute_result"
    }
   ],
   "source": [
    "import sympy as sp  \n",
    "a = sp.Symbol('a')\n",
    "A = sp.Matrix([[1,-4,-4],[1,4,-1],[1,1,4]])\n",
    "B = sp.Matrix([[1,a, a**2]])\n",
    "A.inv()"
   ]
  },
  {
   "cell_type": "code",
   "execution_count": 44,
   "metadata": {},
   "outputs": [
    {
     "data": {
      "text/latex": [
       "$\\displaystyle \\left[\\begin{matrix}1 & -4 & -4\\\\1 & 4 & -1\\\\1 & 1 & 4\\end{matrix}\\right]$"
      ],
      "text/plain": [
       "Matrix([\n",
       "[1, -4, -4],\n",
       "[1,  4, -1],\n",
       "[1,  1,  4]])"
      ]
     },
     "execution_count": 44,
     "metadata": {},
     "output_type": "execute_result"
    }
   ],
   "source": [
    "A"
   ]
  },
  {
   "cell_type": "code",
   "execution_count": 47,
   "metadata": {},
   "outputs": [
    {
     "data": {
      "text/latex": [
       "$\\displaystyle \\left[\\begin{matrix}a^{2} + a + 1 & a^{2} + 4 a - 4 & 4 a^{2} - a - 4\\end{matrix}\\right]$"
      ],
      "text/plain": [
       "Matrix([[a**2 + a + 1, a**2 + 4*a - 4, 4*a**2 - a - 4]])"
      ]
     },
     "execution_count": 47,
     "metadata": {},
     "output_type": "execute_result"
    }
   ],
   "source": [
    "B @ A\n",
    "# to recover linear operator r, read off the first column--where we see the 'one vector' under the image of tau"
   ]
  },
  {
   "cell_type": "code",
   "execution_count": 46,
   "metadata": {},
   "outputs": [
    {
     "data": {
      "text/latex": [
       "$\\displaystyle \\left[\\begin{matrix}- \\frac{3 a^{2}}{49} - \\frac{5 a}{49} + \\frac{17}{49} & - \\frac{5 a^{2}}{49} + \\frac{8 a}{49} + \\frac{12}{49} & \\frac{8 a^{2}}{49} - \\frac{3 a}{49} + \\frac{20}{49}\\end{matrix}\\right]$"
      ],
      "text/plain": [
       "Matrix([[-3*a**2/49 - 5*a/49 + 17/49, -5*a**2/49 + 8*a/49 + 12/49, 8*a**2/49 - 3*a/49 + 20/49]])"
      ]
     },
     "execution_count": 46,
     "metadata": {},
     "output_type": "execute_result"
    }
   ],
   "source": [
    "# so for avoidance of doubt,  \n",
    "B @ A.inv()  \n",
    "# or just read off the first column of A^{-1} which is shown 2 cells above  "
   ]
  },
  {
   "cell_type": "code",
   "execution_count": null,
   "metadata": {},
   "outputs": [],
   "source": []
  },
  {
   "cell_type": "markdown",
   "metadata": {},
   "source": [
    "**ex 13.2.5**   \n",
    "as noted in Harvard solution, we are following a standard approach of attacking the minimal or maximal degree element -- in this case we attack the minimal degree element -- the constant term.  And as noted above the constant term is non-zero.  So write constant in terms of other terms-- which we can do because $\\alpha $ is a root. But RHS has an extra $\\alpha$ so divide each side by $\\alpha$ and by constant term, and we recover the inverse.  \n",
    "\n",
    "a longer approach that uses the same linear algebra techniques from the prior problem is as follows  \n",
    "\n",
    "$\\mathbf B := \n",
    "\\bigg[\\begin{array}{c|c|c|c|c} \n",
    "\\mathbf 1  & \\alpha & \\alpha^2&\\cdots &\\ \\alpha^{n-1} \n",
    "\\end{array}\\bigg]$   \n",
    "$r:= \\alpha$   \n",
    "thus   \n",
    "$r\\cdot \\mathbf B = \\mathbf BA = \\mathbf B \\displaystyle \\left[\\begin{matrix}0 & -c_0\\\\ I_{n-1} & -\\mathbf c \\end{matrix}\\right]$   \n",
    "\n",
    "where $\\mathbf c$ has the other terms of the polynomial from degree 1 to n-1.  \n",
    "$A$ *is* a Companion matrix so $A^{-1}$ has a well known form.  To finish, we merely need to read off the first column, as before.  Some below calculations make this explicit.\n",
    "\n",
    "\n"
   ]
  },
  {
   "cell_type": "code",
   "execution_count": 16,
   "metadata": {},
   "outputs": [
    {
     "data": {
      "text/latex": [
       "$\\displaystyle \\left[\\begin{matrix}0 & 0 & 0 & 0 & 0 & 0 & 0 & - c_{0}\\\\1 & 0 & 0 & 0 & 0 & 0 & 0 & - c_{1}\\\\0 & 1 & 0 & 0 & 0 & 0 & 0 & - c_{2}\\\\0 & 0 & 1 & 0 & 0 & 0 & 0 & - c_{3}\\\\0 & 0 & 0 & 1 & 0 & 0 & 0 & - c_{4}\\\\0 & 0 & 0 & 0 & 1 & 0 & 0 & - c_{5}\\\\0 & 0 & 0 & 0 & 0 & 1 & 0 & - c_{6}\\\\0 & 0 & 0 & 0 & 0 & 0 & 1 & - c_{7}\\end{matrix}\\right]$"
      ],
      "text/plain": [
       "Matrix([\n",
       "[0, 0, 0, 0, 0, 0, 0, -c_0],\n",
       "[1, 0, 0, 0, 0, 0, 0, -c_1],\n",
       "[0, 1, 0, 0, 0, 0, 0, -c_2],\n",
       "[0, 0, 1, 0, 0, 0, 0, -c_3],\n",
       "[0, 0, 0, 1, 0, 0, 0, -c_4],\n",
       "[0, 0, 0, 0, 1, 0, 0, -c_5],\n",
       "[0, 0, 0, 0, 0, 1, 0, -c_6],\n",
       "[0, 0, 0, 0, 0, 0, 1, -c_7]])"
      ]
     },
     "execution_count": 16,
     "metadata": {},
     "output_type": "execute_result"
    }
   ],
   "source": [
    "c_0 = sp.Symbol('c_0')\n",
    "c_1 = sp.Symbol('c_1')\n",
    "c_2 = sp.Symbol('c_2')\n",
    "c_3 = sp.Symbol('c_3')\n",
    "c_4 = sp.Symbol('c_4')\n",
    "c_5 = sp.Symbol('c_5')\n",
    "c_6 = sp.Symbol('c_6')\n",
    "c_7 = sp.Symbol('c_7')\n",
    "c_8 = sp.Symbol('c_8')\n",
    "c_9 = sp.Symbol('c_9')\n",
    "\n",
    "the_list = [c_0, c_1, c_2, c_3, c_4, c_5, c_6, c_7, c_8, c_9]\n",
    "\n",
    "d = 8\n",
    "# natural number <= 10 \n",
    "\n",
    "assert d<= 10 and type(d)==int\n",
    "\n",
    "C = sp.zeros(d)\n",
    "for j in range(d-1):\n",
    "    C[j+1,j] = 1\n",
    "for i in range(d):\n",
    "    C[i,-1] = -the_list[i]  \n",
    "C"
   ]
  },
  {
   "cell_type": "code",
   "execution_count": 17,
   "metadata": {},
   "outputs": [
    {
     "data": {
      "text/latex": [
       "$\\displaystyle \\left[\\begin{matrix}- \\frac{c_{1}}{c_{0}} & 1 & 0 & 0 & 0 & 0 & 0 & 0\\\\- \\frac{c_{2}}{c_{0}} & 0 & 1 & 0 & 0 & 0 & 0 & 0\\\\- \\frac{c_{3}}{c_{0}} & 0 & 0 & 1 & 0 & 0 & 0 & 0\\\\- \\frac{c_{4}}{c_{0}} & 0 & 0 & 0 & 1 & 0 & 0 & 0\\\\- \\frac{c_{5}}{c_{0}} & 0 & 0 & 0 & 0 & 1 & 0 & 0\\\\- \\frac{c_{6}}{c_{0}} & 0 & 0 & 0 & 0 & 0 & 1 & 0\\\\- \\frac{c_{7}}{c_{0}} & 0 & 0 & 0 & 0 & 0 & 0 & 1\\\\- \\frac{1}{c_{0}} & 0 & 0 & 0 & 0 & 0 & 0 & 0\\end{matrix}\\right]$"
      ],
      "text/plain": [
       "Matrix([\n",
       "[-c_1/c_0, 1, 0, 0, 0, 0, 0, 0],\n",
       "[-c_2/c_0, 0, 1, 0, 0, 0, 0, 0],\n",
       "[-c_3/c_0, 0, 0, 1, 0, 0, 0, 0],\n",
       "[-c_4/c_0, 0, 0, 0, 1, 0, 0, 0],\n",
       "[-c_5/c_0, 0, 0, 0, 0, 1, 0, 0],\n",
       "[-c_6/c_0, 0, 0, 0, 0, 0, 1, 0],\n",
       "[-c_7/c_0, 0, 0, 0, 0, 0, 0, 1],\n",
       "[  -1/c_0, 0, 0, 0, 0, 0, 0, 0]])"
      ]
     },
     "execution_count": 17,
     "metadata": {},
     "output_type": "execute_result"
    }
   ],
   "source": [
    "C.inv()"
   ]
  },
  {
   "cell_type": "code",
   "execution_count": null,
   "metadata": {},
   "outputs": [],
   "source": []
  }
 ],
 "metadata": {
  "kernelspec": {
   "display_name": "Python 3",
   "language": "python",
   "name": "python3"
  },
  "language_info": {
   "codemirror_mode": {
    "name": "ipython",
    "version": 3
   },
   "file_extension": ".py",
   "mimetype": "text/x-python",
   "name": "python",
   "nbconvert_exporter": "python",
   "pygments_lexer": "ipython3",
   "version": "3.7.6"
  }
 },
 "nbformat": 4,
 "nbformat_minor": 4
}

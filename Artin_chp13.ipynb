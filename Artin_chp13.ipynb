{
 "cells": [
  {
   "cell_type": "code",
   "execution_count": null,
   "metadata": {},
   "outputs": [],
   "source": []
  },
  {
   "cell_type": "markdown",
   "metadata": {},
   "source": [
    "**ex 13.1.3**   \n",
    "let $R$ be ring which is an integral domain that contains $\\mathbb F$ as a sub-ring and may be represented as an $n$ dimensional vector space over $\\mathbb F$.  (Note: this is an actual vector space over a field not an arbitrary module.)  Prove that $R$ is a field.  \n",
    "\n",
    "*remark*  \n",
    "This should remind us of ex 10.6.2 which was to prove that an integral domain with finitely many elements is a field.  Here we have an integral domain that may have infinitely many elements, but it is still finite in some 'nice' sense -- in particular it can be interpreted as a finite dimensional vector space.  \n",
    "\n",
    "*proof:*   \n",
    "The idea is to prove that every $r\\in R-\\big\\{0\\big\\}$ has an inverse  \n",
    "\n",
    "fix $r\\in R-\\big\\{0\\big\\}$ and selecting an arbitrary element in $v\\in R$, we have  \n",
    "\n",
    "$r\\cdot v = v'$   \n",
    "$r\\cdot\\big( v + v'\\big) = r\\cdot v + r\\cdot v'$  and  \n",
    "$r\\cdot\\big( \\alpha v\\big) =\\alpha \\cdot \\big(r\\cdot v\\big)$   \n",
    "\n",
    "so $r$ is a linear operator on this vector space $V$.  Since the domain is integral, we have  \n",
    "\n",
    "$\\dim\\ker\\big(r\\big) = 0$  \n",
    "and by rank nullity,  \n",
    "$\\dim\\text{im}\\big(r\\big) = n$  \n",
    "\n",
    "hence $r$ is both injective and surjective and thus invertible  \n",
    "\n",
    "*alternatively*  \n",
    "for a more granular approach, define a basis for this finite dim vector space    \n",
    "$\\mathbf B:=\\bigg[\\begin{array}{c|c|c|c} v_1 & v_2 &\\cdots & v_{d} \\end{array}\\bigg]$  \n",
    "we then model this forward and run it backward to solve for the inverse of arbitrary $r\\in R-\\big\\{0\\big\\}$  \n",
    "\n",
    "first:  \n",
    "For arbitrary $v\\in \\mathbb R$ which is a vector space $V$ over $\\mathbb F$  we have   \n",
    "$v = \\mathbf {Bx}$   and  \n",
    "$\\mathbf B\\mathbf y = v' = r\\cdot v = r\\cdot \\big(\\mathbf B\\mathbf x\\big)= \\big(r\\cdot \\mathbf B\\big) \\mathbf x = \\big(\\mathbf B A\\big) \\mathbf x =\\mathbf B  \\big(A \\mathbf x\\big)$   \n",
    "since the basis uniquely characterizes all elements in the vector space, the problem reduces to the familiar  \n",
    "$A\\mathbf x = \\mathbf y$   \n",
    "\n",
    "second:  \n",
    "running this backwards,  \n",
    "we specialize to have $v':=1 \\in R$  (though any unit in R will do) thus  \n",
    "$1 = \\mathbf B\\mathbf y$ -- so $\\mathbf y$ is the coordinate representation of this unit with respect to our basis.  The question becomes can we solve  \n",
    "$A\\mathbf x = \\mathbf y$   \n",
    "and of course the answer is yes, because $A$ has a trivial kernel (by integrality of our ring and uniqueness of basis representation, we know $r\\cdot v = 0$ *iff* $v=0$ which is equivalent to $A\\mathbf x = \\mathbf 0$ *iff* $\\mathbf x =0$ ) \n",
    "\n",
    "so $A$ has non-zero determinant (which takes on a value in $\\mathbb F$ and hence is a unit)  and   \n",
    "$\\mathbf x = A^{-1}\\mathbf y$   \n",
    "which is unique.   \n",
    "\n",
    "Working backwards, we have   \n",
    "$r \\cdot v = r\\cdot \\mathbf B\\mathbf x = \\big(r\\cdot \\mathbf B\\big)\\big(A^{-1}\\mathbf y\\big)= \\big(\\mathbf BA\\big)A^{-1}\\mathbf y =\\mathbf B\\mathbf y = 1$   \n",
    "hence we have found the multiplicative inverse of $r$ and $r$ is invertible.  But the choice of $r\\in R-\\big\\{0\\big\\}$ was arbitrary so all non-zero elements in $R$ are invertible and $R$ is a field.   \n",
    "\n",
    "\n",
    "\n",
    "\n",
    "\n"
   ]
  },
  {
   "cell_type": "code",
   "execution_count": null,
   "metadata": {},
   "outputs": [],
   "source": []
  },
  {
   "cell_type": "code",
   "execution_count": null,
   "metadata": {},
   "outputs": [],
   "source": []
  }
 ],
 "metadata": {
  "kernelspec": {
   "display_name": "Python 3",
   "language": "python",
   "name": "python3"
  },
  "language_info": {
   "codemirror_mode": {
    "name": "ipython",
    "version": 3
   },
   "file_extension": ".py",
   "mimetype": "text/x-python",
   "name": "python",
   "nbconvert_exporter": "python",
   "pygments_lexer": "ipython3",
   "version": "3.7.6"
  }
 },
 "nbformat": 4,
 "nbformat_minor": 4
}

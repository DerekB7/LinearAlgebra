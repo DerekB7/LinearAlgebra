{
 "cells": [
  {
   "cell_type": "markdown",
   "metadata": {},
   "source": [
    "These notes are mostly focused on the abstract symmetry and counting formula sections of chapter 5  "
   ]
  },
  {
   "cell_type": "markdown",
   "metadata": {},
   "source": [
    "also see the 3 part-er on Gowers' Blog"
   ]
  },
  {
   "cell_type": "markdown",
   "metadata": {},
   "source": [
    "so we define a group operation which allows $g \\in G$ to operate on elements of a set $S$, and in particular we require this operation to respect the identity and the associativity, so  \n",
    "\n",
    "1.)  $e\\cdot s = s$  and  \n",
    "2.) $(gg')\\cdot s = g(g'\\cdot s)$  \n",
    "\n"
   ]
  },
  {
   "cell_type": "markdown",
   "metadata": {},
   "source": [
    "This naturally gives us two different ways to view the group operation.  \n",
    "\n",
    "(A) we can fix some $g\\in G$ and consider what happens when we apply it to different elements in $S$  \n",
    "(B) we can fix some $s \\in S$ and consider how different elements in $G$ relate to it (orbit)  \n",
    "\n",
    "for (A):  \n",
    "if we fix $g \\in G$ then the image of $s$ under $g$ is injective and surjective, because  \n",
    "$g\\cdot s = g\\cdot s'\\longrightarrow g^{-1}g\\cdot s = g^{-1}g\\cdot s'\\longrightarrow s = s'$  \n",
    "For finite sets this means that fixed $g$ acts as a permutation.  (The notion of permutation can be extended beyond finite sets though your author finds it a bit awkward to talk about infinite permutations.)    \n",
    "\n",
    "for (B)  \n",
    "if we fix $s \\in S$ and see some $g\\in G$ has  \n",
    "\n",
    "$g\\cdot s =  s'$  \n",
    "there is no reason per se that we cannot find some $g'\\neq g$ that satisfies this as well.  I.e. we certainly could have  \n",
    "$s = g\\cdot s = g'\\cdot s$   \n",
    "This implies  \n",
    "$s = e\\cdot s = \\big(g^{-1} g'\\big)\\cdot s$   \n",
    "\n",
    "so $s$ is of course a fixed point for the identity element $e$ but $s$ is also a fixed point of $\\big(g^{-1} g'\\big)$ where $\\big(g^{-1} g'\\big) \\neq e$.  We can collect all elements of $G$ that have $s$ as a fixed point and get  \n",
    "$G_s = \\big\\{g \\in G, gs = s\\big\\}$   \n",
    "This is called the *stabilizer* of an element $s \\in S$  \n",
    "\n",
    "note that $G_s$ is a subgroup -- it has the identity, respects our binary operation, and if $g_1 \\cdot s = s$ then   \n",
    "$g_1^{-1} \\cdot s = g_1^{-1} \\big( g \\cdot s\\big) = \\big(g_1^{-1} g\\big) s = e \\cdot s = s$  \n",
    "and so includes the inverse as well  \n",
    "\n",
    "After considering fixed points we may try to extend this a bit.  Suppose we fix $s$ and ask what $s' \\in S$ is 'reachable' from $s$ under the image of different elements of $G$.  I.e. consider  \n",
    "\n",
    "$O_s = \\big\\{s' \\in S, gs= s' \\text{ for some } g \\in G\\}$   \n",
    "\n",
    "\n",
    "\n"
   ]
  },
  {
   "cell_type": "markdown",
   "metadata": {},
   "source": [
    "**The counting formula**  \n",
    "specializing to finite group $G$ and, for now, some finite set $S$ where we have a group action.  \n",
    "\n",
    "suppose we select some $s$ and know $\\big \\vert G_s \\big \\vert =k$  \n",
    "we assign \n",
    "$g_\\text{stabilizer 0}:= e$  \n",
    "and make a table with arbitrary labeling for the other (distinct) stabilizers  \n",
    "\n",
    "$\\left[\\begin{matrix}e \\cdot s & g_\\text{stabilizer 1}\\cdot s &\\cdots & g_\\text{stabilizer k-1} \\cdot s\\\\ g_1\\cdot s & * & \\cdots & *\\\\ \\vdots  & \\vdots & \\vdots & \\vdots \\\\g_{m-1}\\cdot s & * &\\dots & *\\end{matrix}\\right]$  \n",
    "where * denotes, entries that we aren't concerned with (for now)    \n",
    "\n",
    "By design, the first column has all distinct items of $G\\cdot s$ (i.e. all distinct image values of $s$ under all $g \\in G$).  This is *precisely* the orbit given by $G_s$.\n",
    "\n",
    "but the table must look like   \n",
    "\n",
    "$\\left[\\begin{matrix}s & s &\\cdots & s\\\\ s_1 & s_1 & \\cdots & s_1 \\\\ \\vdots  & \\vdots & \\vdots & \\vdots \\\\s_{m-1} & s_{m-1} &\\dots & s_{m-1}\\end{matrix}\\right]$  \n",
    "\n",
    "because  \n",
    "$g_1 s = s_1\\longrightarrow \\big(g_\\text{stabilizer 2} g_1\\big) s = s_1$.  So each column $j$ associated with stabilizer $j$ looks exactly the same as column $1$ \n",
    "\n",
    "now the way we compose the first column i.e. what we select for $g_1 (e\\cdot s) = g_1 \\cdot s = s_1$ is somewhat arbitrary because we could 'slip in' any stabilizer instead for $e$, but this in essence tells us that all the stabilizers are in the kernel of this group action    \n",
    "\n",
    "and since $G_s$ is a subgroup, any $g_j \\not \\in G_s$ allows us to form a coset \n",
    "\n",
    "$g_j \\cdot G_s$  \n",
    "\n",
    "where as before we recall that cosets form a partition. Ignoring irrelevant nits about orderings in sets, we can re-visit our table and see it is  \n",
    "\n",
    "$\\left[\\begin{matrix}e\\cdot G_s \\cdot s\\\\ g_1\\cdot G_s \\cdot s\\\\ \\vdots \\\\g_{m-1}\\cdot G_s \\cdot s \\end{matrix}\\right]$  \n",
    "\n",
    "or perhaps  \n",
    "$\\left[\\begin{matrix}e\\cdot G_s \\\\ g_1\\cdot G_s \\\\ \\vdots \\\\g_{m-1}\\cdot G_s \\ \\end{matrix}\\right]\\cdot s$  \n",
    "\n",
    "which would have us view $s$ as merely a device for reinterpretting $G$ in terms of $G_s$ and $O_s$  \n",
    "\n",
    "the table has dimensions \n",
    "\n",
    "$k \\cdot m = \\big \\vert G_s\\big \\vert \\cdot \\big \\vert O_s\\big \\vert$   \n",
    "but  \n",
    "$\\big \\vert G_s\\big \\vert \\cdot \\big \\vert O_s\\big \\vert = \\big \\vert G\\big \\vert$  \n",
    "\n",
    "because every $g\\in G$ is in one of those cosets i.e. this is the counting formua / Lagrange Theorem from page 58 in Chapter 2.  \n",
    "\n",
    "by analogy with those results it becomes very natural to consider  \n",
    "\n",
    "$\\big \\vert O_s\\big \\vert = \\big \\vert G:G_s\\big \\vert$  \n",
    "where the RHS is referred to as the index of the stabilizer / the number of cosets associated with subgroup $G_s$  \n",
    "\n"
   ]
  },
  {
   "cell_type": "markdown",
   "metadata": {},
   "source": [
    "The more elementary formula mentioned in (7.3) at the bottom of page 180 is  \n",
    "\n",
    "$\\big \\vert S \\big \\vert = \\big \\vert O_1 \\big \\vert + \\big \\vert O_2 \\big \\vert +... +\\big \\vert O_r \\big \\vert$  \n",
    "\n",
    "This is again a partitioning argument on a finite set.  \n",
    "\n",
    "select some $s \\in S$ and assign \n",
    "$O_1$ to be the orbit / all points 'reachable' from $s$ under the image of G.  \n",
    "Now remove all those points from $S$ and select $s^{(2)}$ from what remains (if only the empty set remains, we may stop), i.e.  \n",
    "$s^{(2)} \\in S -\\{O_1\\}$  \n",
    "and call this $O_2$  \n",
    "\n",
    "note that $O_2 \\cap O_1 = \\{\\}$  \n",
    "if this wasn't the case, i.e. if there was a single item in common, then using invertibility of elements in $G$ we would have  \n",
    "\n",
    "$gs = s_1 = g' s^{(2)}\\longrightarrow (g')^{-1}gs = (g')^{-1} s_1 =  s^{(2)}$  \n",
    "which implies $s^{(2)} \\in O_1$ which is a contradiction.  \n",
    "\n",
    "We continue this process onward.  While each $O_j$ need not have the same cardinality, each one does have positive cardinality and $S$ is a finite set, so this process does terminate, eventually.  \n",
    "\n"
   ]
  },
  {
   "cell_type": "code",
   "execution_count": null,
   "metadata": {},
   "outputs": [],
   "source": []
  },
  {
   "cell_type": "markdown",
   "metadata": {},
   "source": [
    "**ex 5.5.8**  \n",
    "\n",
    "Let $G = GL_n(\\mathbb F)$  and let it operate on the set $S = \\mathbb F^n$ by left multiplication  \n",
    "(the official problem selects $\\mathbb F := \\mathbb R$ this isn't really needed in the problem)  \n",
    "\n",
    "(a) describe the decomposition of $S$ into orbits for this operation   \n",
    "The orbits are  \n",
    "\n",
    "$O_1 = \\{\\mathbf 0\\}$  \n",
    "since $A \\in G$ is nonsingular, the zero vector is not reachable from any other vector \n",
    "\n",
    "$O_2 = S - \\{\\mathbf 0\\}$  \n",
    "\n",
    "for any $s, s' \\in S$ and $s \\neq \\mathbf 0 \\neq s'$  \n",
    "*proof*  \n",
    "\n",
    "first create invertible matrix $P$ (recall basis creation algorithm from chp 3)  \n",
    "\n",
    "$P: =\\bigg[\\begin{array}{c|c|c|c}\n",
    "s & \\mathbf p_2 &\\cdots & \\mathbf p_{n}\n",
    "\\end{array}\\bigg]$  \n",
    "\n",
    "and consider another basis created with $s'$ as the first vector     \n",
    "$P' =\\bigg[\\begin{array}{c|c|c|c}\n",
    "s' & \\mathbf p_2' &\\cdots & \\mathbf p_{n}'\n",
    "\\end{array}\\bigg]$  \n",
    "\n",
    "then  \n",
    "$P^{-1} s = \\mathbf e_1$  \n",
    "so  \n",
    "$A\\cdot s = \\big(P'P^{-1}\\big)\\cdot s = P'\\mathbf e_1 = s'$  \n",
    "i.e. select  \n",
    "$A: = P'P^{-1}$   \n",
    "\n",
    "\n",
    "(b) what is the stabilizer of $\\mathbf e_1$ (1st standard basis vector)   \n",
    "$G_S = \\text{all matrices with the first column given by }\\mathbf e_1$   \n",
    "obviously this includes the identity matrix, but it includes *many* other matrices  "
   ]
  },
  {
   "cell_type": "code",
   "execution_count": null,
   "metadata": {},
   "outputs": [],
   "source": []
  },
  {
   "cell_type": "code",
   "execution_count": null,
   "metadata": {},
   "outputs": [],
   "source": []
  },
  {
   "cell_type": "code",
   "execution_count": null,
   "metadata": {},
   "outputs": [],
   "source": []
  },
  {
   "cell_type": "code",
   "execution_count": null,
   "metadata": {},
   "outputs": [],
   "source": []
  }
 ],
 "metadata": {
  "kernelspec": {
   "display_name": "Python 3",
   "language": "python",
   "name": "python3"
  },
  "language_info": {
   "codemirror_mode": {
    "name": "ipython",
    "version": 3
   },
   "file_extension": ".py",
   "mimetype": "text/x-python",
   "name": "python",
   "nbconvert_exporter": "python",
   "pygments_lexer": "ipython3",
   "version": "3.7.3"
  }
 },
 "nbformat": 4,
 "nbformat_minor": 2
}

{
 "cells": [
  {
   "cell_type": "code",
   "execution_count": 1,
   "metadata": {
    "collapsed": true
   },
   "outputs": [],
   "source": [
    "# running in python 3.5\n",
    "import numpy as np\n",
    "import numba"
   ]
  },
  {
   "cell_type": "code",
   "execution_count": 2,
   "metadata": {
    "collapsed": true
   },
   "outputs": [],
   "source": [
    "\n",
    "@numba.jit(nopython = True)\n",
    "def get_char_pol(A):\n",
    "    \"\"\"\n",
    "    This uses Newton's identities to get the characteristic polynomial\n",
    "    \"\"\"\n",
    "    assert(A.shape[0] == A.shape[1]) # it must be a square matrix\n",
    "    n = A.shape[0] \n",
    "    charpoly_array = np.zeros(n + 1)\n",
    "    traces_array = np.zeros(n + 1)\n",
    "    \n",
    "    traces_array[0] = n\n",
    "    working_matrix = A.copy()\n",
    "    \n",
    "    traces_array[1] = np.trace(working_matrix)\n",
    "    tracer_idx = 1\n",
    "    # note trace (A^1) will be in the position 1...    \n",
    "    # a_0, a_1, a_2, ..., a_n\n",
    "    charpoly_array[n] = 1\n",
    "    \n",
    "    for r in range(1, n):\n",
    "        # through n-1, then separate handling at the end for a_0\n",
    "        a_idx = n - r\n",
    "        running_sum = 0        \n",
    "        \n",
    "        working_matrix = working_matrix @ A\n",
    "        tracer_idx += 1\n",
    "        traces_array[tracer_idx] = np.trace(working_matrix)\n",
    "        for j in range(1, r + 1):\n",
    "            running_sum += charpoly_array[a_idx + j] * traces_array[j]\n",
    "            # this itself can go in a memo I think... simplisitically with np.zeros and such... \n",
    "            # slightly more complicated with a buffer / pivot to which we don't go past\n",
    "        charpoly_array[a_idx] += - running_sum / r\n",
    "    \n",
    "    another_running_sum = 0\n",
    "    for i in range(1, n + 1):\n",
    "        another_running_sum += charpoly_array[i] * traces_array[i]\n",
    "    charpoly_array[0] = -1/n * another_running_sum \n",
    "    return charpoly_array\n",
    "        \n",
    "        \n",
    "        \n",
    "    \n"
   ]
  },
  {
   "cell_type": "code",
   "execution_count": 3,
   "metadata": {
    "collapsed": false
   },
   "outputs": [
    {
     "data": {
      "text/plain": [
       "array([ -2.30533239e+25,  -6.90016976e+23,  -9.23285658e+20,\n",
       "         3.38543128e+17,  -4.27940077e+16,  -8.30442153e+13,\n",
       "         6.70472600e+10,  -7.68550000e+07,   4.54600000e+05,\n",
       "         2.32000000e+03,   1.00000000e+00])"
      ]
     },
     "execution_count": 3,
     "metadata": {},
     "output_type": "execute_result"
    }
   ],
   "source": [
    "m = 10\n",
    "# A = np.random.rand(m*m)\n",
    "A = np.random.randint(-50, 10,m*m)\n",
    "\n",
    "A = np.float64(np.reshape(A, (m,m))) * 10\n",
    "# numba gets upset at typing issues if A is not in floats...\n",
    "\n",
    "result = get_char_pol(A)\n",
    "result\n",
    "\n",
    "# in general the idea is elegant, though there seems to be floating point issues, with say, n = 20"
   ]
  },
  {
   "cell_type": "code",
   "execution_count": 4,
   "metadata": {
    "collapsed": false
   },
   "outputs": [
    {
     "data": {
      "text/plain": [
       "array([ -2.30533239e+25,  -6.90016976e+23,  -9.23285658e+20,\n",
       "         3.38543128e+17,  -4.27940077e+16,  -8.30442153e+13,\n",
       "         6.70472600e+10,  -7.68550000e+07,   4.54600000e+05,\n",
       "         2.32000000e+03,   1.00000000e+00])"
      ]
     },
     "execution_count": 4,
     "metadata": {},
     "output_type": "execute_result"
    }
   ],
   "source": [
    "eigvals = np.linalg.eigvals(A)\n",
    "polynomials = np.poly(eigvals)\n",
    "# c[0] * x**(N) + c[1] * x**(N-1) + ... + c[N-1] * x + c[N]\n",
    "# note that these show up in reversed order...\n",
    "reversed_polynomial_array = polynomials[::-1]\n",
    "reversed_polynomial_array\n"
   ]
  },
  {
   "cell_type": "code",
   "execution_count": 5,
   "metadata": {
    "collapsed": false
   },
   "outputs": [
    {
     "data": {
      "text/plain": [
       "-2.3053323881371129e+25"
      ]
     },
     "execution_count": 5,
     "metadata": {},
     "output_type": "execute_result"
    }
   ],
   "source": [
    "np.linalg.det(A)"
   ]
  }
 ],
 "metadata": {
  "kernelspec": {
   "display_name": "Python [py35]",
   "language": "python",
   "name": "Python [py35]"
  },
  "language_info": {
   "codemirror_mode": {
    "name": "ipython",
    "version": 3
   },
   "file_extension": ".py",
   "mimetype": "text/x-python",
   "name": "python",
   "nbconvert_exporter": "python",
   "pygments_lexer": "ipython3",
   "version": "3.5.2"
  }
 },
 "nbformat": 4,
 "nbformat_minor": 0
}

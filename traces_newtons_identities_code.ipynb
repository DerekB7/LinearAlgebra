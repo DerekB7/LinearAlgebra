{
 "cells": [
  {
   "cell_type": "code",
   "execution_count": 1,
   "metadata": {
    "collapsed": true
   },
   "outputs": [],
   "source": [
    "# running in python 3.5\n",
    "import numpy as np\n",
    "import numba"
   ]
  },
  {
   "cell_type": "code",
   "execution_count": 2,
   "metadata": {
    "collapsed": true
   },
   "outputs": [],
   "source": [
    "\n",
    "@numba.jit(nopython = True)\n",
    "def get_char_pol(A):\n",
    "    \"\"\"\n",
    "    This uses Newton's identities to get the characteristic polynomial\n",
    "    This is a straightfoward, implementation of the formula \n",
    "    I derived for Newton's Identities, that used two different\n",
    "    forms of differentiation, and equated terms in the underlying \n",
    "    power series of the differentiated, factored polynomial\n",
    "    \"\"\"\n",
    "    assert(A.shape[0] == A.shape[1]) # it must be a square matrix\n",
    "    n = A.shape[0] \n",
    "    charpoly_array = np.zeros(n + 1)\n",
    "    traces_array = np.zeros(n + 1)\n",
    "    \n",
    "    traces_array[0] = n\n",
    "    working_matrix = A.copy()\n",
    "    \n",
    "    traces_array[1] = np.trace(working_matrix)\n",
    "    tracer_idx = 1\n",
    "    # note trace (A^1) will be in the position 1...    \n",
    "    # a_0, a_1, a_2, ..., a_n\n",
    "    charpoly_array[n] = 1\n",
    "    \n",
    "    for r in range(1, n):\n",
    "        # through n-1, then separate handling at the end for a_0\n",
    "        a_idx = n - r\n",
    "        running_sum = 0        \n",
    "        \n",
    "        working_matrix = working_matrix @ A\n",
    "        tracer_idx += 1\n",
    "        traces_array[tracer_idx] = np.trace(working_matrix)\n",
    "        for j in range(1, r + 1):\n",
    "            running_sum += charpoly_array[a_idx + j] * traces_array[j]\n",
    "            # this itself can go in a memo I think... simplisitically with np.zeros and such... \n",
    "            # slightly more complicated with a buffer / pivot to which we don't go past\n",
    "        charpoly_array[a_idx] += - running_sum / r\n",
    "    \n",
    "    another_running_sum = 0\n",
    "    for i in range(1, n + 1):\n",
    "        another_running_sum += charpoly_array[i] * traces_array[i]\n",
    "    charpoly_array[0] = -1/n * another_running_sum \n",
    "    return charpoly_array\n"
   ]
  },
  {
   "cell_type": "code",
   "execution_count": 3,
   "metadata": {
    "collapsed": true
   },
   "outputs": [],
   "source": [
    "@numba.jit(nopython = True)\n",
    "def textbook_get_char_pol(A):\n",
    "    \"\"\"\n",
    "    This uses Newton's identities to get the characteristic polynomial\n",
    "    specifically, this is called:   \n",
    "\n",
    "    Leverrier–Souriau–Frame Algorithm, and it is problem 7.1.24 \n",
    "    in Meyer's \"\"Matrix Analysis and Applied Linear Algebra\" \n",
    "    \"\"\"\n",
    "    assert(A.shape[0] == A.shape[1]) # it must be a square matrix\n",
    "    n = A.shape[0] \n",
    "    charpoly_array = np.zeros(n + 1)\n",
    "    \n",
    "    traces_array = np.zeros(n + 1)\n",
    "    charpoly_array[0] = 1\n",
    "    # note the ordering in this algorithms is in reverse from the above, \n",
    "    # though a reversed array is returned at the end\n",
    "    \n",
    "    B = np.identity(n)\n",
    "    I = np.identity(n)\n",
    "        \n",
    "    for k in range(1, n + 1):\n",
    "        AB_k_minus_one = A @ B\n",
    "        \n",
    "        the_scalar = np.trace(AB_k_minus_one) / k\n",
    "        charpoly_array[k] = - the_scalar    \n",
    "\n",
    "#         B = -(np.trace(AB_k_minus_one) / k) * I + A @ B\n",
    "        # either use the above line, or the below 3 lines               \n",
    "        B = AB_k_minus_one\n",
    "        for i in range(n):\n",
    "            B[i,i] += -the_scalar       \n",
    "    \n",
    "    # the below returns the reverse of the characteristic polynomial array, so as to conform with ordering:\n",
    "    # a_0, a_1, a_2, ..., a_n\n",
    "    return charpoly_array[::-1]\n",
    "        "
   ]
  },
  {
   "cell_type": "code",
   "execution_count": null,
   "metadata": {
    "collapsed": true
   },
   "outputs": [],
   "source": []
  },
  {
   "cell_type": "code",
   "execution_count": 4,
   "metadata": {
    "collapsed": false
   },
   "outputs": [
    {
     "name": "stdout",
     "output_type": "stream",
     "text": [
      "[  1.30730011e+08   1.40619079e+07   9.55025379e+06  -8.49162185e+06\n",
      "   4.21743991e+05  -2.21878738e+05   2.42152638e+04   3.01924722e+03\n",
      "   2.52416543e+02  -5.72176247e+01   1.00000000e+00] \n",
      "\n",
      "\n",
      "[  1.30730011e+08   1.40619079e+07   9.55025379e+06  -8.49162185e+06\n",
      "   4.21743991e+05  -2.21878738e+05   2.42152638e+04   3.01924722e+03\n",
      "   2.52416543e+02  -5.72176247e+01   1.00000000e+00]\n"
     ]
    }
   ],
   "source": [
    "m = 10\n",
    "A = np.random.rand(m*m)\n",
    "# A = np.random.randint(-5, 10,m*m)\n",
    "\n",
    "A = np.float64(np.reshape(A, (m,m))) * 10\n",
    "# numba gets upset at typing issues if A is not in floats...\n",
    "\n",
    "result = get_char_pol(A)\n",
    "print(result,\"\\n\\n\")\n",
    "\n",
    "textbook_result = textbook_get_char_pol(A)\n",
    "print(textbook_result)\n",
    "\n",
    "# in general the idea is elegant, though there seems to be floating point stability issues, with say, n = 20"
   ]
  },
  {
   "cell_type": "code",
   "execution_count": 5,
   "metadata": {
    "collapsed": false
   },
   "outputs": [
    {
     "name": "stdout",
     "output_type": "stream",
     "text": [
      "[  1.30730011e+08   1.40619079e+07   9.55025379e+06  -8.49162185e+06\n",
      "   4.21743991e+05  -2.21878738e+05   2.42152638e+04   3.01924722e+03\n",
      "   2.52416543e+02  -5.72176247e+01   1.00000000e+00]\n"
     ]
    }
   ],
   "source": [
    "eigvals = np.linalg.eigvals(A)\n",
    "polynomials = np.poly(eigvals)\n",
    "# c[0] * x**(N) + c[1] * x**(N-1) + ... + c[N-1] * x + c[N]\n",
    "# note that these show up in reversed order...\n",
    "reversed_polynomial_array = polynomials[::-1]\n",
    "print(reversed_polynomial_array)\n"
   ]
  }
 ],
 "metadata": {
  "kernelspec": {
   "display_name": "Python [py35]",
   "language": "python",
   "name": "Python [py35]"
  },
  "language_info": {
   "codemirror_mode": {
    "name": "ipython",
    "version": 3
   },
   "file_extension": ".py",
   "mimetype": "text/x-python",
   "name": "python",
   "nbconvert_exporter": "python",
   "pygments_lexer": "ipython3",
   "version": "3.5.2"
  }
 },
 "nbformat": 4,
 "nbformat_minor": 0
}

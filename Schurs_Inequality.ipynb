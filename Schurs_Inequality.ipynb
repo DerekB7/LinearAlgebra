{
 "cells": [
  {
   "cell_type": "markdown",
   "metadata": {},
   "source": [
    "# Schur's Inequality"
   ]
  },
  {
   "cell_type": "code",
   "execution_count": null,
   "metadata": {
    "collapsed": true
   },
   "outputs": [],
   "source": []
  },
  {
   "cell_type": "markdown",
   "metadata": {},
   "source": [
    "Schur's Inequality tells us that for any operator (i.e. square matrix) in a complex field (where reals are a special subset), i.e. $\\mathbf A \\in \\mathbb C^{n x n}$\n",
    "\n",
    "**Claim:**\n",
    "\n",
    "$\\big \\Vert \\mathbf A \\big \\Vert_F^{2} = trace\\big(\\mathbf A^H \\mathbf A\\big) \\geq \\Sigma_{i = 1}^{n} \\big \\vert \\lambda_i\\big \\vert ^2 \\geq \\big \\vert \\Sigma_{i = 1}^{n} \\lambda_i^2\\big \\vert = \\Big \\vert trace\\big(\\mathbf A \\mathbf A\\big) \\Big \\vert $\n",
    "\n",
    "note that  $\\Sigma_{i = 1}^{n} \\big \\vert \\lambda_i\\big \\vert ^2 \\geq \\big \\vert \\Sigma_{i = 1}^{n} \\lambda_i^2\\big \\vert$ was included at the end via the triangle inequality\n",
    "\n",
    "\n",
    "**Background:**\n",
    "\n",
    "We can collect all of the eigenvalues $\\big \\vert \\lambda_1 \\big \\vert \\geq \\big \\vert\\lambda_2 \\big \\vert\\geq \\big \\vert \n",
    "\\lambda_3 \\big \\vert \\geq ... \\geq \\big \\vert\\lambda_n \\big \\vert$ in the diagonal matrix $\\mathbf D$, and restate Schur's Inequality as:  \n",
    "\n",
    "\n",
    "$\\big \\vert \\big \\vert \\mathbf A \\big \\vert \\big \\vert_F^{2} \\geq  \\big \\vert \\big \\vert \\mathbf D \\big \\vert \\big \\vert_F^{2} = trace\\big(\\mathbf D^H \\mathbf D\\big)$ \n",
    "\n",
    "Note that by Schur Decomposition, we can write $\\mathbf A = \\mathbf {Q R Q}^H$  where $\\mathbf Q$ is unitary, and $\\mathbf R$ is upper triangular.  As a reminder, recall that the eigenvalues of an upper triangular matrix are on its diagonal, hence $\\mathbf R_{i,i} = \\lambda_i$.\n",
    "\n",
    "\n",
    "**Proof:**\n",
    "revisiting the inequality, we write this as:\n",
    "\n",
    "\n",
    "$\\big \\vert \\big \\vert \\mathbf A \\big \\vert \\big \\vert_F^{2} = trace\\big( \\big(\\mathbf {Q R Q}^H\\big)^H \\big( \\mathbf {Q R Q}^H \\big) \\big) = trace\\big(\\mathbf {Q R^H (Q}^H \\mathbf {Q) R Q}^H\\big) \\geq trace\\big(\\mathbf D^H \\mathbf D\\big)$\n",
    "\n",
    "\n",
    "$trace\\big(\\mathbf {Q R^H R Q}^H\\big) = trace\\big(\\mathbf{(Q}^H \\mathbf{Q) R^H R }\\big) \\geq trace\\big(\\mathbf D^H \\mathbf D\\big)$\n",
    "\n",
    "$trace\\big(\\mathbf{R}^H \\mathbf R \\big) \\geq trace\\big(\\mathbf D^H \\mathbf D\\big)$\n",
    "\n",
    "$trace\\big(\\mathbf{ R}^H \\mathbf R \\big) = \\big \\vert \\big \\vert \\mathbf R \\big \\vert \\big \\vert_F^{2} =  \\Big(\\sum_{k = 1}^{n} \\sum_{j \\neq k}  \\mathbf R^H_{k,j} \\mathbf R_{j,k}\\Big) + trace\\big(\\mathbf D^H \\mathbf D\\big) \\geq trace\\big(\\mathbf D^H \\mathbf D\\big)$\n",
    "\n",
    "\n",
    "- - - - -\n",
    "Alternatively, we may say:\n",
    "\n",
    "$\\big \\vert \\big \\vert \\mathbf A \\big \\vert \\big \\vert_F^{2} = \\big \\vert \\big \\vert \\mathbf R \\big \\vert \\big \\vert_F^{2} = \\big \\vert \\big \\vert \\big(\\mathbf R - \\mathbf D\\big) \\big \\vert \\big \\vert_F^{2}  + \\big \\vert \\big \\vert \\mathbf D \\big \\vert \\big \\vert_F^{2} \\geq \\big \\vert \\big \\vert \\mathbf D \\big \\vert \\big \\vert_F^{2}$\n",
    "\n",
    "with equality **iff**\n",
    "$\\big \\vert \\big \\vert \\big(\\mathbf R - \\mathbf D\\big) \\big \\vert \\big \\vert_F^{2} = 0$,\n",
    "which occurs **iff** $\\mathbf R - \\mathbf D = \\mathbf 0$, aka this occurs **iff** $\\mathbf R = \\mathbf D$.  Thus in the case where the Schur Inequality is an equality, we know that $\\mathbf A$ is diagonalizable with mutually orthonormal eigenvectors $\\mathbf A = \\mathbf {Q RQ}^H = \\mathbf {Q D Q}^H$.  Note that this does *not* make any claims as to whether or not the eigenvalues are real or complex.\n",
    "\n",
    "\n",
    "**Technical Note:** if the inequality is an equality, then we say that $\\mathbf A$ **is a normal matrix.**"
   ]
  },
  {
   "cell_type": "code",
   "execution_count": null,
   "metadata": {
    "collapsed": true
   },
   "outputs": [],
   "source": []
  },
  {
   "cell_type": "markdown",
   "metadata": {},
   "source": [
    "**Immediate Consequence:** \n",
    "\n",
    "For any unitary (or if in reals: Orthgonal) $n$ x $n$ matrix, $\\mathbf U$, which must have eigenvalues, $\\big \\vert \\lambda_k\\big \\vert = 1$, for $k = \\{1, 2, ...,n\\}$  (see middle part of \"Fun_with_Trace_and_Quadratic_Forms_CauchySchwartz_.ipynb\" under the heading *Thoughts on Unitary Matrices* for a proof of this, using quadratic forms / singular values, to upper and lower bound the eigenvalue magnitudes)\n",
    "\n",
    "Noting that $\\mathbf U^H \\mathbf U = \\mathbf I$, for any $n$ x $n$ unitary matrix and applying Schur's Inequality, we have:\n",
    "\n",
    "\n",
    "\n",
    "$\\big \\vert \\big \\vert \\mathbf U \\big \\vert \\big \\vert_F^{2} = trace\\big(\\mathbf U^H \\mathbf U\\big) = trace\\big(\\mathbf I \\big) = n \\geq \\big \\vert \\big \\vert \\mathbf D \\big \\vert \\big \\vert_F^{2} =  \\Sigma_{i = 1}^{n}  \\lambda_i^H \\lambda_i= \\Sigma_{i = 1}^{n} \\big \\vert \\lambda_i\\big \\vert ^2 =  \\Sigma_{i = 1}^{n} 1^2  =  \\Sigma_{i = 1}^{n} 1 = n  $\n",
    "\n",
    "hence: \n",
    "\n",
    "$n = \\big \\vert \\big \\vert \\mathbf U \\big \\vert \\big \\vert_F^{2} = \\big \\vert \\big \\vert \\mathbf D \\big \\vert \\big \\vert_F^{2}$ \n",
    "\n",
    "which tell us that, if we wanted, we could diagonalize $\\mathbf U$ with mutually orthonormal eigenvectors, $\\mathbf U = \\mathbf{QDQ}^H$.\n",
    "\n"
   ]
  },
  {
   "cell_type": "code",
   "execution_count": null,
   "metadata": {
    "collapsed": true
   },
   "outputs": [],
   "source": []
  },
  {
   "cell_type": "markdown",
   "metadata": {},
   "source": [
    "**More on Normal Matrices**\n",
    "\n",
    "Another way to define / test for a square matrix $\\mathbf A$ being normal, is the following:\n",
    "\n",
    "if \n",
    "\n",
    "$\\mathbf{AA}^H = \\mathbf A^H \\mathbf A$  \n",
    "\n",
    "Then: first we observe that $\\big(\\mathbf A^H \\mathbf A\\big)$ is a Hermitian matrix, and $\\big(\\mathbf{AA}^H\\big)$ is also a Hermitian matrix.  This means that each can be diagonalized with a unitary basis of eigenvectors.  \n",
    "\n",
    "Because $\\mathbf{AA}^H = \\mathbf A^H \\mathbf A$, we know that each side has the same eigenvalues.  And because each side is equivalent, we can select eigenvectors for each side to be equivalent.  \n",
    "\n",
    "Thus \n",
    "\n",
    "$\\mathbf U \\mathbf D \\mathbf U^H = \\mathbf{AA}^H = \\mathbf A^H \\mathbf A = \\mathbf V \\mathbf D \\mathbf V^H$\n",
    "\n",
    "where $\\mathbf U = \\mathbf V$.  \n",
    "\n",
    "However, recall that $\\mathbf V$ and $\\mathbf U$ are the right and left singular vectors for $\\mathbf A$.  \n",
    "\n",
    "\n",
    "Thus we can go through our process of doing singular value decomposition on $\\mathbf A$, *except we no longer enforce the constraint / defintion of all singular values being real and non-negative* -- instead we simply ensure that $\\mathbf \\Sigma ^H \\mathbf \\Sigma = \\mathbf D$, observing that it is always the case that $\\mathbf \\Sigma ^H \\mathbf \\Sigma =  \\mathbf \\Sigma \\mathbf \\Sigma^H$ and we get:\n",
    "\n",
    "$\\mathbf A = \\mathbf{U \\Sigma V}^H =  \\mathbf{U \\Sigma U}^H$\n",
    "\n",
    "and hence we have diagonalized $\\mathbf A$ with a unitary basis of eigenvectors.  Thus $\\mathbf A$ is normal.  \n",
    "\n",
    "*note: In case the reader is currious as to how we can be sure to select actual correct complex numbers for $\\mathbf \\Sigma$, since all we seem to know is the squared magnitude of each entry -- one simple approach is to use quadratic forms*  \n",
    "\n",
    "$\\mathbf U = \\bigg[\\begin{array}{c|c|c|c}\n",
    "\\mathbf u_1 & \\mathbf u_2 &\\cdots & \\mathbf u_n\\end{array}\\bigg] $\n",
    "\n",
    "where $\\mathbf x_k = \\mathbf u_k$, we see that the following result\n",
    "\n",
    "$\\mathbf x_k^H \\mathbf A \\mathbf x_k = \\sigma_k$\n",
    "\n",
    "which gives us the exact complex number associated with $\\sigma_k$\n"
   ]
  },
  {
   "cell_type": "code",
   "execution_count": null,
   "metadata": {
    "collapsed": true
   },
   "outputs": [],
   "source": []
  }
 ],
 "metadata": {
  "kernelspec": {
   "display_name": "Python [py35]",
   "language": "python",
   "name": "Python [py35]"
  },
  "language_info": {
   "codemirror_mode": {
    "name": "ipython",
    "version": 3
   },
   "file_extension": ".py",
   "mimetype": "text/x-python",
   "name": "python",
   "nbconvert_exporter": "python",
   "pygments_lexer": "ipython3",
   "version": "3.5.2"
  }
 },
 "nbformat": 4,
 "nbformat_minor": 0
}

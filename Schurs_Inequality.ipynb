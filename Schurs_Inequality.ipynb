{
 "cells": [
  {
   "cell_type": "markdown",
   "metadata": {},
   "source": [
    "# Schur's Inequality"
   ]
  },
  {
   "cell_type": "code",
   "execution_count": null,
   "metadata": {
    "collapsed": true
   },
   "outputs": [],
   "source": []
  },
  {
   "cell_type": "markdown",
   "metadata": {},
   "source": [
    "Schur's Inequality tells us that for any operator (i.e. square matrix) in a complex field (where reals are a special subset), i.e. $\\mathbf A \\in \\mathbb C^{n x n}$\n",
    "\n",
    "**Claim:**\n",
    "\n",
    "$\\big \\Vert \\mathbf A \\big \\Vert_F^{2} = trace\\big(\\mathbf A^H \\mathbf A\\big) \\geq \\Sigma_{i = 1}^{n} \\big \\vert \\lambda_i\\big \\vert ^2 \\geq \\big \\vert \\Sigma_{i = 1}^{n} \\lambda_i^2\\big \\vert = \\Big \\vert trace\\big(\\mathbf A \\mathbf A\\big) \\Big \\vert $\n",
    "\n",
    "note that  $\\Sigma_{i = 1}^{n} \\big \\vert \\lambda_i\\big \\vert ^2 \\geq \\big \\vert \\Sigma_{i = 1}^{n} \\lambda_i^2\\big \\vert$ was included at the end via the triangle inequality\n",
    "\n",
    "\n",
    "**Background:**\n",
    "\n",
    "We can collect all of the eigenvalues $\\big \\vert \\lambda_1 \\big \\vert \\geq \\big \\vert\\lambda_2 \\big \\vert\\geq \\big \\vert \n",
    "\\lambda_3 \\big \\vert \\geq ... \\geq \\big \\vert\\lambda_n \\big \\vert$ in the diagonal matrix $\\mathbf D$, and restate Schur's Inequality as:  \n",
    "\n",
    "\n",
    "$\\big \\vert \\big \\vert \\mathbf A \\big \\vert \\big \\vert_F^{2} \\geq  \\big \\vert \\big \\vert \\mathbf D \\big \\vert \\big \\vert_F^{2} = trace\\big(\\mathbf D^H \\mathbf D\\big)$ \n",
    "\n",
    "Note that by Schur Decomposition, we can write $\\mathbf A = \\mathbf {Q R Q}^H$  where $\\mathbf Q$ is unitary, and $\\mathbf R$ is upper triangular.  As a reminder, recall that the eigenvalues of an upper triangular matrix are on its diagonal, hence $\\mathbf R_{i,i} = \\lambda_i$.\n",
    "\n",
    "\n",
    "**Proof:**\n",
    "revisiting the inequality, we write this as:\n",
    "\n",
    "\n",
    "$\\big \\vert \\big \\vert \\mathbf A \\big \\vert \\big \\vert_F^{2} = trace\\big( \\big(\\mathbf {Q R Q}^H\\big)^H \\big( \\mathbf {Q R Q}^H \\big) \\big) = trace\\big(\\mathbf {Q R^H (Q}^H \\mathbf {Q) R Q}^H\\big) \\geq trace\\big(\\mathbf D^H \\mathbf D\\big)$\n",
    "\n",
    "\n",
    "$trace\\big(\\mathbf {Q R^H R Q}^H\\big) = trace\\big(\\mathbf{(Q}^H \\mathbf{Q) R^H R }\\big) \\geq trace\\big(\\mathbf D^H \\mathbf D\\big)$\n",
    "\n",
    "$trace\\big(\\mathbf{R}^H \\mathbf R \\big) \\geq trace\\big(\\mathbf D^H \\mathbf D\\big)$\n",
    "\n",
    "$trace\\big(\\mathbf{ R}^H \\mathbf R \\big) = \\big \\vert \\big \\vert \\mathbf R \\big \\vert \\big \\vert_F^{2} =  \\Big(\\sum_{k = 1}^{n} \\sum_{j \\neq k}  \\mathbf R^H_{k,j} \\mathbf R_{j,k}\\Big) + trace\\big(\\mathbf D^H \\mathbf D\\big) \\geq trace\\big(\\mathbf D^H \\mathbf D\\big)$\n",
    "\n",
    "\n",
    "- - - - -\n",
    "Alternatively, we may say:\n",
    "\n",
    "$\\big \\vert \\big \\vert \\mathbf A \\big \\vert \\big \\vert_F^{2} = \\big \\vert \\big \\vert \\mathbf R \\big \\vert \\big \\vert_F^{2} = \\big \\vert \\big \\vert \\big(\\mathbf R - \\mathbf D\\big) \\big \\vert \\big \\vert_F^{2}  + \\big \\vert \\big \\vert \\mathbf D \\big \\vert \\big \\vert_F^{2} \\geq \\big \\vert \\big \\vert \\mathbf D \\big \\vert \\big \\vert_F^{2}$\n",
    "\n",
    "with equality **iff**\n",
    "$\\big \\vert \\big \\vert \\big(\\mathbf R - \\mathbf D\\big) \\big \\vert \\big \\vert_F^{2} = 0$,\n",
    "which occurs **iff** $\\mathbf R - \\mathbf D = \\mathbf 0$, aka this occurs **iff** $\\mathbf R = \\mathbf D$.  Thus in the case where the Schur Inequality is an equality, we know that $\\mathbf A$ is diagonalizable with mutually orthonormal eigenvectors $\\mathbf A = \\mathbf {Q RQ}^H = \\mathbf {Q D Q}^H$.  Note that this does *not* make any claims as to whether or not the eigenvalues are real or complex.\n",
    "\n",
    "\n",
    "**Technical Note:** if the inequality is an equality, then we say that $\\mathbf A$ **is a normal matrix.**"
   ]
  },
  {
   "cell_type": "code",
   "execution_count": null,
   "metadata": {
    "collapsed": true
   },
   "outputs": [],
   "source": []
  },
  {
   "cell_type": "markdown",
   "metadata": {},
   "source": [
    "**Immediate Consequence:** \n",
    "\n",
    "For any unitary (or if in reals: Orthgonal) $n$ x $n$ matrix, $\\mathbf U$, which must have eigenvalues, $\\big \\vert \\lambda_k\\big \\vert = 1$, for $k = \\{1, 2, ...,n\\}$  (see middle part of \"Fun_with_Trace_and_Quadratic_Forms_CauchySchwartz_.ipynb\" under the heading *Thoughts on Unitary Matrices* for a proof of this, using quadratic forms / singular values, to upper and lower bound the eigenvalue magnitudes)\n",
    "\n",
    "Noting that $\\mathbf U^H \\mathbf U = \\mathbf I$, for any $n$ x $n$ unitary matrix and applying Schur's Inequality, we have:\n",
    "\n",
    "\n",
    "\n",
    "$\\big \\vert \\big \\vert \\mathbf U \\big \\vert \\big \\vert_F^{2} = trace\\big(\\mathbf U^H \\mathbf U\\big) = trace\\big(\\mathbf I \\big) = n \\geq \\big \\vert \\big \\vert \\mathbf D \\big \\vert \\big \\vert_F^{2} =  \\Sigma_{i = 1}^{n}  \\lambda_i^H \\lambda_i= \\Sigma_{i = 1}^{n} \\big \\vert \\lambda_i\\big \\vert ^2 =  \\Sigma_{i = 1}^{n} 1^2  =  \\Sigma_{i = 1}^{n} 1 = n  $\n",
    "\n",
    "hence: \n",
    "\n",
    "$n = \\big \\vert \\big \\vert \\mathbf U \\big \\vert \\big \\vert_F^{2} = \\big \\vert \\big \\vert \\mathbf D \\big \\vert \\big \\vert_F^{2}$ \n",
    "\n",
    "which tell us that, if we wanted, we could diagonalize $\\mathbf U$ with mutually orthonormal eigenvectors, $\\mathbf U = \\mathbf{QDQ}^H$.\n",
    "\n",
    "\n",
    "*Link of SVD and Eigen decompositions for Normal Matrices* \n",
    "\n",
    "If we were going to do SVD on $\\mathbf U$, notice that the left and right singular vectors would be the same, except for an issue of rotations on complex plane. Starting with the above eigendecomposition:  \n",
    "\n",
    "$\\mathbf U = \\mathbf {Q  D Q}^H $\n",
    "\n",
    "now we make the substitution $\\mathbf D =\\mathbf{\\Lambda \\Sigma} = \\mathbf{\\Lambda \\mathbf I} = \\mathbf \\Lambda $\n",
    "\n",
    "That is we factor $\\mathbf D$ into two diagonal matrices -- $\\mathbf \\Sigma$ which must be real valued and non-negative, and hence has the magnitudes of all the values in $\\mathbf D$, and the remaining complex numbers / rotations / angles (i.e. information on the unit circle) in $\\mathbf D$ gets allocated to $\\mathbf \\Lambda$.  Note that since all singular values are equal to one in a unitary matrix, then $\\mathbf \\Sigma = \\mathbf I$, which can make the decomposition a bit pedantic.    \n",
    "\n",
    "So, we have $\\mathbf U =  \\mathbf {Q  D Q}^H =  \\mathbf{ Q \\Lambda} \\mathbf {\\Sigma Q }^H= \\big( \\mathbf{ Q \\Lambda}\\big)  \\mathbf {\\Sigma Q }^H = \\big( \\mathbf{ Q \\Lambda}\\big) \\mathbf I \\mathbf {Q }^H = \\big( \\mathbf{ Q \\Lambda}\\big)  \\mathbf {Q }^H $, which is to say that the left and right singular vectors are the same -- and in fact can be chosen to be the eigenvectors, if we relax the constraint that $\\mathbf \\Sigma$ has only real valued, non-negative entries.  "
   ]
  },
  {
   "cell_type": "code",
   "execution_count": null,
   "metadata": {
    "collapsed": true
   },
   "outputs": [],
   "source": []
  },
  {
   "cell_type": "markdown",
   "metadata": {},
   "source": [
    "**More on Normal Matrices**\n",
    "\n",
    "Another way to define / test for a **square matrix** $\\mathbf A$ being normal, is the following:\n",
    "\n",
    "if \n",
    "\n",
    "$\\mathbf{AA}^H = \\mathbf A^H \\mathbf A$  \n",
    "\n",
    "Then: first we observe that $\\big(\\mathbf A^H \\mathbf A\\big)$ is a Hermitian matrix, and $\\big(\\mathbf{AA}^H\\big)$ is also a Hermitian matrix.  This means that each can be diagonalized with a unitary basis of eigenvectors.  \n",
    "\n",
    "Because $\\mathbf{AA}^H = \\mathbf A^H \\mathbf A$, we know that each side has the same eigenvalues. (Side note: in general $\\mathbf{AB}$ and $\\mathbf B \\mathbf A$ must have the same non-zero eigenvalues, as proven in the Vandermonde Matrix writeup.)  Because each side is equivalent, we can select eigenvectors for each side to be equivalent.  \n",
    "\n",
    "Thus \n",
    "\n",
    "$\\mathbf U \\mathbf D \\mathbf U^H = \\mathbf{AA}^H = \\mathbf A^H \\mathbf A = \\mathbf V \\mathbf D \\mathbf V^H$\n",
    "\n",
    "where $\\mathbf U = \\mathbf V$.  \n",
    "\n",
    "However, recall that $\\mathbf V$ and $\\mathbf U$ are the right and left singular vectors for $\\mathbf A$.  \n",
    "\n",
    "\n",
    "Thus we can go through our process of doing singular value decomposition on $\\mathbf A$, *except we no longer enforce the constraint / defintion of all singular values being real and non-negative* -- instead we simply ensure that $\\mathbf \\Sigma ^H \\mathbf \\Sigma = \\mathbf D$, observing that it is always the case that $\\mathbf \\Sigma ^H \\mathbf \\Sigma =  \\mathbf \\Sigma \\mathbf \\Sigma^H$ and we get:\n",
    "\n",
    "$\\mathbf A = \\mathbf{U \\Sigma V}^H =  \\mathbf{U \\Sigma U}^H$\n",
    "\n",
    "and hence we have diagonalized $\\mathbf A$ with a unitary basis of eigenvectors.  Thus $\\mathbf A$ is normal.  \n",
    "\n",
    "*note: In case the reader is currious as to how we can be sure to select actual correct complex numbers for $\\mathbf \\Sigma$, since all we seem to know is the squared magnitude of each entry -- one simple approach is to use quadratic forms*  \n",
    "\n",
    "$\\mathbf U = \\bigg[\\begin{array}{c|c|c|c}\n",
    "\\mathbf u_1 & \\mathbf u_2 &\\cdots & \\mathbf u_n\\end{array}\\bigg] $\n",
    "\n",
    "where $\\mathbf x_k = \\mathbf u_k$, we see that the following result\n",
    "\n",
    "$\\mathbf x_k^H \\mathbf A \\mathbf x_k = \\sigma_k$\n",
    "\n",
    "which gives us the exact complex number associated with $\\sigma_k$\n"
   ]
  },
  {
   "cell_type": "markdown",
   "metadata": {
    "collapsed": true
   },
   "source": [
    "**extension: ** skew Hermitian matrices are normal, and hence unitarily diagonalizable. \n",
    "\n",
    "A skew Hermitian matrix, is some $n$ x $n$ matrix, $\\mathbf A$, where $\\mathbf A = - \\mathbf A^H$ or equivalently $-\\mathbf A =  \\mathbf A^H$.  Note that the definition and implications are the same in the real case of skew symmetric, except it is worth noting that in the real case, the diagonal elements of $\\mathbf A$ must be zero (because the only real number that is equal to its negative conjugate is zero). \n",
    "\n",
    "if $\\mathbf A = - \\mathbf A^H$, then we can say that \n",
    "\n",
    "\n",
    "$\\mathbf {A A}^H = \\mathbf A \\big(\\mathbf A^H \\big)  = \\mathbf A \\big(-\\mathbf A \\big) = - \\mathbf A^2$  \n",
    "$\\mathbf A^H \\mathbf A = \\big(\\mathbf A^H \\big) \\mathbf A   = \\big(- \\mathbf A\\big) \\mathbf A  = - \\mathbf A^2$\n",
    "\n",
    "hence $\\mathbf {A A}^H = \\mathbf A^H \\mathbf A$  \n",
    "\n",
    "which means that a skew Hermitian matrix $\\mathbf A$ is normal.  \n",
    "\n",
    "It is perhaps worth noting that in either the real case or the complex case, we may do a Schur Decomposition on $\\mathbf A$, and see that $\\lambda_k = -\\lambda_k^H$ for $k = \\{1, 2, ..., n\\}$ , i.e. that each eigenvalue is equal to the negative of its own conjugate.  This means that each eigenvalue is either purely imaginary, or equal to zero.  One immediate consequence for the real case, is that for an $n$ x $n$ real, skew symmetric $\\mathbf A$, if $n$ is odd, we know that it is singular.  Why? For real matrices, complex eigenvalues come in conjugate pairs, which means that there must be (at least) one element that does not have a pair, and hence it cannot be imaginary and hence must be zero.  \n",
    "\n",
    "\n",
    "\n"
   ]
  },
  {
   "cell_type": "code",
   "execution_count": null,
   "metadata": {
    "collapsed": true
   },
   "outputs": [],
   "source": []
  }
 ],
 "metadata": {
  "kernelspec": {
   "display_name": "Python [py35]",
   "language": "python",
   "name": "Python [py35]"
  },
  "language_info": {
   "codemirror_mode": {
    "name": "ipython",
    "version": 3
   },
   "file_extension": ".py",
   "mimetype": "text/x-python",
   "name": "python",
   "nbconvert_exporter": "python",
   "pygments_lexer": "ipython3",
   "version": "3.5.2"
  }
 },
 "nbformat": 4,
 "nbformat_minor": 0
}

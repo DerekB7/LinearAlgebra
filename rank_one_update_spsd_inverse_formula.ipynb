{
 "cells": [
  {
   "cell_type": "markdown",
   "metadata": {},
   "source": [
    "For simplicity this post deals in Reals, with a particular emphasis on things like covariance matrices and Hessians.\n",
    "\n",
    "For some symmetric positive definite matrix $\\mathbf A$, and some rank one update given by $\\mathbf {xy}^T$, we have the formula \n",
    "\n",
    "$\\big(\\mathbf A + \\mathbf {xy}^T\\big)^{-1} = \\mathbf A^{-1} - \\alpha \\mathbf A^{-1} \\mathbf {xy}^T \\mathbf A^{-1}$\n",
    "\n",
    "where $\\alpha = \\frac{1}{ 1 + \\mathbf y^T \\mathbf A^{-1} \\mathbf x}$\n",
    "\n",
    "$det\\big(\\mathbf A + \\mathbf {xy}^T \\big) =  det\\big(\\mathbf A \\big)\\alpha^{-1} = \\big(\\mathbf A + \\mathbf {xy}^T\\big)$.  See my \"determinant_rank_one_update\" post for more details.  (Technically that posting was concerned with the case where $\\mathbf x = \\mathbf y$ but the analysis ultimately is the same.)\n",
    "\n",
    "**note on Singularity**  \n",
    "If $1 + \\mathbf y^T \\mathbf A^{-1} \\mathbf x = 0$, we can see that the rank one update has made $\\mathbf A$ not invertible.  Why? Notice that in the determinant formula, it would now equal zero, and also notice that $\\alpha$ is undefined.  This challenge goes away if $\\mathbf{xy}^T = \\mathbf {xx}^T$, because for some symmetric positive definite matrix $\\mathbf A$, $\\mathbf x^T \\mathbf {A}^{-1}\\mathbf x \\gt 0$ for all $\\mathbf x \\neq 0$ --and we know $\\mathbf x \\neq 0$ because such an update would be a rank zero update, not a rank one update that this post is concerned with plus it is also trivially easy to do the inversion and verify the formla : $\\big(\\mathbf A + \\mathbf {0}\\big)^{-1} = \\mathbf A^{-1} - \\alpha \\mathbf A^{-1} \\mathbf {0} \\mathbf A^{-1} = \\mathbf A^{-1}$. \n",
    "\n",
    "\n",
    "Proof:\n",
    "\n",
    "$\\big(\\mathbf A + \\mathbf {xy}^T\\big) \\big(\\mathbf A + \\mathbf {xy}^T\\big)^{-1} = \\mathbf I = \\big(\\mathbf A + \\mathbf {xy}^T\\big)\\big(\\mathbf A^{-1} - \\alpha \\mathbf A^{-1} \\mathbf {xy}^T \\mathbf A^{-1}\\big)$\n",
    "\n",
    "$\\mathbf I= \\mathbf A \\big(\\mathbf A^{-1} - \\alpha \\mathbf A^{-1} \\mathbf {xy}^T \\mathbf A^{-1}\\big) + \\mathbf {xy}^T\\big(\\mathbf A^{-1} - \\alpha \\mathbf A^{-1} \\mathbf {xy}^T \\mathbf A^{-1}\\big) $\n",
    "\n",
    "$\\mathbf I = \\mathbf I - \\alpha \\mathbf {xy}^T \\mathbf A^{-1} + \\mathbf {xy}^T\\mathbf A^{-1} - \\alpha \\mathbf {xy}^T\\mathbf A^{-1} \\mathbf {xy}^T \\mathbf A^{-1} = \\mathbf I - \\alpha \\mathbf {xy}^T \\mathbf A^{-1} + \\mathbf {xy}^T\\mathbf A^{-1} - \\alpha \\big(\\mathbf {xy}^T\\mathbf A^{-1}\\big)^2    $\n",
    "\n",
    "subtract $\\mathbf I$ from both sides and we have\n",
    "\n",
    "$\\mathbf 0 = -\\alpha \\mathbf {xy}^T \\mathbf A^{-1} + \\mathbf {xy}^T\\mathbf A^{-1} - \\alpha \\big(\\mathbf {xy}^T\\mathbf A^{-1}\\big)^2 = \\mathbf {xy}^T \\mathbf A^{-1}\\Big( (1-\\alpha) \\mathbf I - \\alpha \\big(\\mathbf {xy}^T\\mathbf A^{-1}\\big)\\Big) $\n",
    "\n",
    "where $\\mathbf {xy}^T \\mathbf A^{-1}$ is a diagonalizable rank one matrix, so long as $trace(\\mathbf {xy}^T \\mathbf A^{-1}) = trace(\\mathbf {y}^T \\mathbf A^{-1} \\mathbf x) \\neq 0$.  In the event $trace(\\mathbf {xy}^T \\mathbf A^{-1}) = 0$, we either have $\\mathbf {xy}^T \\mathbf A^{-1} = \\mathbf 0$ (and hence $\\mathbf {xy}^T \\mathbf A^{-1}$ is actually a rank zero matrix) or else $\\mathbf {xy}^T \\mathbf A^{-1}$ is defective.  The former case, while to your author's knowledge is technically not possible given our assumptions, is nevertheless covered in the below diagonalization analysis.  The defective case is covered in the Post-Script.  \n",
    "\n",
    "Thus our matrix $ \\mathbf {xy}^T \\mathbf A^{-1} = \\mathbf{PDP}^{-1}$, where all values in $\\mathbf D$ are zero, except the top left corner has $\\lambda_1 = \\mathbf{y}^T \\mathbf A^{-1} \\mathbf x$.\n",
    "\n",
    "rewriting the above equation we get:\n",
    "\n",
    "$\\mathbf 0 = \\mathbf{PDP}^{-1}\\Big( \\big(1-\\alpha\\big) \\mathbf I - \\alpha \\big(\\mathbf{PDP}^{-1}\\big)\\Big) = \\mathbf{PDP}^{-1}\\Big( \\big(1-\\alpha\\big) \\mathbf{PIP}^{-1} - \\alpha \\big(\\mathbf{PDP}^{-1}\\big)\\Big)= \\mathbf{PD}\\Big( (1-\\alpha) \\mathbf{I} - \\alpha \\big(\\mathbf{D}\\big)\\Big)\\mathbf P^{-1}$\n",
    "\n",
    "$\\mathbf 0= \\mathbf{PD}\\Big( (\\frac{\\mathbf y^T \\mathbf A^{-1} \\mathbf x}{ 1 + \\mathbf y^T \\mathbf A^{-1} \\mathbf x}) \\mathbf{I} - \\frac{1}{ 1 + \\mathbf y^T \\mathbf A^{-1} \\mathbf x} \\big(\\mathbf{D}\\big)\\Big)\\mathbf P^{-1} = \\mathbf{P}\\Big( (\\frac{\\mathbf y^T \\mathbf A^{-1} \\mathbf x}{ 1 + \\mathbf y^T \\mathbf A^{-1} \\mathbf x}) \\mathbf{D} - \\frac{1}{ 1 + \\mathbf y^T \\mathbf A^{-1} \\mathbf x} \\big(\\mathbf{D}^2\\big)\\Big)\\mathbf P^{-1} $  \n",
    "$=  \\mathbf{P}\\Big( \\frac{\\mathbf 1}{ 1 + \\mathbf y^T \\mathbf A^{-1} \\mathbf x} \\mathbf{D}^2 - \\frac{1}{ 1 + \\mathbf y^T \\mathbf A^{-1} \\mathbf x} \\mathbf{D}^2\\Big)\\mathbf P^{-1} = \\mathbf {P0P}^{-1} = \\mathbf 0 $\n",
    "\n",
    "- - - -\n",
    "Post-Script:\n",
    "\n",
    "In the special case where we have a defective rank one matrix given by $\\mathbf {xy}^T \\mathbf A^{-1}$, where the trace must be $trace(\\mathbf {xy}^T \\mathbf A^{-1}) = trace(\\mathbf {y}^T \\mathbf A^{-1} \\mathbf x) = 0$\n",
    "\n",
    "we may use the Jordan form $\\mathbf {xy}^T \\mathbf A^{-1} = \\mathbf{PJP}^{-1}$\n",
    "\n",
    "Where $\\mathbf J$ is the zero matrix, except the second item on the first row is equal to one.  Thus we see that $\\mathbf J^2 = \\mathbf 0$. In such a case our final equation becomes:  \n",
    "\n",
    "$\\mathbf 0= \\mathbf{PJ}\\Big( (\\frac{\\mathbf y^T \\mathbf A^{-1} \\mathbf x}{ 1 + \\mathbf y^T \\mathbf A^{-1} \\mathbf x}) \\mathbf{I} - \\frac{1}{ 1 + \\mathbf y^T \\mathbf A^{-1} \\mathbf x} \\big(\\mathbf{J}\\big)\\Big)\\mathbf P^{-1} = \\mathbf{P}\\Big( (\\frac{0}{ 1}) \\mathbf{J} - \\frac{1}{ 1} \\big(\\mathbf{J}^2\\big)\\Big)\\mathbf P^{-1} $  \n",
    "$=  \\mathbf{P}\\Big( 0* \\mathbf J - \\mathbf{0}\\Big)\\mathbf P^{-1} =  \\mathbf{P}\\Big( \\mathbf 0 - \\mathbf{0}\\Big)\\mathbf P^{-1} = \\mathbf {P0P}^{-1} = \\mathbf 0 $\n"
   ]
  }
 ],
 "metadata": {
  "kernelspec": {
   "display_name": "Python [py35]",
   "language": "python",
   "name": "Python [py35]"
  },
  "language_info": {
   "codemirror_mode": {
    "name": "ipython",
    "version": 3
   },
   "file_extension": ".py",
   "mimetype": "text/x-python",
   "name": "python",
   "nbconvert_exporter": "python",
   "pygments_lexer": "ipython3",
   "version": "3.5.2"
  }
 },
 "nbformat": 4,
 "nbformat_minor": 0
}

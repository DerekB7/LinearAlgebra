{
 "cells": [
  {
   "cell_type": "markdown",
   "metadata": {},
   "source": [
    "**Fermat's Little Theorem**  "
   ]
  },
  {
   "cell_type": "code",
   "execution_count": null,
   "metadata": {},
   "outputs": [],
   "source": []
  },
  {
   "cell_type": "markdown",
   "metadata": {},
   "source": [
    "**Wilson's Theorem**  "
   ]
  },
  {
   "cell_type": "code",
   "execution_count": null,
   "metadata": {},
   "outputs": [],
   "source": []
  },
  {
   "cell_type": "markdown",
   "metadata": {},
   "source": [
    "**3.Misc.8**  \n",
    "The intended solution was, supposing neither polynomial is identically zero  -- so e.g. it is understood that $x(t)^{0} = 1$, if degree $x(t) = m$ and degree $y(t) = r$ then maximal degree $x(t)^{i}y(t)^{j},0\\le i,j\\le n$ is n(r+m).  using (4.10) from page 96 of Artin 1st edition, we construct a basis \n",
    "\n",
    "$\\bigg[\\begin{array}{c|c|c|c|c}\n",
    "t^{n(r+m)} & t^{n(r+m)-1} &\\cdots & t^{1} & 1\n",
    "\\end{array}\\bigg]$   \n",
    "which is a 'hypervector' with  $n(r+m+1)$ vectors \n",
    "\n",
    "and  \n",
    "\n",
    "$W := \\bigg[\\begin{array}{c|c|c|c|c|c}\n",
    "x(t)^{0}y(t)^{0} & x(t)^{1}y(t)^{0} &\\cdots & x(t)^{n}y(t)^{0} & x(t)^{0}y(t)^{1}& x(t)^{1}y(t)^{1}& \\cdots &x(t)^{n}y(t)^{n}\n",
    "\\end{array}\\bigg]$   \n",
    "\n",
    "which has $(n+1)^2$ vectors.  Since we have basis, we can relate the two (4.11) so   \n",
    "\n",
    "$\\bigg[\\begin{array}{c|c|c|c|c}\n",
    "t^{r+m} & t^{r+m-1} &\\cdots & t^{1} & 1\n",
    "\\end{array}\\bigg]A = W$  \n",
    "\n",
    "but for $n$ large enough (say $n\\geq r+m+2$), this implies $A$ has more columns than rows, so $A$ cannot have all columns linearly independent, thus there is some $\\mathbf x \\neq \\mathbf 0$ where $A\\mathbf x = \\mathbf 0$. So  \n",
    "$\\bigg[\\begin{array}{c|c|c|c|c}\n",
    "t^{r+m} & t^{r+m-1} &\\cdots & t^{1} & 1\n",
    "\\end{array}\\bigg]A\\mathbf x = W\\mathbf x = \\mathbf 0$  \n",
    "and there is a linear dependency in $W$ i.e. amongst $x(t)^{i}y(t)^{j}$  \n",
    "\n",
    "\n",
    "\n"
   ]
  },
  {
   "cell_type": "code",
   "execution_count": null,
   "metadata": {},
   "outputs": [],
   "source": []
  },
  {
   "cell_type": "markdown",
   "metadata": {
    "collapsed": true
   },
   "source": [
    "**gram matrix approach to exercise 3.7**   \n",
    "(cyclic structure of derivative operator on cos(x) and sin(x) vs nilpotence of polynomial is a more direct and fundamental way to get the answer.  The below approach using a Gram matrix is of independent interest.)  "
   ]
  },
  {
   "cell_type": "markdown",
   "metadata": {},
   "source": [
    "$\\left(\\begin{array}{rrrrrr} \n",
    "\\int_0^1 \\cos^2(x)dx  & \\int_0^1 \\sin(x)\\cdot\\cos(x)dx & \\int_0^1 x^3 \\cdot \\cos(x)dx\\\\ \n",
    " \\int_0^1 \\sin(x)\\cdot\\cos(x)dx  & \\int_0^1 \\sin^2(x)dx & \\int_0^1 x^3 \\cdot \\sin(x)dx\\\\ \n",
    " \\int_0^1 x^3 \\cdot \\cos(x)dx & \\int_0^1 x^3 \\cdot \\sin(x)dx & \\int_0^1 x^6 dx\\\\ \n",
    "\\end{array}\\right)$   \n",
    "\n"
   ]
  },
  {
   "cell_type": "code",
   "execution_count": 19,
   "metadata": {},
   "outputs": [],
   "source": []
  },
  {
   "cell_type": "code",
   "execution_count": 1,
   "metadata": {},
   "outputs": [
    {
     "ename": "NameError",
     "evalue": "name 'integral' is not defined",
     "output_type": "error",
     "traceback": [
      "\u001b[0;31m---------------------------------------------------------------------------\u001b[0m",
      "\u001b[0;31mNameError\u001b[0m                                 Traceback (most recent call last)",
      "\u001b[0;32m<ipython-input-1-c2974344c8d9>\u001b[0m in \u001b[0;36m<module>\u001b[0;34m\u001b[0m\n\u001b[1;32m      1\u001b[0m \u001b[0;31m# the below was done in Sage\u001b[0m\u001b[0;34m\u001b[0m\u001b[0;34m\u001b[0m\u001b[0;34m\u001b[0m\u001b[0m\n\u001b[0;32m----> 2\u001b[0;31m \u001b[0mthe_list\u001b[0m \u001b[0;34m=\u001b[0m \u001b[0;34m[\u001b[0m\u001b[0mintegral\u001b[0m\u001b[0;34m(\u001b[0m\u001b[0mcos\u001b[0m\u001b[0;34m(\u001b[0m\u001b[0mx\u001b[0m\u001b[0;34m)\u001b[0m\u001b[0;34m*\u001b[0m\u001b[0mcos\u001b[0m\u001b[0;34m(\u001b[0m\u001b[0mx\u001b[0m\u001b[0;34m)\u001b[0m\u001b[0;34m,\u001b[0m \u001b[0;36m0\u001b[0m\u001b[0;34m,\u001b[0m \u001b[0;36m1\u001b[0m\u001b[0;34m)\u001b[0m\u001b[0;34m,\u001b[0m \u001b[0mintegral\u001b[0m\u001b[0;34m(\u001b[0m\u001b[0msin\u001b[0m\u001b[0;34m(\u001b[0m\u001b[0mx\u001b[0m\u001b[0;34m)\u001b[0m\u001b[0;34m*\u001b[0m\u001b[0mcos\u001b[0m\u001b[0;34m(\u001b[0m\u001b[0mx\u001b[0m\u001b[0;34m)\u001b[0m\u001b[0;34m,\u001b[0m \u001b[0;36m0\u001b[0m\u001b[0;34m,\u001b[0m \u001b[0;36m1\u001b[0m\u001b[0;34m)\u001b[0m\u001b[0;34m,\u001b[0m \u001b[0mintegral\u001b[0m\u001b[0;34m(\u001b[0m\u001b[0mx\u001b[0m\u001b[0;34m**\u001b[0m\u001b[0;36m3\u001b[0m\u001b[0;34m*\u001b[0m\u001b[0mcos\u001b[0m\u001b[0;34m(\u001b[0m\u001b[0mx\u001b[0m\u001b[0;34m)\u001b[0m\u001b[0;34m,\u001b[0m \u001b[0;36m0\u001b[0m\u001b[0;34m,\u001b[0m \u001b[0;36m1\u001b[0m\u001b[0;34m)\u001b[0m\u001b[0;34m,\u001b[0m \u001b[0mintegral\u001b[0m\u001b[0;34m(\u001b[0m\u001b[0msin\u001b[0m\u001b[0;34m(\u001b[0m\u001b[0mx\u001b[0m\u001b[0;34m)\u001b[0m\u001b[0;34m*\u001b[0m\u001b[0msin\u001b[0m\u001b[0;34m(\u001b[0m\u001b[0mx\u001b[0m\u001b[0;34m)\u001b[0m\u001b[0;34m,\u001b[0m \u001b[0;36m0\u001b[0m\u001b[0;34m,\u001b[0m \u001b[0;36m1\u001b[0m\u001b[0;34m)\u001b[0m\u001b[0;34m,\u001b[0m \u001b[0mintegral\u001b[0m\u001b[0;34m(\u001b[0m\u001b[0mx\u001b[0m\u001b[0;34m**\u001b[0m\u001b[0;36m3\u001b[0m\u001b[0;34m*\u001b[0m\u001b[0msin\u001b[0m\u001b[0;34m(\u001b[0m\u001b[0mx\u001b[0m\u001b[0;34m)\u001b[0m\u001b[0;34m,\u001b[0m \u001b[0;36m0\u001b[0m\u001b[0;34m,\u001b[0m \u001b[0;36m1\u001b[0m\u001b[0;34m)\u001b[0m\u001b[0;34m,\u001b[0m \u001b[0mintegral\u001b[0m\u001b[0;34m(\u001b[0m\u001b[0mx\u001b[0m\u001b[0;34m**\u001b[0m\u001b[0;36m6\u001b[0m\u001b[0;34m,\u001b[0m \u001b[0;36m0\u001b[0m\u001b[0;34m,\u001b[0m \u001b[0;36m1\u001b[0m\u001b[0;34m)\u001b[0m \u001b[0;34m]\u001b[0m\u001b[0;34m\u001b[0m\u001b[0;34m\u001b[0m\u001b[0m\n\u001b[0m\u001b[1;32m      3\u001b[0m \u001b[0mG\u001b[0m \u001b[0;34m=\u001b[0m \u001b[0mzero_matrix\u001b[0m\u001b[0;34m(\u001b[0m\u001b[0mSR\u001b[0m\u001b[0;34m,\u001b[0m \u001b[0;36m3\u001b[0m\u001b[0;34m,\u001b[0m\u001b[0;36m3\u001b[0m\u001b[0;34m)\u001b[0m\u001b[0;34m\u001b[0m\u001b[0;34m\u001b[0m\u001b[0m\n\u001b[1;32m      4\u001b[0m \u001b[0;34m\u001b[0m\u001b[0m\n\u001b[1;32m      5\u001b[0m \u001b[0mi\u001b[0m \u001b[0;34m=\u001b[0m \u001b[0;36m0\u001b[0m\u001b[0;34m\u001b[0m\u001b[0;34m\u001b[0m\u001b[0m\n",
      "\u001b[0;31mNameError\u001b[0m: name 'integral' is not defined"
     ]
    }
   ],
   "source": [
    "# the below was done in Sage  \n",
    "the_list = [integral(cos(x)*cos(x), 0, 1), integral(sin(x)*cos(x), 0, 1), integral(x**3*cos(x), 0, 1), integral(sin(x)*sin(x), 0, 1), integral(x**3*sin(x), 0, 1), integral(x**6, 0, 1) ]\n",
    "G = zero_matrix(SR, 3,3)\n",
    "\n",
    "i = 0\n",
    "j = i\n",
    "\n",
    "for idx in range(len(the_list)):\n",
    "    try:\n",
    "        G[i,j]= the_list[idx]\n",
    "    except IndexError:\n",
    "        i+= 1\n",
    "        j = i\n",
    "        G[i,j]= the_list[idx]\n",
    "    j += 1             \n",
    "\n",
    "G = (G + G.T)/2\n",
    "\n",
    "the_determinant = G.det()\n",
    "print(the_determinant.simplify())\n",
    "print(\" \")\n",
    "print(float(the_determinant ))\n",
    "\n"
   ]
  },
  {
   "cell_type": "code",
   "execution_count": null,
   "metadata": {
    "collapsed": true
   },
   "outputs": [],
   "source": []
  }
 ],
 "metadata": {
  "kernelspec": {
   "display_name": "Python 3",
   "language": "python",
   "name": "python3"
  },
  "language_info": {
   "codemirror_mode": {
    "name": "ipython",
    "version": 3
   },
   "file_extension": ".py",
   "mimetype": "text/x-python",
   "name": "python",
   "nbconvert_exporter": "python",
   "pygments_lexer": "ipython3",
   "version": "3.7.3"
  }
 },
 "nbformat": 4,
 "nbformat_minor": 1
}

{
 "cells": [
  {
   "cell_type": "markdown",
   "metadata": {},
   "source": [
    "# Polar Decomposition "
   ]
  },
  {
   "cell_type": "markdown",
   "metadata": {},
   "source": [
    "over an underlying scalar field $\\mathbb C$, and for simplicity make matrices $n$ x $n$ (i.e. square)\n",
    "\n",
    "The typical Polar Decomposition is:\n",
    "\n",
    "$\\mathbf A = \\mathbf{UP}$\n",
    "\n",
    "Where $\\mathbf U$ is unitary -- but unforunately this overloads the $\\mathbf U$ in the SVD-- and $\\mathbf P$ is a Hermitian Positive Semi-Definite Matrix, though this also seems notationally invonvenient as $\\mathbf P$ is generally used for a projector matrix, or a permutation matrix, or in eigen-decompositions (i.e. $\\mathbf A = \\mathbf{PDP}^{-1}$). \n",
    "- - - - \n",
    "\n",
    "To make interpretation easier, a nonstandard way to write this would be\n",
    "\n",
    "$\\mathbf A = \\mathbf {QB}$\n",
    "\n",
    "where $\\mathbf Q$ is unitary and $\\mathbf B$ is Hermitian Positive semidefinite\n",
    "\n",
    "Derivation:\n",
    "\n",
    "use SVD\n",
    "\n",
    "\n",
    "$\\mathbf A = \\mathbf U \\mathbf \\Sigma \\mathbf V^H = \\mathbf U \\big(\\mathbf I \\big) \\mathbf \\Sigma \\mathbf V^H = \\mathbf U \\big(\\mathbf V^H \\mathbf V \\big) \\mathbf \\Sigma \\mathbf V^H =\\big( \\mathbf U \\mathbf V^H\\big)\\big( \\mathbf V  \\mathbf \\Sigma \\mathbf V^H \\big) = \\mathbf Q \\mathbf B$\n"
   ]
  }
 ],
 "metadata": {
  "kernelspec": {
   "display_name": "Python [py35]",
   "language": "python",
   "name": "Python [py35]"
  },
  "language_info": {
   "codemirror_mode": {
    "name": "ipython",
    "version": 3
   },
   "file_extension": ".py",
   "mimetype": "text/x-python",
   "name": "python",
   "nbconvert_exporter": "python",
   "pygments_lexer": "ipython3",
   "version": "3.5.2"
  }
 },
 "nbformat": 4,
 "nbformat_minor": 0
}

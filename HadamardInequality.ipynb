{
 "cells": [
  {
   "cell_type": "markdown",
   "metadata": {},
   "source": [
    "Proof of Hadamard's Inequality for Hermitian positive semi-definite matrices\n",
    "(page 274, problem 20 of Kuttler's freely available \"Linear Algebra, Theory and Applications\")\n",
    "note that if you look this up under wikipedia it will be focused on something a bit different, but it will say regarding the problem I'm interested in here: \"Sometimes this is also known as Hadamard's inequality.\"\n",
    "\n",
    "\n",
    "note that in effect this proof uses Cholesky, though I prefer to go at this in a methodical way and get to Cholesky via QR factorization\n"
   ]
  },
  {
   "cell_type": "code",
   "execution_count": null,
   "metadata": {
    "collapsed": true
   },
   "outputs": [],
   "source": []
  },
  {
   "cell_type": "markdown",
   "metadata": {},
   "source": [
    "**claim: ** for some Hermitian positive semi-definite matrix, **n** x **n** matrix, $\\mathbf A$, then $det(\\mathbf A) \\leq   \\prod_{i=1}^{n} a_{i,i}$.  \n",
    "\n",
    "\n",
    "*notational note*  because $\\mathbf A$ is Hermitian, we say that $\\mathbf A^H = \\mathbf A$.  (Some texts will instead say $\\mathbf A^* = \\mathbf A$, using $^*$ instead of $^H$ to denote the conjugate transpose.)  \n",
    "\n",
    "- - - - \n",
    "\n",
    "**commentary:  **  \n",
    "Note that since all eigenvalues and diagonal entries of $\\mathbf A$ are real valued and $\\gt 0$ in the positive definite case, it seems like we may be able to use $GM \\leq AM$  here. With a little bit of care, and not knowing the Hadamard Inequality, we could bound the determinant (to the $\\frac{1}{n}$ power) of $\\mathbf A$ by the arithmetic mean of the diagonal elements of $\\mathbf A$ (i.e. $det\\big(\\mathbf A\\big)^{\\frac{1}{n}} \\leq \\ \\frac{1}{n}trace\\big(\\mathbf A\\big)$).  What the Hadamard Inequality allows us to do is bound the determinant (to the $\\frac{1}{n}$ power) of $\\mathbf A$ by the geometric mean of the diagonal elements of $\\mathbf A$.  Since $GM \\leq AM$, we know that this gives us a tigher bound.  \n",
    "\n",
    "- - - - \n",
    "\n",
    "**proof: **\n",
    "\n",
    "\n",
    "\\begin{matrix}\n",
    " \\mathbf A&  = & \\mathbf A^H &  & \\\\ \n",
    "\\mathbf x^H \\mathbf A \\mathbf x  & \\geq  & 0 &  & \\\\ \n",
    "\\mathbf A  & =  & \\mathbf R^H \\mathbf R  &  & \\\\ \n",
    "\\prod_{k=1}^{n} \\Big(a_{k,k}\\Big)& = &  \\prod_{k=1}^{n}\\Big(  \\sum_{j =1}^{n}  r^H_{k,j} r_{j,k} \\Big ) &= & \\prod_{k=1}^{n}\\Big(   \\mathbf r^H_{k,k} \\mathbf r_{k,k} + \\sum_{j \\neq k}  \\mathbf r^H_{k,j} \\mathbf r_{j,k} \\Big ) & \\\\ \n",
    "det\\big(\\mathbf A\\big) & = &  \\big(\\prod_{k=1}^{n} \\mathbf r^H_{k,k}\\big)\\big(\\prod_{k=1}^{n} \\mathbf r_{k,k}\\big)  & = & \\prod_{k=1}^{n} \\mathbf r^H_{k,k} \\mathbf r_{k,k}\\\\ \n",
    "where &  &  &  & \\\\ \n",
    " \\mathbf r^H_{k,k} \\mathbf r_{k,k}& \\geq  & 0  &  & \\\\ \n",
    " \\ \\mathbf r^H_{k,j} \\mathbf r_{j,k}& = & \\Big\\vert \\mathbf r_{j,k} \\Big \\vert^2  & \\geq & 0 \\\\  \n",
    " \\sum_{j \\neq k}  \\mathbf r^H_{k,j} \\mathbf r_{j,k}&\\geq  &0  &  & \\\\ \n",
    " det(\\mathbf A)&=  & \\prod_{k=1}^{n} \\mathbf r^H_{k,k} \\mathbf r_{k,k} & \\leq  & \\prod_{k=1}^{n}\\Big(   \\mathbf r^H_{k,k} \\mathbf r_{k,k} + \\sum_{j \\neq k}  \\mathbf r^H_{k,j} \\mathbf r_{j,k} \\Big )\\\\ \n",
    "Thus &  &  &  & \\\\ \n",
    " det(\\mathbf A) & \\leq  &  \\prod_{k=1}^{n} a_{k,k}&  & \\\\ \n",
    " &  &  &  & \n",
    "\\end{matrix}\n",
    "\n",
    "\n",
    "With equality **iff** $\\mathbf A$ is diagonal, or one of the elements along the diagonal of $\\mathbf A$ is equal to zero (and hence the determinant is zero).\n"
   ]
  },
  {
   "cell_type": "code",
   "execution_count": null,
   "metadata": {
    "collapsed": true
   },
   "outputs": [],
   "source": []
  },
  {
   "cell_type": "code",
   "execution_count": null,
   "metadata": {
    "collapsed": true
   },
   "outputs": [],
   "source": []
  }
 ],
 "metadata": {
  "kernelspec": {
   "display_name": "Python [py35]",
   "language": "python",
   "name": "Python [py35]"
  },
  "language_info": {
   "codemirror_mode": {
    "name": "ipython",
    "version": 3
   },
   "file_extension": ".py",
   "mimetype": "text/x-python",
   "name": "python",
   "nbconvert_exporter": "python",
   "pygments_lexer": "ipython3",
   "version": "3.5.2"
  }
 },
 "nbformat": 4,
 "nbformat_minor": 0
}

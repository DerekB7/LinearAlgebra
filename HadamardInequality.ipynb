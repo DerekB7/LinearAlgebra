{
 "cells": [
  {
   "cell_type": "markdown",
   "metadata": {},
   "source": [
    "Proof of Hadamard's Inequality for Hermitian positive semi-definite matrices\n",
    "(page 274, problem 20 of Kuttler's freely available *Linear Algebra, Theory and Applications*)\n",
    "note that if you look this up under wikipedia it will be focused on something a bit different, but it will say regarding the problem of interest here:  \"Sometimes this is also known as Hadamard's inequality.\"\n",
    "\n",
    "There is some further interesting commentary on this inequality in Meyer's *Matrix Analysis* especially as it relates to geometric interpretations"
   ]
  },
  {
   "cell_type": "code",
   "execution_count": null,
   "metadata": {
    "collapsed": true
   },
   "outputs": [],
   "source": []
  },
  {
   "cell_type": "markdown",
   "metadata": {},
   "source": [
    "**claim: ** for some Hermitian positive semi-definite matrix, **n** x **n** matrix, $\\mathbf A$, then $det(\\mathbf A) \\leq   \\prod_{i=1}^{n} a_{i,i}$.  \n",
    "\n",
    "\n",
    "*notational note*  because $\\mathbf A$ is Hermitian, we say that $\\mathbf A^H = \\mathbf A$.  (Some texts will instead say $\\mathbf A^* = \\mathbf A$, using $^*$ instead of $^H$ to denote the conjugate transpose.)  \n",
    "\n",
    "- - - - \n",
    "\n",
    "**commentary:  **  \n",
    "\n",
    "This inequality has two diffferent interesting links with other inequalities in general math:\n",
    "\n",
    "(a) One interpretation of this problem is that it allows an intersesting extension and linkage of the $GM \\leq AM$ inequality.  Note that since all eigenvalues and diagonal entries of $\\mathbf A$ are real valued and $\\geq 0$, it seems like we may be able to use $GM \\leq AM$  here. Not knowing the Hadamard Inequality, we could upper bound the determinant (to the $\\frac{1}{n}$ power) of $\\mathbf A$ --i.e. the product of the eigenvalues-- by the arithmetic mean of the eigenvalues which is also equal to the arithmetic mean of the diagonal elements of $\\mathbf A$ (i.e. $det\\big(\\mathbf A\\big)^{\\frac{1}{n}} \\leq \\ \\frac{1}{n}trace\\big(\\mathbf A\\big)$).  What the Hadamard Inequality allows us to do is bound the determinant (to the $\\frac{1}{n}$ power) of $\\mathbf A$ by the geometric mean of the diagonal elements of $\\mathbf A$.  Since $GM \\leq AM$, we know that this gives us a tigher bound.  I.e. It allows us to say \n",
    "\n",
    "$det\\big(\\mathbf A\\big)^{\\frac{1}{n}} \\leq \\big(\\prod_{k=1}^{n} a_{k,k}\\big)^{\\frac{1}{n}} \\leq \\frac{1}{n} \\big(\\sum_{k=1}^{n} a_{k,k}\\big) = \\frac{1}{n}trace\\big(\\mathbf A\\big) = \\frac{1}{n}\\sum_{k=1}^n \\lambda_k$\n",
    "\n",
    "(b) Assume we have some square matrix $\\mathbf B$, where $\\mathbf B^H \\mathbf B := \\mathbf A$, what this inequality says, is that from a geometric perspective, if we look at the diagonal of $\\mathbf A$, we see the squared lengths of each respective column of $\\mathbf B$ in each diagonal entry of $\\mathbf A$.  The underlying geometry is that the squared magnitude of the determinant of $\\mathbf B$ --i.e. given by $det \\big(\\mathbf A\\big)$ -- cannot be any bigger than the product of squared lengths of each column of $\\mathbf B$ -- and we have equality **iff** each column of $\\mathbf B$ is orthogonal to each other --resulting in a diagonal matrix $\\mathbf A$ (or in the degenerate case where $\\mathbf B$ has at least one column of zeros and hence it doesn't have enough column vectors with positive length to even try to form a parallelepiped that matches its dimensions).\n",
    "\n",
    "- - - - \n",
    "**proof: **\n",
    "\n",
    "where we have an upper triangular matrix $\\mathbf R = \\bigg[\\begin{array}{c|c|c|c}\\mathbf r_1 & \\mathbf r_2 &\\cdots & \\mathbf r_{n}\\end{array}\\bigg]$, and using Cholesky (or $\\mathbf A = \\mathbf B^H\\mathbf B$ and doing QR factorization on $\\mathbf B$), we can factorize $\\mathbf A = \\mathbf R^H \\mathbf R$\n",
    "\n",
    "- - - -\n",
    "\\begin{matrix}\n",
    " \\mathbf A&  = & \\mathbf A^H &  & \\\\ \n",
    "\\mathbf x^H \\mathbf A \\mathbf x  & \\geq  & 0 &  & \\\\ \n",
    "\\mathbf A  & =  & \\mathbf R^H \\mathbf R  &  & \\\\  \n",
    "det\\big(\\mathbf A\\big) & = &det\\big(\\mathbf R^H \\mathbf R \\big) & = &  det\\big(\\mathbf R^H\\big) det\\big(\\mathbf R \\big)\\\\ \n",
    "det\\big(\\mathbf A\\big) & = & \\Big(\\prod_{k=1}^{n}  \\bar{r}_{k,k}\\Big)\\Big(\\prod_{k=1}^{n}  r_{k,k}\\Big) & = &  \\prod_{k=1}^{n}  \\big \\vert r_{k,k}\\big \\vert^2\\\\ \n",
    "\\prod_{k=1}^{n} \\Big(a_{k,k}\\Big)& = &  \\prod_{k=1}^{n} \\big \\Vert \\mathbf r_k\\big \\Vert_2^2\\\\\n",
    "where &  &  &  & \\\\ \n",
    "   0 & \\leq & \\big \\vert r_{k,k}\\big \\vert^2  & \\leq & \\big \\Vert \\mathbf r_k\\big \\Vert_2^2 \\\\  \n",
    "  det \\big(\\mathbf A \\big) & \\leq  & \\prod_{k=1}^{n} a_{k,k} &  & \\\\ \n",
    " &  &  &  & \n",
    "\\end{matrix}\n",
    "\n",
    "\n",
    "\n",
    "With equality **iff** $\\mathbf A$ is diagonal, or one of the elements along the diagonal of $\\mathbf A$ is equal to zero (and hence the determinant is zero).\n"
   ]
  },
  {
   "cell_type": "code",
   "execution_count": null,
   "metadata": {
    "collapsed": true
   },
   "outputs": [],
   "source": []
  }
 ],
 "metadata": {
  "kernelspec": {
   "display_name": "Python [py35]",
   "language": "python",
   "name": "Python [py35]"
  },
  "language_info": {
   "codemirror_mode": {
    "name": "ipython",
    "version": 3
   },
   "file_extension": ".py",
   "mimetype": "text/x-python",
   "name": "python",
   "nbconvert_exporter": "python",
   "pygments_lexer": "ipython3",
   "version": "3.5.2"
  }
 },
 "nbformat": 4,
 "nbformat_minor": 0
}
